{
 "cells": [
  {
   "cell_type": "code",
   "execution_count": 1,
   "id": "0dbff414",
   "metadata": {},
   "outputs": [],
   "source": [
    "# Baixando as bibliotecas necessarias para o script\n",
    "import pandas as pd\n",
    "pd.set_option('mode.chained_assignment', None)\n",
    "import numpy as np\n",
    "import datetime as dt\n",
    "import matplotlib.pyplot as plt\n",
    "import seaborn as sns"
   ]
  },
  {
   "cell_type": "code",
   "execution_count": 2,
   "id": "27a8e66d",
   "metadata": {},
   "outputs": [],
   "source": [
    "# Importando a base de dados\n",
    "df_base = pd.read_excel('Dados.xlsx')"
   ]
  },
  {
   "cell_type": "code",
   "execution_count": 3,
   "id": "48724757",
   "metadata": {
    "scrolled": true
   },
   "outputs": [
    {
     "data": {
      "text/html": [
       "<div>\n",
       "<style scoped>\n",
       "    .dataframe tbody tr th:only-of-type {\n",
       "        vertical-align: middle;\n",
       "    }\n",
       "\n",
       "    .dataframe tbody tr th {\n",
       "        vertical-align: top;\n",
       "    }\n",
       "\n",
       "    .dataframe thead th {\n",
       "        text-align: right;\n",
       "    }\n",
       "</style>\n",
       "<table border=\"1\" class=\"dataframe\">\n",
       "  <thead>\n",
       "    <tr style=\"text-align: right;\">\n",
       "      <th></th>\n",
       "      <th>Data</th>\n",
       "      <th>Vendas</th>\n",
       "    </tr>\n",
       "  </thead>\n",
       "  <tbody>\n",
       "    <tr>\n",
       "      <th>0</th>\n",
       "      <td>2022-12-06</td>\n",
       "      <td>870</td>\n",
       "    </tr>\n",
       "    <tr>\n",
       "      <th>1</th>\n",
       "      <td>2022-12-07</td>\n",
       "      <td>868</td>\n",
       "    </tr>\n",
       "    <tr>\n",
       "      <th>2</th>\n",
       "      <td>2022-12-08</td>\n",
       "      <td>1189</td>\n",
       "    </tr>\n",
       "    <tr>\n",
       "      <th>3</th>\n",
       "      <td>2022-12-09</td>\n",
       "      <td>742</td>\n",
       "    </tr>\n",
       "    <tr>\n",
       "      <th>4</th>\n",
       "      <td>2022-12-10</td>\n",
       "      <td>317</td>\n",
       "    </tr>\n",
       "  </tbody>\n",
       "</table>\n",
       "</div>"
      ],
      "text/plain": [
       "        Data  Vendas\n",
       "0 2022-12-06     870\n",
       "1 2022-12-07     868\n",
       "2 2022-12-08    1189\n",
       "3 2022-12-09     742\n",
       "4 2022-12-10     317"
      ]
     },
     "execution_count": 3,
     "metadata": {},
     "output_type": "execute_result"
    }
   ],
   "source": [
    "# Verificando o Dataframe\n",
    "df_base.head(5)"
   ]
  },
  {
   "cell_type": "code",
   "execution_count": 4,
   "id": "70a9d349",
   "metadata": {},
   "outputs": [
    {
     "name": "stdout",
     "output_type": "stream",
     "text": [
      "<class 'pandas.core.frame.DataFrame'>\n",
      "RangeIndex: 46 entries, 0 to 45\n",
      "Data columns (total 2 columns):\n",
      " #   Column  Non-Null Count  Dtype         \n",
      "---  ------  --------------  -----         \n",
      " 0   Data    46 non-null     datetime64[ns]\n",
      " 1   Vendas  46 non-null     int64         \n",
      "dtypes: datetime64[ns](1), int64(1)\n",
      "memory usage: 864.0 bytes\n"
     ]
    }
   ],
   "source": [
    "# Verficando o tipo dos dados\n",
    "df_base.info()"
   ]
  },
  {
   "cell_type": "code",
   "execution_count": 5,
   "id": "8ab82099",
   "metadata": {},
   "outputs": [
    {
     "data": {
      "text/html": [
       "<div>\n",
       "<style scoped>\n",
       "    .dataframe tbody tr th:only-of-type {\n",
       "        vertical-align: middle;\n",
       "    }\n",
       "\n",
       "    .dataframe tbody tr th {\n",
       "        vertical-align: top;\n",
       "    }\n",
       "\n",
       "    .dataframe thead th {\n",
       "        text-align: right;\n",
       "    }\n",
       "</style>\n",
       "<table border=\"1\" class=\"dataframe\">\n",
       "  <thead>\n",
       "    <tr style=\"text-align: right;\">\n",
       "      <th></th>\n",
       "      <th>Data</th>\n",
       "      <th>Vendas</th>\n",
       "      <th>dia</th>\n",
       "      <th>mes</th>\n",
       "    </tr>\n",
       "  </thead>\n",
       "  <tbody>\n",
       "    <tr>\n",
       "      <th>0</th>\n",
       "      <td>2022-12-06</td>\n",
       "      <td>870</td>\n",
       "      <td>6</td>\n",
       "      <td>12</td>\n",
       "    </tr>\n",
       "    <tr>\n",
       "      <th>1</th>\n",
       "      <td>2022-12-07</td>\n",
       "      <td>868</td>\n",
       "      <td>7</td>\n",
       "      <td>12</td>\n",
       "    </tr>\n",
       "    <tr>\n",
       "      <th>2</th>\n",
       "      <td>2022-12-08</td>\n",
       "      <td>1189</td>\n",
       "      <td>8</td>\n",
       "      <td>12</td>\n",
       "    </tr>\n",
       "    <tr>\n",
       "      <th>3</th>\n",
       "      <td>2022-12-09</td>\n",
       "      <td>742</td>\n",
       "      <td>9</td>\n",
       "      <td>12</td>\n",
       "    </tr>\n",
       "    <tr>\n",
       "      <th>4</th>\n",
       "      <td>2022-12-10</td>\n",
       "      <td>317</td>\n",
       "      <td>10</td>\n",
       "      <td>12</td>\n",
       "    </tr>\n",
       "  </tbody>\n",
       "</table>\n",
       "</div>"
      ],
      "text/plain": [
       "        Data  Vendas  dia  mes\n",
       "0 2022-12-06     870    6   12\n",
       "1 2022-12-07     868    7   12\n",
       "2 2022-12-08    1189    8   12\n",
       "3 2022-12-09     742    9   12\n",
       "4 2022-12-10     317   10   12"
      ]
     },
     "execution_count": 5,
     "metadata": {},
     "output_type": "execute_result"
    }
   ],
   "source": [
    "# Criando colunas para separar o dia e o mes\n",
    "df = df_base.copy()\n",
    "df['dia'] = df_base['Data'].dt.day\n",
    "df['mes'] = df_base['Data'].dt.month\n",
    "df.head(5)"
   ]
  },
  {
   "cell_type": "code",
   "execution_count": 6,
   "id": "c97f6f44",
   "metadata": {},
   "outputs": [],
   "source": [
    "# Criando um loop para adcionar o dia da semana e seu numero\n",
    "dia_semana_num = []\n",
    "dia_semana_nome = []\n",
    "\n",
    "for i in df.Data:\n",
    "    temp = pd.Timestamp(i)\n",
    "    dia_semana_num.append(temp.dayofweek)\n",
    "    dia_semana_nome.append(temp.day_name())\n",
    "    \n",
    "# Anexando\n",
    "df['dia_semana_num'] = dia_semana_num\n",
    "df['dia_semana_nome'] = dia_semana_nome"
   ]
  },
  {
   "cell_type": "code",
   "execution_count": 7,
   "id": "fc795320",
   "metadata": {},
   "outputs": [],
   "source": [
    "# Criando um loop for pra destacar as semanas da base de dados\n",
    "semana = []\n",
    "x = df['Data'].dt.to_period('W-SUN')\n",
    "num = 1\n",
    "\n",
    "for i in range(len(x)):\n",
    "    if x[i] == x[0] or x[i] == x[i-1]:\n",
    "        semana.append(num)\n",
    "    else:\n",
    "        num += 1\n",
    "        semana.append(num)   "
   ]
  },
  {
   "cell_type": "code",
   "execution_count": 8,
   "id": "982c60ca",
   "metadata": {},
   "outputs": [],
   "source": [
    "# Adcionando a semana ao Dataframe\n",
    "df['semana']= semana"
   ]
  },
  {
   "cell_type": "code",
   "execution_count": 9,
   "id": "ef7ac0cd",
   "metadata": {
    "scrolled": true
   },
   "outputs": [
    {
     "data": {
      "text/html": [
       "<div>\n",
       "<style scoped>\n",
       "    .dataframe tbody tr th:only-of-type {\n",
       "        vertical-align: middle;\n",
       "    }\n",
       "\n",
       "    .dataframe tbody tr th {\n",
       "        vertical-align: top;\n",
       "    }\n",
       "\n",
       "    .dataframe thead th {\n",
       "        text-align: right;\n",
       "    }\n",
       "</style>\n",
       "<table border=\"1\" class=\"dataframe\">\n",
       "  <thead>\n",
       "    <tr style=\"text-align: right;\">\n",
       "      <th></th>\n",
       "      <th>Data</th>\n",
       "      <th>dia</th>\n",
       "      <th>semana</th>\n",
       "      <th>mes</th>\n",
       "      <th>dia_semana_num</th>\n",
       "      <th>dia_semana_nome</th>\n",
       "      <th>Vendas</th>\n",
       "    </tr>\n",
       "  </thead>\n",
       "  <tbody>\n",
       "    <tr>\n",
       "      <th>0</th>\n",
       "      <td>2022-12-06</td>\n",
       "      <td>6</td>\n",
       "      <td>1</td>\n",
       "      <td>12</td>\n",
       "      <td>1</td>\n",
       "      <td>Tuesday</td>\n",
       "      <td>870</td>\n",
       "    </tr>\n",
       "    <tr>\n",
       "      <th>1</th>\n",
       "      <td>2022-12-07</td>\n",
       "      <td>7</td>\n",
       "      <td>1</td>\n",
       "      <td>12</td>\n",
       "      <td>2</td>\n",
       "      <td>Wednesday</td>\n",
       "      <td>868</td>\n",
       "    </tr>\n",
       "    <tr>\n",
       "      <th>2</th>\n",
       "      <td>2022-12-08</td>\n",
       "      <td>8</td>\n",
       "      <td>1</td>\n",
       "      <td>12</td>\n",
       "      <td>3</td>\n",
       "      <td>Thursday</td>\n",
       "      <td>1189</td>\n",
       "    </tr>\n",
       "    <tr>\n",
       "      <th>3</th>\n",
       "      <td>2022-12-09</td>\n",
       "      <td>9</td>\n",
       "      <td>1</td>\n",
       "      <td>12</td>\n",
       "      <td>4</td>\n",
       "      <td>Friday</td>\n",
       "      <td>742</td>\n",
       "    </tr>\n",
       "    <tr>\n",
       "      <th>4</th>\n",
       "      <td>2022-12-10</td>\n",
       "      <td>10</td>\n",
       "      <td>1</td>\n",
       "      <td>12</td>\n",
       "      <td>5</td>\n",
       "      <td>Saturday</td>\n",
       "      <td>317</td>\n",
       "    </tr>\n",
       "  </tbody>\n",
       "</table>\n",
       "</div>"
      ],
      "text/plain": [
       "        Data  dia  semana  mes  dia_semana_num dia_semana_nome  Vendas\n",
       "0 2022-12-06    6       1   12               1         Tuesday     870\n",
       "1 2022-12-07    7       1   12               2       Wednesday     868\n",
       "2 2022-12-08    8       1   12               3        Thursday    1189\n",
       "3 2022-12-09    9       1   12               4          Friday     742\n",
       "4 2022-12-10   10       1   12               5        Saturday     317"
      ]
     },
     "execution_count": 9,
     "metadata": {},
     "output_type": "execute_result"
    }
   ],
   "source": [
    "# Reordenando as colunas do DataFrame\n",
    "df = df.reindex(columns=['Data','dia','semana','mes','dia_semana_num','dia_semana_nome','Vendas'])\n",
    "df.head()"
   ]
  },
  {
   "cell_type": "code",
   "execution_count": 10,
   "id": "890d6ea8",
   "metadata": {
    "scrolled": true
   },
   "outputs": [
    {
     "data": {
      "text/html": [
       "<div>\n",
       "<style scoped>\n",
       "    .dataframe tbody tr th:only-of-type {\n",
       "        vertical-align: middle;\n",
       "    }\n",
       "\n",
       "    .dataframe tbody tr th {\n",
       "        vertical-align: top;\n",
       "    }\n",
       "\n",
       "    .dataframe thead th {\n",
       "        text-align: right;\n",
       "    }\n",
       "</style>\n",
       "<table border=\"1\" class=\"dataframe\">\n",
       "  <thead>\n",
       "    <tr style=\"text-align: right;\">\n",
       "      <th></th>\n",
       "      <th>count</th>\n",
       "      <th>mean</th>\n",
       "      <th>std</th>\n",
       "      <th>min</th>\n",
       "      <th>25%</th>\n",
       "      <th>50%</th>\n",
       "      <th>75%</th>\n",
       "      <th>max</th>\n",
       "    </tr>\n",
       "    <tr>\n",
       "      <th>dia_semana_num</th>\n",
       "      <th></th>\n",
       "      <th></th>\n",
       "      <th></th>\n",
       "      <th></th>\n",
       "      <th></th>\n",
       "      <th></th>\n",
       "      <th></th>\n",
       "      <th></th>\n",
       "    </tr>\n",
       "  </thead>\n",
       "  <tbody>\n",
       "    <tr>\n",
       "      <th>0</th>\n",
       "      <td>6.0</td>\n",
       "      <td>1176.666667</td>\n",
       "      <td>345.015748</td>\n",
       "      <td>814.0</td>\n",
       "      <td>878.25</td>\n",
       "      <td>1183.5</td>\n",
       "      <td>1353.75</td>\n",
       "      <td>1692.0</td>\n",
       "    </tr>\n",
       "    <tr>\n",
       "      <th>1</th>\n",
       "      <td>7.0</td>\n",
       "      <td>849.857143</td>\n",
       "      <td>231.254858</td>\n",
       "      <td>572.0</td>\n",
       "      <td>695.00</td>\n",
       "      <td>807.0</td>\n",
       "      <td>983.50</td>\n",
       "      <td>1213.0</td>\n",
       "    </tr>\n",
       "    <tr>\n",
       "      <th>2</th>\n",
       "      <td>7.0</td>\n",
       "      <td>862.000000</td>\n",
       "      <td>276.370524</td>\n",
       "      <td>429.0</td>\n",
       "      <td>728.50</td>\n",
       "      <td>868.0</td>\n",
       "      <td>989.00</td>\n",
       "      <td>1302.0</td>\n",
       "    </tr>\n",
       "    <tr>\n",
       "      <th>3</th>\n",
       "      <td>7.0</td>\n",
       "      <td>1154.000000</td>\n",
       "      <td>259.863426</td>\n",
       "      <td>638.0</td>\n",
       "      <td>1099.00</td>\n",
       "      <td>1229.0</td>\n",
       "      <td>1304.00</td>\n",
       "      <td>1405.0</td>\n",
       "    </tr>\n",
       "    <tr>\n",
       "      <th>4</th>\n",
       "      <td>7.0</td>\n",
       "      <td>622.285714</td>\n",
       "      <td>388.673262</td>\n",
       "      <td>18.0</td>\n",
       "      <td>424.00</td>\n",
       "      <td>821.0</td>\n",
       "      <td>862.00</td>\n",
       "      <td>945.0</td>\n",
       "    </tr>\n",
       "    <tr>\n",
       "      <th>5</th>\n",
       "      <td>6.0</td>\n",
       "      <td>209.833333</td>\n",
       "      <td>129.388433</td>\n",
       "      <td>40.0</td>\n",
       "      <td>100.50</td>\n",
       "      <td>264.5</td>\n",
       "      <td>310.00</td>\n",
       "      <td>319.0</td>\n",
       "    </tr>\n",
       "    <tr>\n",
       "      <th>6</th>\n",
       "      <td>6.0</td>\n",
       "      <td>335.666667</td>\n",
       "      <td>242.688003</td>\n",
       "      <td>67.0</td>\n",
       "      <td>166.75</td>\n",
       "      <td>276.0</td>\n",
       "      <td>503.75</td>\n",
       "      <td>685.0</td>\n",
       "    </tr>\n",
       "  </tbody>\n",
       "</table>\n",
       "</div>"
      ],
      "text/plain": [
       "                count         mean         std    min      25%     50%  \\\n",
       "dia_semana_num                                                           \n",
       "0                 6.0  1176.666667  345.015748  814.0   878.25  1183.5   \n",
       "1                 7.0   849.857143  231.254858  572.0   695.00   807.0   \n",
       "2                 7.0   862.000000  276.370524  429.0   728.50   868.0   \n",
       "3                 7.0  1154.000000  259.863426  638.0  1099.00  1229.0   \n",
       "4                 7.0   622.285714  388.673262   18.0   424.00   821.0   \n",
       "5                 6.0   209.833333  129.388433   40.0   100.50   264.5   \n",
       "6                 6.0   335.666667  242.688003   67.0   166.75   276.0   \n",
       "\n",
       "                    75%     max  \n",
       "dia_semana_num                   \n",
       "0               1353.75  1692.0  \n",
       "1                983.50  1213.0  \n",
       "2                989.00  1302.0  \n",
       "3               1304.00  1405.0  \n",
       "4                862.00   945.0  \n",
       "5                310.00   319.0  \n",
       "6                503.75   685.0  "
      ]
     },
     "execution_count": 10,
     "metadata": {},
     "output_type": "execute_result"
    }
   ],
   "source": [
    "# Verificando as medidas basicas para as vendas por dia da semana\n",
    "df.groupby('dia_semana_num')['Vendas'].describe()"
   ]
  },
  {
   "cell_type": "code",
   "execution_count": 11,
   "id": "29ea667a",
   "metadata": {
    "scrolled": true
   },
   "outputs": [
    {
     "data": {
      "text/html": [
       "<div>\n",
       "<style scoped>\n",
       "    .dataframe tbody tr th:only-of-type {\n",
       "        vertical-align: middle;\n",
       "    }\n",
       "\n",
       "    .dataframe tbody tr th {\n",
       "        vertical-align: top;\n",
       "    }\n",
       "\n",
       "    .dataframe thead th {\n",
       "        text-align: right;\n",
       "    }\n",
       "</style>\n",
       "<table border=\"1\" class=\"dataframe\">\n",
       "  <thead>\n",
       "    <tr style=\"text-align: right;\">\n",
       "      <th></th>\n",
       "      <th>count</th>\n",
       "      <th>mean</th>\n",
       "      <th>std</th>\n",
       "      <th>min</th>\n",
       "      <th>25%</th>\n",
       "      <th>50%</th>\n",
       "      <th>75%</th>\n",
       "      <th>max</th>\n",
       "    </tr>\n",
       "    <tr>\n",
       "      <th>semana</th>\n",
       "      <th></th>\n",
       "      <th></th>\n",
       "      <th></th>\n",
       "      <th></th>\n",
       "      <th></th>\n",
       "      <th></th>\n",
       "      <th></th>\n",
       "      <th></th>\n",
       "    </tr>\n",
       "  </thead>\n",
       "  <tbody>\n",
       "    <tr>\n",
       "      <th>1</th>\n",
       "      <td>6.0</td>\n",
       "      <td>778.500000</td>\n",
       "      <td>285.639458</td>\n",
       "      <td>317.0</td>\n",
       "      <td>699.25</td>\n",
       "      <td>805.0</td>\n",
       "      <td>869.5</td>\n",
       "      <td>1189.0</td>\n",
       "    </tr>\n",
       "    <tr>\n",
       "      <th>2</th>\n",
       "      <td>7.0</td>\n",
       "      <td>897.714286</td>\n",
       "      <td>486.108943</td>\n",
       "      <td>235.0</td>\n",
       "      <td>536.00</td>\n",
       "      <td>1055.0</td>\n",
       "      <td>1278.0</td>\n",
       "      <td>1366.0</td>\n",
       "    </tr>\n",
       "    <tr>\n",
       "      <th>3</th>\n",
       "      <td>7.0</td>\n",
       "      <td>520.000000</td>\n",
       "      <td>464.532023</td>\n",
       "      <td>18.0</td>\n",
       "      <td>53.50</td>\n",
       "      <td>711.0</td>\n",
       "      <td>877.0</td>\n",
       "      <td>1050.0</td>\n",
       "    </tr>\n",
       "    <tr>\n",
       "      <th>4</th>\n",
       "      <td>7.0</td>\n",
       "      <td>394.857143</td>\n",
       "      <td>298.834641</td>\n",
       "      <td>54.0</td>\n",
       "      <td>125.00</td>\n",
       "      <td>429.0</td>\n",
       "      <td>605.0</td>\n",
       "      <td>821.0</td>\n",
       "    </tr>\n",
       "    <tr>\n",
       "      <th>5</th>\n",
       "      <td>7.0</td>\n",
       "      <td>698.714286</td>\n",
       "      <td>316.201789</td>\n",
       "      <td>317.0</td>\n",
       "      <td>499.00</td>\n",
       "      <td>712.0</td>\n",
       "      <td>817.5</td>\n",
       "      <td>1229.0</td>\n",
       "    </tr>\n",
       "    <tr>\n",
       "      <th>6</th>\n",
       "      <td>7.0</td>\n",
       "      <td>865.571429</td>\n",
       "      <td>363.532602</td>\n",
       "      <td>289.0</td>\n",
       "      <td>686.50</td>\n",
       "      <td>892.0</td>\n",
       "      <td>1094.0</td>\n",
       "      <td>1317.0</td>\n",
       "    </tr>\n",
       "    <tr>\n",
       "      <th>7</th>\n",
       "      <td>5.0</td>\n",
       "      <td>1288.200000</td>\n",
       "      <td>287.763271</td>\n",
       "      <td>945.0</td>\n",
       "      <td>1097.00</td>\n",
       "      <td>1302.0</td>\n",
       "      <td>1405.0</td>\n",
       "      <td>1692.0</td>\n",
       "    </tr>\n",
       "  </tbody>\n",
       "</table>\n",
       "</div>"
      ],
      "text/plain": [
       "        count         mean         std    min      25%     50%     75%     max\n",
       "semana                                                                        \n",
       "1         6.0   778.500000  285.639458  317.0   699.25   805.0   869.5  1189.0\n",
       "2         7.0   897.714286  486.108943  235.0   536.00  1055.0  1278.0  1366.0\n",
       "3         7.0   520.000000  464.532023   18.0    53.50   711.0   877.0  1050.0\n",
       "4         7.0   394.857143  298.834641   54.0   125.00   429.0   605.0   821.0\n",
       "5         7.0   698.714286  316.201789  317.0   499.00   712.0   817.5  1229.0\n",
       "6         7.0   865.571429  363.532602  289.0   686.50   892.0  1094.0  1317.0\n",
       "7         5.0  1288.200000  287.763271  945.0  1097.00  1302.0  1405.0  1692.0"
      ]
     },
     "execution_count": 11,
     "metadata": {},
     "output_type": "execute_result"
    }
   ],
   "source": [
    "# Verificando as medidas basicas para as vendas por semana\n",
    "df.groupby('semana')['Vendas'].describe()"
   ]
  },
  {
   "cell_type": "markdown",
   "id": "a9f1fa1d",
   "metadata": {},
   "source": [
    "## Realizando algumas verficações por gráficos"
   ]
  },
  {
   "cell_type": "code",
   "execution_count": 12,
   "id": "7b8ea503",
   "metadata": {},
   "outputs": [
    {
     "data": {
      "image/png": "[encoded data removed]",
      "text/plain": [
       "<Figure size 800x600 with 1 Axes>"
      ]
     },
     "metadata": {},
     "output_type": "display_data"
    }
   ],
   "source": [
    "# Criando um plot pra verificar a existência de outliers nos dias da semana\n",
    "sns.set_theme(style=\"ticks\", palette=\"pastel\")\n",
    "fig, ax = plt.subplots(figsize=(8,6))\n",
    "\n",
    "# plot\n",
    "\n",
    "sns.boxplot(x = df.dia_semana_nome, y = df.Vendas, data=df)\n",
    "sns.despine(offset=10, trim=True)\n",
    "ax.xaxis.set_label_text(\"Dia da semana\")\n",
    "ax.yaxis.set_label_text(\"Vendas\")\n",
    "plt.show()"
   ]
  },
  {
   "cell_type": "markdown",
   "id": "ef1727cc",
   "metadata": {},
   "source": [
    "Nota-se que, em geral, os dados não possuem extremidades e os valores estão dentro da linha de correção"
   ]
  },
  {
   "cell_type": "code",
   "execution_count": 13,
   "id": "836d6ba5",
   "metadata": {
    "scrolled": true
   },
   "outputs": [
    {
     "data": {
      "image/png": "[encoded data removed]",
      "text/plain": [
       "<Figure size 900x600 with 1 Axes>"
      ]
     },
     "metadata": {},
     "output_type": "display_data"
    }
   ],
   "source": [
    "# Criando um gráfico para a distribuição de vendas ao longo dos dias da semana\n",
    "\n",
    "sns.catplot(x=\"dia_semana_nome\", y=\"Vendas\", data=df, kind=\"bar\", palette=\"BuPu\",\n",
    "            height=6, aspect=1.5)\n",
    "sns.despine(offset=10, trim=True)\n",
    "plt.show()"
   ]
  },
  {
   "cell_type": "markdown",
   "id": "dac9a1d3",
   "metadata": {},
   "source": [
    "Pelo gráfico, conseguimos notar que os melhores dias de venda são quinta e segunda"
   ]
  },
  {
   "cell_type": "markdown",
   "id": "70e25c6c",
   "metadata": {},
   "source": [
    "## Verificando se existe disparidade entre as semanas do mês"
   ]
  },
  {
   "cell_type": "code",
   "execution_count": 14,
   "id": "a95d67f3",
   "metadata": {
    "scrolled": true
   },
   "outputs": [
    {
     "data": {
      "image/png": "[encoded data removed]",
      "text/plain": [
       "<Figure size 900x600 with 1 Axes>"
      ]
     },
     "metadata": {},
     "output_type": "display_data"
    }
   ],
   "source": [
    "# Criando um gráfico para ver a distribuição por semana\n",
    "g = sns.catplot(x=\"semana\", y=\"Vendas\", data=df, kind=\"bar\", palette=\"BuPu\",\n",
    "            height=6, aspect=1.5)\n",
    "g.despine(left=True)\n",
    "g.set_axis_labels(\"\", 'Total de Vendas')\n",
    "plt.show()"
   ]
  },
  {
   "cell_type": "markdown",
   "id": "3c646101",
   "metadata": {},
   "source": [
    "# Realizando testes de previsões nos dados"
   ]
  },
  {
   "cell_type": "code",
   "execution_count": 15,
   "id": "5617191b",
   "metadata": {
    "scrolled": true
   },
   "outputs": [
    {
     "name": "stdout",
     "output_type": "stream",
     "text": [
      "Requirement already satisfied: pmdarima in c:\\users\\junio\\anaconda3\\lib\\site-packages (2.0.2)\n",
      "Requirement already satisfied: numpy>=1.21.2 in c:\\users\\junio\\anaconda3\\lib\\site-packages (from pmdarima) (1.21.5)\n",
      "Requirement already satisfied: scikit-learn>=0.22 in c:\\users\\junio\\anaconda3\\lib\\site-packages (from pmdarima) (1.0.2)\n",
      "Requirement already satisfied: setuptools!=50.0.0,>=38.6.0 in c:\\users\\junio\\anaconda3\\lib\\site-packages (from pmdarima) (63.4.1)\n",
      "Requirement already satisfied: scipy>=1.3.2 in c:\\users\\junio\\anaconda3\\lib\\site-packages (from pmdarima) (1.9.1)\n",
      "Requirement already satisfied: statsmodels>=0.13.2 in c:\\users\\junio\\anaconda3\\lib\\site-packages (from pmdarima) (0.13.2)\n",
      "Requirement already satisfied: Cython!=0.29.18,!=0.29.31,>=0.29 in c:\\users\\junio\\anaconda3\\lib\\site-packages (from pmdarima) (0.29.32)\n",
      "Requirement already satisfied: urllib3 in c:\\users\\junio\\anaconda3\\lib\\site-packages (from pmdarima) (1.26.11)\n",
      "Requirement already satisfied: joblib>=0.11 in c:\\users\\junio\\anaconda3\\lib\\site-packages (from pmdarima) (1.1.0)\n",
      "Requirement already satisfied: pandas>=0.19 in c:\\users\\junio\\anaconda3\\lib\\site-packages (from pmdarima) (1.4.4)\n",
      "Requirement already satisfied: python-dateutil>=2.8.1 in c:\\users\\junio\\anaconda3\\lib\\site-packages (from pandas>=0.19->pmdarima) (2.8.2)\n",
      "Requirement already satisfied: pytz>=2020.1 in c:\\users\\junio\\anaconda3\\lib\\site-packages (from pandas>=0.19->pmdarima) (2022.1)\n",
      "Requirement already satisfied: threadpoolctl>=2.0.0 in c:\\users\\junio\\anaconda3\\lib\\site-packages (from scikit-learn>=0.22->pmdarima) (2.2.0)\n",
      "Requirement already satisfied: patsy>=0.5.2 in c:\\users\\junio\\anaconda3\\lib\\site-packages (from statsmodels>=0.13.2->pmdarima) (0.5.2)\n",
      "Requirement already satisfied: packaging>=21.3 in c:\\users\\junio\\anaconda3\\lib\\site-packages (from statsmodels>=0.13.2->pmdarima) (21.3)\n",
      "Requirement already satisfied: pyparsing!=3.0.5,>=2.0.2 in c:\\users\\junio\\anaconda3\\lib\\site-packages (from packaging>=21.3->statsmodels>=0.13.2->pmdarima) (3.0.9)\n",
      "Requirement already satisfied: six in c:\\users\\junio\\anaconda3\\lib\\site-packages (from patsy>=0.5.2->statsmodels>=0.13.2->pmdarima) (1.16.0)\n"
     ]
    }
   ],
   "source": [
    "# Baixando a biblioteca necessaria para fazer a previsão\n",
    "!pip install pmdarima\n",
    "from pmdarima.arima import auto_arima\n"
   ]
  },
  {
   "cell_type": "code",
   "execution_count": 16,
   "id": "e5fc2581",
   "metadata": {
    "scrolled": true
   },
   "outputs": [
    {
     "data": {
      "text/html": [
       "<div>\n",
       "<style scoped>\n",
       "    .dataframe tbody tr th:only-of-type {\n",
       "        vertical-align: middle;\n",
       "    }\n",
       "\n",
       "    .dataframe tbody tr th {\n",
       "        vertical-align: top;\n",
       "    }\n",
       "\n",
       "    .dataframe thead th {\n",
       "        text-align: right;\n",
       "    }\n",
       "</style>\n",
       "<table border=\"1\" class=\"dataframe\">\n",
       "  <thead>\n",
       "    <tr style=\"text-align: right;\">\n",
       "      <th></th>\n",
       "      <th>Vendas</th>\n",
       "    </tr>\n",
       "    <tr>\n",
       "      <th>Data</th>\n",
       "      <th></th>\n",
       "    </tr>\n",
       "  </thead>\n",
       "  <tbody>\n",
       "    <tr>\n",
       "      <th>2022-12-06</th>\n",
       "      <td>870</td>\n",
       "    </tr>\n",
       "    <tr>\n",
       "      <th>2022-12-07</th>\n",
       "      <td>868</td>\n",
       "    </tr>\n",
       "    <tr>\n",
       "      <th>2022-12-08</th>\n",
       "      <td>1189</td>\n",
       "    </tr>\n",
       "    <tr>\n",
       "      <th>2022-12-09</th>\n",
       "      <td>742</td>\n",
       "    </tr>\n",
       "    <tr>\n",
       "      <th>2022-12-10</th>\n",
       "      <td>317</td>\n",
       "    </tr>\n",
       "  </tbody>\n",
       "</table>\n",
       "</div>"
      ],
      "text/plain": [
       "            Vendas\n",
       "Data              \n",
       "2022-12-06     870\n",
       "2022-12-07     868\n",
       "2022-12-08    1189\n",
       "2022-12-09     742\n",
       "2022-12-10     317"
      ]
     },
     "execution_count": 16,
     "metadata": {},
     "output_type": "execute_result"
    }
   ],
   "source": [
    "# Importando novamente os dados, mas desta vez usando somente as duas colunas primarias\n",
    "data_new = pd.read_excel('Dados.xlsx', parse_dates=['Data'], index_col='Data')\n",
    "data_new.head()"
   ]
  },
  {
   "cell_type": "code",
   "execution_count": 17,
   "id": "dbda28a5",
   "metadata": {},
   "outputs": [
    {
     "data": {
      "text/plain": [
       "(0.32861105775592603, True)"
      ]
     },
     "execution_count": 17,
     "metadata": {},
     "output_type": "execute_result"
    }
   ],
   "source": [
    "# Verificando se os dados são estacionarios\n",
    "from pmdarima.arima import ADFTest \n",
    "adf_test = ADFTest(alpha = 0.05)\n",
    "adf_test.should_diff(data_new)"
   ]
  },
  {
   "cell_type": "markdown",
   "id": "56da6ee9",
   "metadata": {},
   "source": [
    "Conclui-se tanto pelo gráfico, quando pelo ADF teste, que os dados não são estacionarios"
   ]
  },
  {
   "cell_type": "markdown",
   "id": "b40b67f3",
   "metadata": {},
   "source": [
    "# Transformando os dados não estacionarios em estacionarios"
   ]
  },
  {
   "cell_type": "code",
   "execution_count": 18,
   "id": "8fed8331",
   "metadata": {
    "scrolled": true
   },
   "outputs": [],
   "source": [
    "# Criando outra base de dados e criando uma coluna que faz a diferenca de valor entre o dia anterior e o atual\n",
    "data_stationary = data_new.copy()\n",
    "data_stationary['Diferenca'] = data_stationary['Vendas'] - data_stationary['Vendas'].shift(1)"
   ]
  },
  {
   "cell_type": "code",
   "execution_count": 19,
   "id": "62d44031-59f7-4d76-97ae-4465678be8eb",
   "metadata": {},
   "outputs": [],
   "source": [
    "# Dropando a coluna vendas e retirando valores nulos\n",
    "data_stationary = data_stationary.drop('Vendas', axis=1)\n",
    "data_stationary = data_stationary.dropna()"
   ]
  },
  {
   "cell_type": "code",
   "execution_count": 20,
   "id": "c99ca8e5",
   "metadata": {
    "scrolled": true
   },
   "outputs": [
    {
     "data": {
      "text/plain": [
       "(0.01, False)"
      ]
     },
     "execution_count": 20,
     "metadata": {},
     "output_type": "execute_result"
    }
   ],
   "source": [
    "# Verificando novamente se o dado é ou não estacionario\n",
    "adf_test = ADFTest(alpha = 0.05)\n",
    "adf_test.should_diff(data_stationary)"
   ]
  },
  {
   "cell_type": "code",
   "execution_count": 21,
   "id": "90b4b041",
   "metadata": {},
   "outputs": [
    {
     "data": {
      "image/png": "[encoded data removed]",
      "text/plain": [
       "<Figure size 640x480 with 1 Axes>"
      ]
     },
     "metadata": {},
     "output_type": "display_data"
    }
   ],
   "source": [
    "# Criando graficos de pirulitos para identificar padroes p e q\n",
    "\n",
    "from statsmodels.graphics.tsaplots import plot_acf, plot_pacf\n",
    "plot_acf(data_stationary)\n",
    "plt.show()"
   ]
  },
  {
   "cell_type": "code",
   "execution_count": 22,
   "id": "154891ee",
   "metadata": {},
   "outputs": [
    {
     "name": "stderr",
     "output_type": "stream",
     "text": [
      "C:\\Users\\junio\\anaconda3\\lib\\site-packages\\statsmodels\\graphics\\tsaplots.py:348: FutureWarning: The default method 'yw' can produce PACF values outside of the [-1,1] interval. After 0.13, the default will change tounadjusted Yule-Walker ('ywm'). You can use this method now by setting method='ywm'.\n",
      "  warnings.warn(\n"
     ]
    },
    {
     "data": {
      "image/png": "[encoded data removed]",
      "text/plain": [
       "<Figure size 640x480 with 1 Axes>"
      ]
     },
     "metadata": {},
     "output_type": "display_data"
    }
   ],
   "source": [
    "plot_pacf(data_stationary)\n",
    "plt.show()"
   ]
  },
  {
   "cell_type": "markdown",
   "id": "3311d302",
   "metadata": {},
   "source": [
    "Como o teste mostrou, agora a hipotese de que os dados não sao estacionario é falsa"
   ]
  },
  {
   "cell_type": "markdown",
   "id": "5439945c",
   "metadata": {},
   "source": [
    "# Realizando previsoes com os dados corrigidos"
   ]
  },
  {
   "cell_type": "code",
   "execution_count": 23,
   "id": "88e6bd7f",
   "metadata": {
    "scrolled": true
   },
   "outputs": [
    {
     "name": "stdout",
     "output_type": "stream",
     "text": [
      " ARIMA(0,1,0)(0,0,0)[7] intercept   : AIC=707.521, Time=0.03 sec\n",
      " ARIMA(0,1,0)(0,0,1)[7] intercept   : AIC=inf, Time=0.23 sec\n",
      " ARIMA(0,1,0)(0,0,2)[7] intercept   : AIC=670.326, Time=0.33 sec\n",
      " ARIMA(0,1,0)(1,0,0)[7] intercept   : AIC=657.616, Time=0.51 sec\n",
      " ARIMA(0,1,0)(1,0,1)[7] intercept   : AIC=659.408, Time=0.78 sec\n",
      " ARIMA(0,1,0)(1,0,2)[7] intercept   : AIC=657.852, Time=0.71 sec\n",
      " ARIMA(0,1,0)(2,0,0)[7] intercept   : AIC=659.526, Time=0.46 sec\n",
      " ARIMA(0,1,0)(2,0,1)[7] intercept   : AIC=inf, Time=1.14 sec\n",
      " ARIMA(0,1,0)(2,0,2)[7] intercept   : AIC=661.768, Time=0.87 sec\n",
      " ARIMA(0,1,1)(0,0,0)[7] intercept   : AIC=inf, Time=0.06 sec\n",
      " ARIMA(0,1,1)(0,0,1)[7] intercept   : AIC=inf, Time=0.32 sec\n",
      " ARIMA(0,1,1)(0,0,2)[7] intercept   : AIC=inf, Time=0.75 sec\n",
      " ARIMA(0,1,1)(1,0,0)[7] intercept   : AIC=inf, Time=0.79 sec\n",
      " ARIMA(0,1,1)(1,0,1)[7] intercept   : AIC=inf, Time=0.73 sec\n",
      " ARIMA(0,1,1)(1,0,2)[7] intercept   : AIC=inf, Time=0.97 sec\n",
      " ARIMA(0,1,1)(2,0,0)[7] intercept   : AIC=622.453, Time=0.54 sec\n",
      " ARIMA(0,1,1)(2,0,1)[7] intercept   : AIC=inf, Time=1.05 sec\n",
      " ARIMA(0,1,1)(2,0,2)[7] intercept   : AIC=inf, Time=1.62 sec\n",
      " ARIMA(1,1,0)(0,0,0)[7] intercept   : AIC=701.408, Time=0.04 sec\n",
      " ARIMA(1,1,0)(0,0,1)[7] intercept   : AIC=inf, Time=0.37 sec\n",
      " ARIMA(1,1,0)(0,0,2)[7] intercept   : AIC=663.260, Time=0.26 sec\n",
      " ARIMA(1,1,0)(1,0,0)[7] intercept   : AIC=645.498, Time=0.41 sec\n",
      " ARIMA(1,1,0)(1,0,1)[7] intercept   : AIC=644.406, Time=0.52 sec\n",
      " ARIMA(1,1,0)(1,0,2)[7] intercept   : AIC=643.237, Time=0.57 sec\n",
      " ARIMA(1,1,0)(2,0,0)[7] intercept   : AIC=inf, Time=0.29 sec\n",
      " ARIMA(1,1,0)(2,0,1)[7] intercept   : AIC=inf, Time=0.61 sec\n",
      " ARIMA(1,1,0)(2,0,2)[7] intercept   : AIC=648.979, Time=0.83 sec\n",
      " ARIMA(1,1,1)(0,0,0)[7] intercept   : AIC=inf, Time=0.19 sec\n",
      " ARIMA(1,1,1)(0,0,1)[7] intercept   : AIC=inf, Time=0.21 sec\n",
      " ARIMA(1,1,1)(0,0,2)[7] intercept   : AIC=inf, Time=0.49 sec\n",
      " ARIMA(1,1,1)(1,0,0)[7] intercept   : AIC=inf, Time=0.39 sec\n",
      " ARIMA(1,1,1)(1,0,1)[7] intercept   : AIC=inf, Time=0.74 sec\n",
      " ARIMA(1,1,1)(1,0,2)[7] intercept   : AIC=inf, Time=0.99 sec\n",
      " ARIMA(1,1,1)(2,0,0)[7] intercept   : AIC=624.070, Time=0.83 sec\n",
      " ARIMA(1,1,1)(2,0,1)[7] intercept   : AIC=inf, Time=0.88 sec\n",
      "\n",
      "Best model:  ARIMA(0,1,1)(2,0,0)[7] intercept\n",
      "Total fit time: 20.600 seconds\n"
     ]
    }
   ],
   "source": [
    "# Criando o modelo com os parametros base,\n",
    "# considero que a base de dados é diaria, por isso colocarei seasonalidade diaria\n",
    "modelo = auto_arima(data_stationary, start_p = 1, start_q = 1, max_p = 1,max_q = 1,\n",
    "                    m = 7, test = 'pp', seasonal = True, d = 1, D = 0,\n",
    "                    trace = True, error_action = 'ignore',\n",
    "                    suppress_warnings = True, stepwise = False)\n",
    "# 625\n",
    "\n",
    "# modelo = auto_arima(data_new, start_p=1, start_q=1, test='pp',\n",
    "#                       max_p=6, max_q=6, m=7, seasonal=True, start_P=0, \n",
    "#                       D=0, trace=True, error_action='ignore',      \n",
    "#                       suppress_warnings=True, stepwise=False) \n",
    "# # 510 \n",
    "\n"
   ]
  },
  {
   "cell_type": "code",
   "execution_count": 24,
   "id": "51958590",
   "metadata": {},
   "outputs": [
    {
     "name": "stdout",
     "output_type": "stream",
     "text": [
      "622.4532354809984\n"
     ]
    }
   ],
   "source": [
    "# verificando o indice com melhor perfomance\n",
    "print(modelo.aic()) "
   ]
  },
  {
   "cell_type": "code",
   "execution_count": 25,
   "id": "d431fe62",
   "metadata": {},
   "outputs": [],
   "source": [
    "# Separando dados de treino e de teste com % 80 - 20\n",
    "train = data_stationary.iloc[0:37]\n",
    "test = data_stationary.iloc[37:]"
   ]
  },
  {
   "cell_type": "code",
   "execution_count": 26,
   "id": "87850777",
   "metadata": {},
   "outputs": [
    {
     "data": {
      "text/plain": [
       "ARIMA(order=(0, 1, 1), scoring_args={}, seasonal_order=(2, 0, 0, 7),\n",
       "      suppress_warnings=True)"
      ]
     },
     "execution_count": 26,
     "metadata": {},
     "output_type": "execute_result"
    }
   ],
   "source": [
    "# Treinando o modelo \n",
    "modelo.fit(train)"
   ]
  },
  {
   "cell_type": "code",
   "execution_count": 27,
   "id": "f57fa666",
   "metadata": {},
   "outputs": [],
   "source": [
    "# Fazendo predicoes\n",
    "predicao = modelo.predict(n_periods = test.shape[0])\n",
    "predicao = pd.DataFrame(predicao, index= test.index, columns = ['Diferenca'])"
   ]
  },
  {
   "cell_type": "code",
   "execution_count": 48,
   "id": "05b105fe",
   "metadata": {
    "scrolled": true
   },
   "outputs": [
    {
     "data": {
      "text/plain": [
       "<AxesSubplot:xlabel='Data'>"
      ]
     },
     "execution_count": 48,
     "metadata": {},
     "output_type": "execute_result"
    },
    {
     "data": {
      "image/png": "[encoded data removed]",
      "text/plain": [
       "<Figure size 640x480 with 1 Axes>"
      ]
     },
     "metadata": {},
     "output_type": "display_data"
    }
   ],
   "source": [
    "# Realizando um plot de comparacao dos dados previstos e reais\n",
    "pd.concat([data_stationary, predicao], axis = 1).plot()"
   ]
  },
  {
   "cell_type": "code",
   "execution_count": 49,
   "id": "a2d9725c",
   "metadata": {
    "scrolled": true
   },
   "outputs": [
    {
     "data": {
      "text/html": [
       "<table class=\"simpletable\">\n",
       "<caption>SARIMAX Results</caption>\n",
       "<tr>\n",
       "  <th>Dep. Variable:</th>                  <td>y</td>               <th>  No. Observations:  </th>    <td>51</td>   \n",
       "</tr>\n",
       "<tr>\n",
       "  <th>Model:</th>           <td>SARIMAX(0, 1, 1)x(2, 0, [], 7)</td> <th>  Log Likelihood     </th> <td>-345.074</td>\n",
       "</tr>\n",
       "<tr>\n",
       "  <th>Date:</th>                   <td>Thu, 02 Feb 2023</td>        <th>  AIC                </th>  <td>700.148</td>\n",
       "</tr>\n",
       "<tr>\n",
       "  <th>Time:</th>                       <td>21:45:56</td>            <th>  BIC                </th>  <td>709.708</td>\n",
       "</tr>\n",
       "<tr>\n",
       "  <th>Sample:</th>                         <td>0</td>               <th>  HQIC               </th>  <td>703.789</td>\n",
       "</tr>\n",
       "<tr>\n",
       "  <th></th>                              <td> - 51</td>             <th>                     </th>     <td> </td>   \n",
       "</tr>\n",
       "<tr>\n",
       "  <th>Covariance Type:</th>               <td>opg</td>              <th>                     </th>     <td> </td>   \n",
       "</tr>\n",
       "</table>\n",
       "<table class=\"simpletable\">\n",
       "<tr>\n",
       "      <td></td>         <th>coef</th>     <th>std err</th>      <th>z</th>      <th>P>|z|</th>  <th>[0.025</th>    <th>0.975]</th>  \n",
       "</tr>\n",
       "<tr>\n",
       "  <th>intercept</th> <td>    0.2394</td> <td>    0.388</td> <td>    0.616</td> <td> 0.538</td> <td>   -0.522</td> <td>    1.001</td>\n",
       "</tr>\n",
       "<tr>\n",
       "  <th>ma.L1</th>     <td>   -1.0000</td> <td>    0.079</td> <td>  -12.675</td> <td> 0.000</td> <td>   -1.155</td> <td>   -0.845</td>\n",
       "</tr>\n",
       "<tr>\n",
       "  <th>ar.S.L7</th>   <td>    0.3994</td> <td>    0.131</td> <td>    3.042</td> <td> 0.002</td> <td>    0.142</td> <td>    0.657</td>\n",
       "</tr>\n",
       "<tr>\n",
       "  <th>ar.S.L14</th>  <td>    0.4280</td> <td>    0.147</td> <td>    2.905</td> <td> 0.004</td> <td>    0.139</td> <td>    0.717</td>\n",
       "</tr>\n",
       "<tr>\n",
       "  <th>sigma2</th>    <td> 5.193e+04</td> <td> 1.52e-06</td> <td> 3.43e+10</td> <td> 0.000</td> <td> 5.19e+04</td> <td> 5.19e+04</td>\n",
       "</tr>\n",
       "</table>\n",
       "<table class=\"simpletable\">\n",
       "<tr>\n",
       "  <th>Ljung-Box (L1) (Q):</th>     <td>4.51</td> <th>  Jarque-Bera (JB):  </th> <td>44.17</td>\n",
       "</tr>\n",
       "<tr>\n",
       "  <th>Prob(Q):</th>                <td>0.03</td> <th>  Prob(JB):          </th> <td>0.00</td> \n",
       "</tr>\n",
       "<tr>\n",
       "  <th>Heteroskedasticity (H):</th> <td>2.73</td> <th>  Skew:              </th> <td>1.10</td> \n",
       "</tr>\n",
       "<tr>\n",
       "  <th>Prob(H) (two-sided):</th>    <td>0.05</td> <th>  Kurtosis:          </th> <td>7.04</td> \n",
       "</tr>\n",
       "</table><br/><br/>Warnings:<br/>[1] Covariance matrix calculated using the outer product of gradients (complex-step).<br/>[2] Covariance matrix is singular or near-singular, with condition number 2.43e+26. Standard errors may be unstable."
      ],
      "text/plain": [
       "<class 'statsmodels.iolib.summary.Summary'>\n",
       "\"\"\"\n",
       "                                     SARIMAX Results                                      \n",
       "==========================================================================================\n",
       "Dep. Variable:                                  y   No. Observations:                   51\n",
       "Model:             SARIMAX(0, 1, 1)x(2, 0, [], 7)   Log Likelihood                -345.074\n",
       "Date:                            Thu, 02 Feb 2023   AIC                            700.148\n",
       "Time:                                    21:45:56   BIC                            709.708\n",
       "Sample:                                         0   HQIC                           703.789\n",
       "                                             - 51                                         \n",
       "Covariance Type:                              opg                                         \n",
       "==============================================================================\n",
       "                 coef    std err          z      P>|z|      [0.025      0.975]\n",
       "------------------------------------------------------------------------------\n",
       "intercept      0.2394      0.388      0.616      0.538      -0.522       1.001\n",
       "ma.L1         -1.0000      0.079    -12.675      0.000      -1.155      -0.845\n",
       "ar.S.L7        0.3994      0.131      3.042      0.002       0.142       0.657\n",
       "ar.S.L14       0.4280      0.147      2.905      0.004       0.139       0.717\n",
       "sigma2      5.193e+04   1.52e-06   3.43e+10      0.000    5.19e+04    5.19e+04\n",
       "===================================================================================\n",
       "Ljung-Box (L1) (Q):                   4.51   Jarque-Bera (JB):                44.17\n",
       "Prob(Q):                              0.03   Prob(JB):                         0.00\n",
       "Heteroskedasticity (H):               2.73   Skew:                             1.10\n",
       "Prob(H) (two-sided):                  0.05   Kurtosis:                         7.04\n",
       "===================================================================================\n",
       "\n",
       "Warnings:\n",
       "[1] Covariance matrix calculated using the outer product of gradients (complex-step).\n",
       "[2] Covariance matrix is singular or near-singular, with condition number 2.43e+26. Standard errors may be unstable.\n",
       "\"\"\""
      ]
     },
     "execution_count": 49,
     "metadata": {},
     "output_type": "execute_result"
    }
   ],
   "source": [
    "# Verificando os dados base da predicao\n",
    "modelo.summary()"
   ]
  },
  {
   "cell_type": "code",
   "execution_count": 50,
   "id": "ce898483",
   "metadata": {
    "scrolled": true
   },
   "outputs": [
    {
     "name": "stdout",
     "output_type": "stream",
     "text": [
      "Acuracia:  0.8395060752124953\n"
     ]
    }
   ],
   "source": [
    "# Verificando o indice de acuracia para o processo\n",
    "\n",
    "from sklearn.metrics import r2_score\n",
    "test['Predicao'] = predicao.Diferenca\n",
    "print('Acuracia: ', r2_score(test['Diferenca'], test['Predicao']))"
   ]
  },
  {
   "cell_type": "markdown",
   "id": "99b45ace",
   "metadata": {},
   "source": [
    "# ---------------------------------------------------"
   ]
  },
  {
   "cell_type": "code",
   "execution_count": 51,
   "id": "73760ed6",
   "metadata": {},
   "outputs": [],
   "source": [
    "# data_new = pd.read_excel('Dados.xlsx', parse_dates=['Data'], index_col='Data')\n",
    "data_final = pd.read_excel('Dados.xlsx')\n",
    "data_validacao = data_final.copy()\n",
    "data_validacao['Diferenca'] = data_final['Vendas'] - data_final['Vendas'].shift(1)\n",
    "\n",
    "# Dropando a coluna vendas e retirando valores nulos\n",
    "data_validacao = data_validacao.drop('Vendas', axis=1)\n",
    "data_validacao = data_validacao.dropna()"
   ]
  },
  {
   "cell_type": "code",
   "execution_count": 54,
   "id": "f92956a3",
   "metadata": {
    "scrolled": true,
    "tags": []
   },
   "outputs": [],
   "source": [
    "futuro = [{'Data' : '2023-01-21', 'Diferenca' : ''},\n",
    "         {'Data' : '2023-01-22', 'Diferenca' : ''},\n",
    "         {'Data' : '2023-01-23', 'Diferenca' : ''},\n",
    "         {'Data' : '2023-01-24', 'Diferenca' : ''},\n",
    "         {'Data' : '2023-01-25', 'Diferenca' : ''}]"
   ]
  },
  {
   "cell_type": "code",
   "execution_count": 55,
   "id": "c259cbae",
   "metadata": {
    "scrolled": true
   },
   "outputs": [
    {
     "name": "stderr",
     "output_type": "stream",
     "text": [
      "C:\\Users\\junio\\AppData\\Local\\Temp\\ipykernel_3728\\2100993342.py:1: FutureWarning: The frame.append method is deprecated and will be removed from pandas in a future version. Use pandas.concat instead.\n",
      "  test2 = data_validacao.append(futuro, ignore_index=True)\n"
     ]
    }
   ],
   "source": [
    "test2 = data_validacao.append(futuro, ignore_index=True)"
   ]
  },
  {
   "cell_type": "code",
   "execution_count": 56,
   "id": "9b940875",
   "metadata": {
    "scrolled": true
   },
   "outputs": [],
   "source": [
    "test2[\"Data\"] = pd.to_datetime(test2[\"Data\"])\n",
    "test2[\"Diferenca\"] = pd.to_numeric(test2[\"Diferenca\"])"
   ]
  },
  {
   "cell_type": "code",
   "execution_count": 57,
   "id": "b340e097",
   "metadata": {},
   "outputs": [],
   "source": [
    "test2 = test2.set_index('Data')\n",
    "test2 = test2[36:]"
   ]
  },
  {
   "cell_type": "code",
   "execution_count": 58,
   "id": "d5d3a120-9c84-4593-b979-83fe74b5907b",
   "metadata": {},
   "outputs": [
    {
     "data": {
      "text/html": [
       "<div>\n",
       "<style scoped>\n",
       "    .dataframe tbody tr th:only-of-type {\n",
       "        vertical-align: middle;\n",
       "    }\n",
       "\n",
       "    .dataframe tbody tr th {\n",
       "        vertical-align: top;\n",
       "    }\n",
       "\n",
       "    .dataframe thead th {\n",
       "        text-align: right;\n",
       "    }\n",
       "</style>\n",
       "<table border=\"1\" class=\"dataframe\">\n",
       "  <thead>\n",
       "    <tr style=\"text-align: right;\">\n",
       "      <th></th>\n",
       "      <th>Diferenca</th>\n",
       "    </tr>\n",
       "    <tr>\n",
       "      <th>Data</th>\n",
       "      <th></th>\n",
       "    </tr>\n",
       "  </thead>\n",
       "  <tbody>\n",
       "    <tr>\n",
       "      <th>2023-01-12</th>\n",
       "      <td>342.0</td>\n",
       "    </tr>\n",
       "    <tr>\n",
       "      <th>2023-01-13</th>\n",
       "      <td>-373.0</td>\n",
       "    </tr>\n",
       "    <tr>\n",
       "      <th>2023-01-14</th>\n",
       "      <td>-603.0</td>\n",
       "    </tr>\n",
       "    <tr>\n",
       "      <th>2023-01-15</th>\n",
       "      <td>277.0</td>\n",
       "    </tr>\n",
       "    <tr>\n",
       "      <th>2023-01-16</th>\n",
       "      <td>1126.0</td>\n",
       "    </tr>\n",
       "  </tbody>\n",
       "</table>\n",
       "</div>"
      ],
      "text/plain": [
       "            Diferenca\n",
       "Data                 \n",
       "2023-01-12      342.0\n",
       "2023-01-13     -373.0\n",
       "2023-01-14     -603.0\n",
       "2023-01-15      277.0\n",
       "2023-01-16     1126.0"
      ]
     },
     "execution_count": 58,
     "metadata": {},
     "output_type": "execute_result"
    }
   ],
   "source": [
    "test2.head()"
   ]
  },
  {
   "cell_type": "code",
   "execution_count": 59,
   "id": "47152a8c",
   "metadata": {},
   "outputs": [],
   "source": [
    "# Fazendo predicoes\n",
    "modelo.update(test2)\n",
    "predicao2 = modelo.predict(n_periods = test2.shape[0])\n",
    "predicao2 = pd.DataFrame(predicao2, index= test2.index, columns = ['Diferenca'])"
   ]
  },
  {
   "cell_type": "code",
   "execution_count": 60,
   "id": "d180ec6b",
   "metadata": {},
   "outputs": [
    {
     "data": {
      "text/html": [
       "<div>\n",
       "<style scoped>\n",
       "    .dataframe tbody tr th:only-of-type {\n",
       "        vertical-align: middle;\n",
       "    }\n",
       "\n",
       "    .dataframe tbody tr th {\n",
       "        vertical-align: top;\n",
       "    }\n",
       "\n",
       "    .dataframe thead th {\n",
       "        text-align: right;\n",
       "    }\n",
       "</style>\n",
       "<table border=\"1\" class=\"dataframe\">\n",
       "  <thead>\n",
       "    <tr style=\"text-align: right;\">\n",
       "      <th></th>\n",
       "      <th>Diferenca</th>\n",
       "    </tr>\n",
       "    <tr>\n",
       "      <th>Data</th>\n",
       "      <th></th>\n",
       "    </tr>\n",
       "  </thead>\n",
       "  <tbody>\n",
       "    <tr>\n",
       "      <th>2023-01-21</th>\n",
       "      <td>-266.305975</td>\n",
       "    </tr>\n",
       "    <tr>\n",
       "      <th>2023-01-22</th>\n",
       "      <td>399.341753</td>\n",
       "    </tr>\n",
       "    <tr>\n",
       "      <th>2023-01-23</th>\n",
       "      <td>457.727009</td>\n",
       "    </tr>\n",
       "    <tr>\n",
       "      <th>2023-01-24</th>\n",
       "      <td>-234.028231</td>\n",
       "    </tr>\n",
       "    <tr>\n",
       "      <th>2023-01-25</th>\n",
       "      <td>209.672989</td>\n",
       "    </tr>\n",
       "  </tbody>\n",
       "</table>\n",
       "</div>"
      ],
      "text/plain": [
       "             Diferenca\n",
       "Data                  \n",
       "2023-01-21 -266.305975\n",
       "2023-01-22  399.341753\n",
       "2023-01-23  457.727009\n",
       "2023-01-24 -234.028231\n",
       "2023-01-25  209.672989"
      ]
     },
     "execution_count": 60,
     "metadata": {},
     "output_type": "execute_result"
    }
   ],
   "source": [
    "# ultimos 5 dados previstos\n",
    "predicao2.tail()"
   ]
  },
  {
   "cell_type": "code",
   "execution_count": 63,
   "id": "a535c827-9d24-4f56-babc-2072682e9d9c",
   "metadata": {},
   "outputs": [],
   "source": [
    "dados = data_new[-10:]\n",
    "dados = dados.to_numpy()\n",
    "\n",
    "dados2 = predicao2[-10:]\n",
    "dados2 = dados2.to_numpy()"
   ]
  },
  {
   "cell_type": "code",
   "execution_count": 64,
   "id": "982889ae-c5a8-493d-a72f-f09849b5a387",
   "metadata": {
    "tags": []
   },
   "outputs": [
    {
     "name": "stdout",
     "output_type": "stream",
     "text": [
      "513\n",
      "1465\n",
      "1034\n",
      "-67\n",
      "299\n",
      "2091\n",
      "1554\n",
      "1067\n",
      "1614\n"
     ]
    }
   ],
   "source": [
    "resul = []\n",
    "for i in range(len(dados)):\n",
    "    if i == 0:\n",
    "        resul.append(0)\n",
    "    else:\n",
    "        soma = int(dados2[i] + dados[i-1])\n",
    "        print(soma)\n",
    "        resul.append(soma)"
   ]
  },
  {
   "cell_type": "code",
   "execution_count": 69,
   "id": "ff3285b4-6535-4900-92b0-f2f88d352f1a",
   "metadata": {},
   "outputs": [],
   "source": [
    "resul = pd.DataFrame(resul, columns = ['Previsao Final'])\n",
    "resul['Comparacao'] = data_final['Vendas' "
   ]
  }
 ],
 "metadata": {
  "kernelspec": {
   "display_name": "Python 3 (ipykernel)",
   "language": "python",
   "name": "python3"
  },
  "language_info": {
   "codemirror_mode": {
    "name": "ipython",
    "version": 3
   },
   "file_extension": ".py",
   "mimetype": "text/x-python",
   "name": "python",
   "nbconvert_exporter": "python",
   "pygments_lexer": "ipython3",
   "version": "3.9.13"
  }
 },
 "nbformat": 4,
 "nbformat_minor": 5
}

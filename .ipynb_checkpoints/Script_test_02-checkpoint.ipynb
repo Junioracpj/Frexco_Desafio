{
 "cells": [
  {
   "cell_type": "code",
   "execution_count": 1,
   "id": "0dbff414",
   "metadata": {},
   "outputs": [],
   "source": [
    "# Baixando as bibliotecas necessarias para o script\n",
    "import pandas as pd\n",
    "pd.set_option('mode.chained_assignment', None)\n",
    "import numpy as np\n",
    "import datetime as dt\n",
    "import matplotlib.pyplot as plt\n",
    "import seaborn as sns"
   ]
  },
  {
   "cell_type": "code",
   "execution_count": 2,
   "id": "27a8e66d",
   "metadata": {},
   "outputs": [],
   "source": [
    "# Importando a base de dados\n",
    "df_base = pd.read_excel('Dados.xlsx')"
   ]
  },
  {
   "cell_type": "code",
   "execution_count": 3,
   "id": "48724757",
   "metadata": {
    "scrolled": true
   },
   "outputs": [
    {
     "data": {
      "text/html": [
       "<div>\n",
       "<style scoped>\n",
       "    .dataframe tbody tr th:only-of-type {\n",
       "        vertical-align: middle;\n",
       "    }\n",
       "\n",
       "    .dataframe tbody tr th {\n",
       "        vertical-align: top;\n",
       "    }\n",
       "\n",
       "    .dataframe thead th {\n",
       "        text-align: right;\n",
       "    }\n",
       "</style>\n",
       "<table border=\"1\" class=\"dataframe\">\n",
       "  <thead>\n",
       "    <tr style=\"text-align: right;\">\n",
       "      <th></th>\n",
       "      <th>Data</th>\n",
       "      <th>Vendas</th>\n",
       "    </tr>\n",
       "  </thead>\n",
       "  <tbody>\n",
       "    <tr>\n",
       "      <th>0</th>\n",
       "      <td>2022-12-06</td>\n",
       "      <td>870</td>\n",
       "    </tr>\n",
       "    <tr>\n",
       "      <th>1</th>\n",
       "      <td>2022-12-07</td>\n",
       "      <td>868</td>\n",
       "    </tr>\n",
       "    <tr>\n",
       "      <th>2</th>\n",
       "      <td>2022-12-08</td>\n",
       "      <td>1189</td>\n",
       "    </tr>\n",
       "    <tr>\n",
       "      <th>3</th>\n",
       "      <td>2022-12-09</td>\n",
       "      <td>742</td>\n",
       "    </tr>\n",
       "    <tr>\n",
       "      <th>4</th>\n",
       "      <td>2022-12-10</td>\n",
       "      <td>317</td>\n",
       "    </tr>\n",
       "  </tbody>\n",
       "</table>\n",
       "</div>"
      ],
      "text/plain": [
       "        Data  Vendas\n",
       "0 2022-12-06     870\n",
       "1 2022-12-07     868\n",
       "2 2022-12-08    1189\n",
       "3 2022-12-09     742\n",
       "4 2022-12-10     317"
      ]
     },
     "execution_count": 3,
     "metadata": {},
     "output_type": "execute_result"
    }
   ],
   "source": [
    "# Verificando o Dataframe\n",
    "df_base.head(5)"
   ]
  },
  {
   "cell_type": "code",
   "execution_count": 4,
   "id": "70a9d349",
   "metadata": {},
   "outputs": [
    {
     "name": "stdout",
     "output_type": "stream",
     "text": [
      "<class 'pandas.core.frame.DataFrame'>\n",
      "RangeIndex: 46 entries, 0 to 45\n",
      "Data columns (total 2 columns):\n",
      " #   Column  Non-Null Count  Dtype         \n",
      "---  ------  --------------  -----         \n",
      " 0   Data    46 non-null     datetime64[ns]\n",
      " 1   Vendas  46 non-null     int64         \n",
      "dtypes: datetime64[ns](1), int64(1)\n",
      "memory usage: 864.0 bytes\n"
     ]
    }
   ],
   "source": [
    "# Verficando o tipo dos dados\n",
    "df_base.info()"
   ]
  },
  {
   "cell_type": "code",
   "execution_count": 5,
   "id": "8ab82099",
   "metadata": {},
   "outputs": [
    {
     "data": {
      "text/html": [
       "<div>\n",
       "<style scoped>\n",
       "    .dataframe tbody tr th:only-of-type {\n",
       "        vertical-align: middle;\n",
       "    }\n",
       "\n",
       "    .dataframe tbody tr th {\n",
       "        vertical-align: top;\n",
       "    }\n",
       "\n",
       "    .dataframe thead th {\n",
       "        text-align: right;\n",
       "    }\n",
       "</style>\n",
       "<table border=\"1\" class=\"dataframe\">\n",
       "  <thead>\n",
       "    <tr style=\"text-align: right;\">\n",
       "      <th></th>\n",
       "      <th>Data</th>\n",
       "      <th>Vendas</th>\n",
       "      <th>dia</th>\n",
       "      <th>mes</th>\n",
       "    </tr>\n",
       "  </thead>\n",
       "  <tbody>\n",
       "    <tr>\n",
       "      <th>0</th>\n",
       "      <td>2022-12-06</td>\n",
       "      <td>870</td>\n",
       "      <td>6</td>\n",
       "      <td>12</td>\n",
       "    </tr>\n",
       "    <tr>\n",
       "      <th>1</th>\n",
       "      <td>2022-12-07</td>\n",
       "      <td>868</td>\n",
       "      <td>7</td>\n",
       "      <td>12</td>\n",
       "    </tr>\n",
       "    <tr>\n",
       "      <th>2</th>\n",
       "      <td>2022-12-08</td>\n",
       "      <td>1189</td>\n",
       "      <td>8</td>\n",
       "      <td>12</td>\n",
       "    </tr>\n",
       "    <tr>\n",
       "      <th>3</th>\n",
       "      <td>2022-12-09</td>\n",
       "      <td>742</td>\n",
       "      <td>9</td>\n",
       "      <td>12</td>\n",
       "    </tr>\n",
       "    <tr>\n",
       "      <th>4</th>\n",
       "      <td>2022-12-10</td>\n",
       "      <td>317</td>\n",
       "      <td>10</td>\n",
       "      <td>12</td>\n",
       "    </tr>\n",
       "  </tbody>\n",
       "</table>\n",
       "</div>"
      ],
      "text/plain": [
       "        Data  Vendas  dia  mes\n",
       "0 2022-12-06     870    6   12\n",
       "1 2022-12-07     868    7   12\n",
       "2 2022-12-08    1189    8   12\n",
       "3 2022-12-09     742    9   12\n",
       "4 2022-12-10     317   10   12"
      ]
     },
     "execution_count": 5,
     "metadata": {},
     "output_type": "execute_result"
    }
   ],
   "source": [
    "# Criando colunas para separar o dia e o mes\n",
    "df = df_base.copy()\n",
    "df['dia'] = df_base['Data'].dt.day\n",
    "df['mes'] = df_base['Data'].dt.month\n",
    "df.head(5)"
   ]
  },
  {
   "cell_type": "code",
   "execution_count": 6,
   "id": "c97f6f44",
   "metadata": {
    "scrolled": false
   },
   "outputs": [],
   "source": [
    "# Criando um loop para adcionar o dia da semana e seu numero\n",
    "dia_semana_num = []\n",
    "dia_semana_nome = []\n",
    "\n",
    "for i in df.Data:\n",
    "    temp = pd.Timestamp(i)\n",
    "    dia_semana_num.append(temp.dayofweek)\n",
    "    dia_semana_nome.append(temp.day_name())\n",
    "    \n",
    "# Anexando\n",
    "df['dia_semana_num'] = dia_semana_num\n",
    "df['dia_semana_nome'] = dia_semana_nome"
   ]
  },
  {
   "cell_type": "code",
   "execution_count": 7,
   "id": "fc795320",
   "metadata": {},
   "outputs": [],
   "source": [
    "# Criando um loop for pra destacar as semanas da base de dados\n",
    "semana = []\n",
    "x = df['Data'].dt.to_period('W-SUN')\n",
    "num = 1\n",
    "\n",
    "for i in range(len(x)):\n",
    "    if x[i] == x[0] or x[i] == x[i-1]:\n",
    "        semana.append(num)\n",
    "    else:\n",
    "        num += 1\n",
    "        semana.append(num)   "
   ]
  },
  {
   "cell_type": "code",
   "execution_count": 8,
   "id": "982c60ca",
   "metadata": {},
   "outputs": [],
   "source": [
    "# Adcionando a semana ao Dataframe\n",
    "df['semana']= semana"
   ]
  },
  {
   "cell_type": "code",
   "execution_count": 9,
   "id": "ef7ac0cd",
   "metadata": {
    "scrolled": true
   },
   "outputs": [
    {
     "data": {
      "text/html": [
       "<div>\n",
       "<style scoped>\n",
       "    .dataframe tbody tr th:only-of-type {\n",
       "        vertical-align: middle;\n",
       "    }\n",
       "\n",
       "    .dataframe tbody tr th {\n",
       "        vertical-align: top;\n",
       "    }\n",
       "\n",
       "    .dataframe thead th {\n",
       "        text-align: right;\n",
       "    }\n",
       "</style>\n",
       "<table border=\"1\" class=\"dataframe\">\n",
       "  <thead>\n",
       "    <tr style=\"text-align: right;\">\n",
       "      <th></th>\n",
       "      <th>Data</th>\n",
       "      <th>dia</th>\n",
       "      <th>semana</th>\n",
       "      <th>mes</th>\n",
       "      <th>dia_semana_num</th>\n",
       "      <th>dia_semana_nome</th>\n",
       "      <th>Vendas</th>\n",
       "    </tr>\n",
       "  </thead>\n",
       "  <tbody>\n",
       "    <tr>\n",
       "      <th>0</th>\n",
       "      <td>2022-12-06</td>\n",
       "      <td>6</td>\n",
       "      <td>1</td>\n",
       "      <td>12</td>\n",
       "      <td>1</td>\n",
       "      <td>Tuesday</td>\n",
       "      <td>870</td>\n",
       "    </tr>\n",
       "    <tr>\n",
       "      <th>1</th>\n",
       "      <td>2022-12-07</td>\n",
       "      <td>7</td>\n",
       "      <td>1</td>\n",
       "      <td>12</td>\n",
       "      <td>2</td>\n",
       "      <td>Wednesday</td>\n",
       "      <td>868</td>\n",
       "    </tr>\n",
       "    <tr>\n",
       "      <th>2</th>\n",
       "      <td>2022-12-08</td>\n",
       "      <td>8</td>\n",
       "      <td>1</td>\n",
       "      <td>12</td>\n",
       "      <td>3</td>\n",
       "      <td>Thursday</td>\n",
       "      <td>1189</td>\n",
       "    </tr>\n",
       "    <tr>\n",
       "      <th>3</th>\n",
       "      <td>2022-12-09</td>\n",
       "      <td>9</td>\n",
       "      <td>1</td>\n",
       "      <td>12</td>\n",
       "      <td>4</td>\n",
       "      <td>Friday</td>\n",
       "      <td>742</td>\n",
       "    </tr>\n",
       "    <tr>\n",
       "      <th>4</th>\n",
       "      <td>2022-12-10</td>\n",
       "      <td>10</td>\n",
       "      <td>1</td>\n",
       "      <td>12</td>\n",
       "      <td>5</td>\n",
       "      <td>Saturday</td>\n",
       "      <td>317</td>\n",
       "    </tr>\n",
       "    <tr>\n",
       "      <th>5</th>\n",
       "      <td>2022-12-11</td>\n",
       "      <td>11</td>\n",
       "      <td>1</td>\n",
       "      <td>12</td>\n",
       "      <td>6</td>\n",
       "      <td>Sunday</td>\n",
       "      <td>685</td>\n",
       "    </tr>\n",
       "    <tr>\n",
       "      <th>6</th>\n",
       "      <td>2022-12-12</td>\n",
       "      <td>12</td>\n",
       "      <td>2</td>\n",
       "      <td>12</td>\n",
       "      <td>0</td>\n",
       "      <td>Monday</td>\n",
       "      <td>1366</td>\n",
       "    </tr>\n",
       "    <tr>\n",
       "      <th>7</th>\n",
       "      <td>2022-12-13</td>\n",
       "      <td>13</td>\n",
       "      <td>2</td>\n",
       "      <td>12</td>\n",
       "      <td>1</td>\n",
       "      <td>Tuesday</td>\n",
       "      <td>1213</td>\n",
       "    </tr>\n",
       "    <tr>\n",
       "      <th>8</th>\n",
       "      <td>2022-12-14</td>\n",
       "      <td>14</td>\n",
       "      <td>2</td>\n",
       "      <td>12</td>\n",
       "      <td>2</td>\n",
       "      <td>Wednesday</td>\n",
       "      <td>1055</td>\n",
       "    </tr>\n",
       "    <tr>\n",
       "      <th>9</th>\n",
       "      <td>2022-12-15</td>\n",
       "      <td>15</td>\n",
       "      <td>2</td>\n",
       "      <td>12</td>\n",
       "      <td>3</td>\n",
       "      <td>Thursday</td>\n",
       "      <td>1343</td>\n",
       "    </tr>\n",
       "    <tr>\n",
       "      <th>10</th>\n",
       "      <td>2022-12-16</td>\n",
       "      <td>16</td>\n",
       "      <td>2</td>\n",
       "      <td>12</td>\n",
       "      <td>4</td>\n",
       "      <td>Friday</td>\n",
       "      <td>832</td>\n",
       "    </tr>\n",
       "    <tr>\n",
       "      <th>11</th>\n",
       "      <td>2022-12-17</td>\n",
       "      <td>17</td>\n",
       "      <td>2</td>\n",
       "      <td>12</td>\n",
       "      <td>5</td>\n",
       "      <td>Saturday</td>\n",
       "      <td>240</td>\n",
       "    </tr>\n",
       "    <tr>\n",
       "      <th>12</th>\n",
       "      <td>2022-12-18</td>\n",
       "      <td>18</td>\n",
       "      <td>2</td>\n",
       "      <td>12</td>\n",
       "      <td>6</td>\n",
       "      <td>Sunday</td>\n",
       "      <td>235</td>\n",
       "    </tr>\n",
       "    <tr>\n",
       "      <th>13</th>\n",
       "      <td>2022-12-19</td>\n",
       "      <td>19</td>\n",
       "      <td>3</td>\n",
       "      <td>12</td>\n",
       "      <td>0</td>\n",
       "      <td>Monday</td>\n",
       "      <td>1050</td>\n",
       "    </tr>\n",
       "    <tr>\n",
       "      <th>14</th>\n",
       "      <td>2022-12-20</td>\n",
       "      <td>20</td>\n",
       "      <td>3</td>\n",
       "      <td>12</td>\n",
       "      <td>1</td>\n",
       "      <td>Tuesday</td>\n",
       "      <td>711</td>\n",
       "    </tr>\n",
       "    <tr>\n",
       "      <th>15</th>\n",
       "      <td>2022-12-21</td>\n",
       "      <td>21</td>\n",
       "      <td>3</td>\n",
       "      <td>12</td>\n",
       "      <td>2</td>\n",
       "      <td>Wednesday</td>\n",
       "      <td>745</td>\n",
       "    </tr>\n",
       "    <tr>\n",
       "      <th>16</th>\n",
       "      <td>2022-12-22</td>\n",
       "      <td>22</td>\n",
       "      <td>3</td>\n",
       "      <td>12</td>\n",
       "      <td>3</td>\n",
       "      <td>Thursday</td>\n",
       "      <td>1009</td>\n",
       "    </tr>\n",
       "    <tr>\n",
       "      <th>17</th>\n",
       "      <td>2022-12-23</td>\n",
       "      <td>23</td>\n",
       "      <td>3</td>\n",
       "      <td>12</td>\n",
       "      <td>4</td>\n",
       "      <td>Friday</td>\n",
       "      <td>18</td>\n",
       "    </tr>\n",
       "    <tr>\n",
       "      <th>18</th>\n",
       "      <td>2022-12-24</td>\n",
       "      <td>24</td>\n",
       "      <td>3</td>\n",
       "      <td>12</td>\n",
       "      <td>5</td>\n",
       "      <td>Saturday</td>\n",
       "      <td>40</td>\n",
       "    </tr>\n",
       "    <tr>\n",
       "      <th>19</th>\n",
       "      <td>2022-12-25</td>\n",
       "      <td>25</td>\n",
       "      <td>3</td>\n",
       "      <td>12</td>\n",
       "      <td>6</td>\n",
       "      <td>Sunday</td>\n",
       "      <td>67</td>\n",
       "    </tr>\n",
       "    <tr>\n",
       "      <th>20</th>\n",
       "      <td>2022-12-26</td>\n",
       "      <td>26</td>\n",
       "      <td>4</td>\n",
       "      <td>12</td>\n",
       "      <td>0</td>\n",
       "      <td>Monday</td>\n",
       "      <td>821</td>\n",
       "    </tr>\n",
       "    <tr>\n",
       "      <th>21</th>\n",
       "      <td>2022-12-27</td>\n",
       "      <td>27</td>\n",
       "      <td>4</td>\n",
       "      <td>12</td>\n",
       "      <td>1</td>\n",
       "      <td>Tuesday</td>\n",
       "      <td>572</td>\n",
       "    </tr>\n",
       "    <tr>\n",
       "      <th>22</th>\n",
       "      <td>2022-12-28</td>\n",
       "      <td>28</td>\n",
       "      <td>4</td>\n",
       "      <td>12</td>\n",
       "      <td>2</td>\n",
       "      <td>Wednesday</td>\n",
       "      <td>429</td>\n",
       "    </tr>\n",
       "    <tr>\n",
       "      <th>23</th>\n",
       "      <td>2022-12-29</td>\n",
       "      <td>29</td>\n",
       "      <td>4</td>\n",
       "      <td>12</td>\n",
       "      <td>3</td>\n",
       "      <td>Thursday</td>\n",
       "      <td>638</td>\n",
       "    </tr>\n",
       "    <tr>\n",
       "      <th>24</th>\n",
       "      <td>2022-12-30</td>\n",
       "      <td>30</td>\n",
       "      <td>4</td>\n",
       "      <td>12</td>\n",
       "      <td>4</td>\n",
       "      <td>Friday</td>\n",
       "      <td>106</td>\n",
       "    </tr>\n",
       "    <tr>\n",
       "      <th>25</th>\n",
       "      <td>2022-12-31</td>\n",
       "      <td>31</td>\n",
       "      <td>4</td>\n",
       "      <td>12</td>\n",
       "      <td>5</td>\n",
       "      <td>Saturday</td>\n",
       "      <td>54</td>\n",
       "    </tr>\n",
       "    <tr>\n",
       "      <th>26</th>\n",
       "      <td>2023-01-01</td>\n",
       "      <td>1</td>\n",
       "      <td>4</td>\n",
       "      <td>1</td>\n",
       "      <td>6</td>\n",
       "      <td>Sunday</td>\n",
       "      <td>144</td>\n",
       "    </tr>\n",
       "    <tr>\n",
       "      <th>27</th>\n",
       "      <td>2023-01-02</td>\n",
       "      <td>2</td>\n",
       "      <td>5</td>\n",
       "      <td>1</td>\n",
       "      <td>0</td>\n",
       "      <td>Monday</td>\n",
       "      <td>814</td>\n",
       "    </tr>\n",
       "    <tr>\n",
       "      <th>28</th>\n",
       "      <td>2023-01-03</td>\n",
       "      <td>3</td>\n",
       "      <td>5</td>\n",
       "      <td>1</td>\n",
       "      <td>1</td>\n",
       "      <td>Tuesday</td>\n",
       "      <td>679</td>\n",
       "    </tr>\n",
       "    <tr>\n",
       "      <th>29</th>\n",
       "      <td>2023-01-04</td>\n",
       "      <td>4</td>\n",
       "      <td>5</td>\n",
       "      <td>1</td>\n",
       "      <td>2</td>\n",
       "      <td>Wednesday</td>\n",
       "      <td>712</td>\n",
       "    </tr>\n",
       "    <tr>\n",
       "      <th>30</th>\n",
       "      <td>2023-01-05</td>\n",
       "      <td>5</td>\n",
       "      <td>5</td>\n",
       "      <td>1</td>\n",
       "      <td>3</td>\n",
       "      <td>Thursday</td>\n",
       "      <td>1229</td>\n",
       "    </tr>\n",
       "    <tr>\n",
       "      <th>31</th>\n",
       "      <td>2023-01-06</td>\n",
       "      <td>6</td>\n",
       "      <td>5</td>\n",
       "      <td>1</td>\n",
       "      <td>4</td>\n",
       "      <td>Friday</td>\n",
       "      <td>821</td>\n",
       "    </tr>\n",
       "    <tr>\n",
       "      <th>32</th>\n",
       "      <td>2023-01-07</td>\n",
       "      <td>7</td>\n",
       "      <td>5</td>\n",
       "      <td>1</td>\n",
       "      <td>5</td>\n",
       "      <td>Saturday</td>\n",
       "      <td>319</td>\n",
       "    </tr>\n",
       "    <tr>\n",
       "      <th>33</th>\n",
       "      <td>2023-01-08</td>\n",
       "      <td>8</td>\n",
       "      <td>5</td>\n",
       "      <td>1</td>\n",
       "      <td>6</td>\n",
       "      <td>Sunday</td>\n",
       "      <td>317</td>\n",
       "    </tr>\n",
       "    <tr>\n",
       "      <th>34</th>\n",
       "      <td>2023-01-09</td>\n",
       "      <td>9</td>\n",
       "      <td>6</td>\n",
       "      <td>1</td>\n",
       "      <td>0</td>\n",
       "      <td>Monday</td>\n",
       "      <td>1317</td>\n",
       "    </tr>\n",
       "    <tr>\n",
       "      <th>35</th>\n",
       "      <td>2023-01-10</td>\n",
       "      <td>10</td>\n",
       "      <td>6</td>\n",
       "      <td>1</td>\n",
       "      <td>1</td>\n",
       "      <td>Tuesday</td>\n",
       "      <td>807</td>\n",
       "    </tr>\n",
       "    <tr>\n",
       "      <th>36</th>\n",
       "      <td>2023-01-11</td>\n",
       "      <td>11</td>\n",
       "      <td>6</td>\n",
       "      <td>1</td>\n",
       "      <td>2</td>\n",
       "      <td>Wednesday</td>\n",
       "      <td>923</td>\n",
       "    </tr>\n",
       "    <tr>\n",
       "      <th>37</th>\n",
       "      <td>2023-01-12</td>\n",
       "      <td>12</td>\n",
       "      <td>6</td>\n",
       "      <td>1</td>\n",
       "      <td>3</td>\n",
       "      <td>Thursday</td>\n",
       "      <td>1265</td>\n",
       "    </tr>\n",
       "    <tr>\n",
       "      <th>38</th>\n",
       "      <td>2023-01-13</td>\n",
       "      <td>13</td>\n",
       "      <td>6</td>\n",
       "      <td>1</td>\n",
       "      <td>4</td>\n",
       "      <td>Friday</td>\n",
       "      <td>892</td>\n",
       "    </tr>\n",
       "    <tr>\n",
       "      <th>39</th>\n",
       "      <td>2023-01-14</td>\n",
       "      <td>14</td>\n",
       "      <td>6</td>\n",
       "      <td>1</td>\n",
       "      <td>5</td>\n",
       "      <td>Saturday</td>\n",
       "      <td>289</td>\n",
       "    </tr>\n",
       "    <tr>\n",
       "      <th>40</th>\n",
       "      <td>2023-01-15</td>\n",
       "      <td>15</td>\n",
       "      <td>6</td>\n",
       "      <td>1</td>\n",
       "      <td>6</td>\n",
       "      <td>Sunday</td>\n",
       "      <td>566</td>\n",
       "    </tr>\n",
       "    <tr>\n",
       "      <th>41</th>\n",
       "      <td>2023-01-16</td>\n",
       "      <td>16</td>\n",
       "      <td>7</td>\n",
       "      <td>1</td>\n",
       "      <td>0</td>\n",
       "      <td>Monday</td>\n",
       "      <td>1692</td>\n",
       "    </tr>\n",
       "    <tr>\n",
       "      <th>42</th>\n",
       "      <td>2023-01-17</td>\n",
       "      <td>17</td>\n",
       "      <td>7</td>\n",
       "      <td>1</td>\n",
       "      <td>1</td>\n",
       "      <td>Tuesday</td>\n",
       "      <td>1097</td>\n",
       "    </tr>\n",
       "    <tr>\n",
       "      <th>43</th>\n",
       "      <td>2023-01-18</td>\n",
       "      <td>18</td>\n",
       "      <td>7</td>\n",
       "      <td>1</td>\n",
       "      <td>2</td>\n",
       "      <td>Wednesday</td>\n",
       "      <td>1302</td>\n",
       "    </tr>\n",
       "    <tr>\n",
       "      <th>44</th>\n",
       "      <td>2023-01-19</td>\n",
       "      <td>19</td>\n",
       "      <td>7</td>\n",
       "      <td>1</td>\n",
       "      <td>3</td>\n",
       "      <td>Thursday</td>\n",
       "      <td>1405</td>\n",
       "    </tr>\n",
       "    <tr>\n",
       "      <th>45</th>\n",
       "      <td>2023-01-20</td>\n",
       "      <td>20</td>\n",
       "      <td>7</td>\n",
       "      <td>1</td>\n",
       "      <td>4</td>\n",
       "      <td>Friday</td>\n",
       "      <td>945</td>\n",
       "    </tr>\n",
       "  </tbody>\n",
       "</table>\n",
       "</div>"
      ],
      "text/plain": [
       "         Data  dia  semana  mes  dia_semana_num dia_semana_nome  Vendas\n",
       "0  2022-12-06    6       1   12               1         Tuesday     870\n",
       "1  2022-12-07    7       1   12               2       Wednesday     868\n",
       "2  2022-12-08    8       1   12               3        Thursday    1189\n",
       "3  2022-12-09    9       1   12               4          Friday     742\n",
       "4  2022-12-10   10       1   12               5        Saturday     317\n",
       "5  2022-12-11   11       1   12               6          Sunday     685\n",
       "6  2022-12-12   12       2   12               0          Monday    1366\n",
       "7  2022-12-13   13       2   12               1         Tuesday    1213\n",
       "8  2022-12-14   14       2   12               2       Wednesday    1055\n",
       "9  2022-12-15   15       2   12               3        Thursday    1343\n",
       "10 2022-12-16   16       2   12               4          Friday     832\n",
       "11 2022-12-17   17       2   12               5        Saturday     240\n",
       "12 2022-12-18   18       2   12               6          Sunday     235\n",
       "13 2022-12-19   19       3   12               0          Monday    1050\n",
       "14 2022-12-20   20       3   12               1         Tuesday     711\n",
       "15 2022-12-21   21       3   12               2       Wednesday     745\n",
       "16 2022-12-22   22       3   12               3        Thursday    1009\n",
       "17 2022-12-23   23       3   12               4          Friday      18\n",
       "18 2022-12-24   24       3   12               5        Saturday      40\n",
       "19 2022-12-25   25       3   12               6          Sunday      67\n",
       "20 2022-12-26   26       4   12               0          Monday     821\n",
       "21 2022-12-27   27       4   12               1         Tuesday     572\n",
       "22 2022-12-28   28       4   12               2       Wednesday     429\n",
       "23 2022-12-29   29       4   12               3        Thursday     638\n",
       "24 2022-12-30   30       4   12               4          Friday     106\n",
       "25 2022-12-31   31       4   12               5        Saturday      54\n",
       "26 2023-01-01    1       4    1               6          Sunday     144\n",
       "27 2023-01-02    2       5    1               0          Monday     814\n",
       "28 2023-01-03    3       5    1               1         Tuesday     679\n",
       "29 2023-01-04    4       5    1               2       Wednesday     712\n",
       "30 2023-01-05    5       5    1               3        Thursday    1229\n",
       "31 2023-01-06    6       5    1               4          Friday     821\n",
       "32 2023-01-07    7       5    1               5        Saturday     319\n",
       "33 2023-01-08    8       5    1               6          Sunday     317\n",
       "34 2023-01-09    9       6    1               0          Monday    1317\n",
       "35 2023-01-10   10       6    1               1         Tuesday     807\n",
       "36 2023-01-11   11       6    1               2       Wednesday     923\n",
       "37 2023-01-12   12       6    1               3        Thursday    1265\n",
       "38 2023-01-13   13       6    1               4          Friday     892\n",
       "39 2023-01-14   14       6    1               5        Saturday     289\n",
       "40 2023-01-15   15       6    1               6          Sunday     566\n",
       "41 2023-01-16   16       7    1               0          Monday    1692\n",
       "42 2023-01-17   17       7    1               1         Tuesday    1097\n",
       "43 2023-01-18   18       7    1               2       Wednesday    1302\n",
       "44 2023-01-19   19       7    1               3        Thursday    1405\n",
       "45 2023-01-20   20       7    1               4          Friday     945"
      ]
     },
     "metadata": {},
     "output_type": "display_data"
    }
   ],
   "source": [
    "# Reordenando as colunas do DataFrame\n",
    "df = df.reindex(columns=['Data','dia','semana','mes','dia_semana_num','dia_semana_nome','Vendas'])\n",
    "display(df)"
   ]
  },
  {
   "cell_type": "code",
   "execution_count": 10,
   "id": "890d6ea8",
   "metadata": {
    "scrolled": true
   },
   "outputs": [
    {
     "data": {
      "text/html": [
       "<div>\n",
       "<style scoped>\n",
       "    .dataframe tbody tr th:only-of-type {\n",
       "        vertical-align: middle;\n",
       "    }\n",
       "\n",
       "    .dataframe tbody tr th {\n",
       "        vertical-align: top;\n",
       "    }\n",
       "\n",
       "    .dataframe thead th {\n",
       "        text-align: right;\n",
       "    }\n",
       "</style>\n",
       "<table border=\"1\" class=\"dataframe\">\n",
       "  <thead>\n",
       "    <tr style=\"text-align: right;\">\n",
       "      <th></th>\n",
       "      <th>count</th>\n",
       "      <th>mean</th>\n",
       "      <th>std</th>\n",
       "      <th>min</th>\n",
       "      <th>25%</th>\n",
       "      <th>50%</th>\n",
       "      <th>75%</th>\n",
       "      <th>max</th>\n",
       "    </tr>\n",
       "    <tr>\n",
       "      <th>dia_semana_num</th>\n",
       "      <th></th>\n",
       "      <th></th>\n",
       "      <th></th>\n",
       "      <th></th>\n",
       "      <th></th>\n",
       "      <th></th>\n",
       "      <th></th>\n",
       "      <th></th>\n",
       "    </tr>\n",
       "  </thead>\n",
       "  <tbody>\n",
       "    <tr>\n",
       "      <th>0</th>\n",
       "      <td>6.0</td>\n",
       "      <td>1176.666667</td>\n",
       "      <td>345.015748</td>\n",
       "      <td>814.0</td>\n",
       "      <td>878.25</td>\n",
       "      <td>1183.5</td>\n",
       "      <td>1353.75</td>\n",
       "      <td>1692.0</td>\n",
       "    </tr>\n",
       "    <tr>\n",
       "      <th>1</th>\n",
       "      <td>7.0</td>\n",
       "      <td>849.857143</td>\n",
       "      <td>231.254858</td>\n",
       "      <td>572.0</td>\n",
       "      <td>695.00</td>\n",
       "      <td>807.0</td>\n",
       "      <td>983.50</td>\n",
       "      <td>1213.0</td>\n",
       "    </tr>\n",
       "    <tr>\n",
       "      <th>2</th>\n",
       "      <td>7.0</td>\n",
       "      <td>862.000000</td>\n",
       "      <td>276.370524</td>\n",
       "      <td>429.0</td>\n",
       "      <td>728.50</td>\n",
       "      <td>868.0</td>\n",
       "      <td>989.00</td>\n",
       "      <td>1302.0</td>\n",
       "    </tr>\n",
       "    <tr>\n",
       "      <th>3</th>\n",
       "      <td>7.0</td>\n",
       "      <td>1154.000000</td>\n",
       "      <td>259.863426</td>\n",
       "      <td>638.0</td>\n",
       "      <td>1099.00</td>\n",
       "      <td>1229.0</td>\n",
       "      <td>1304.00</td>\n",
       "      <td>1405.0</td>\n",
       "    </tr>\n",
       "    <tr>\n",
       "      <th>4</th>\n",
       "      <td>7.0</td>\n",
       "      <td>622.285714</td>\n",
       "      <td>388.673262</td>\n",
       "      <td>18.0</td>\n",
       "      <td>424.00</td>\n",
       "      <td>821.0</td>\n",
       "      <td>862.00</td>\n",
       "      <td>945.0</td>\n",
       "    </tr>\n",
       "    <tr>\n",
       "      <th>5</th>\n",
       "      <td>6.0</td>\n",
       "      <td>209.833333</td>\n",
       "      <td>129.388433</td>\n",
       "      <td>40.0</td>\n",
       "      <td>100.50</td>\n",
       "      <td>264.5</td>\n",
       "      <td>310.00</td>\n",
       "      <td>319.0</td>\n",
       "    </tr>\n",
       "    <tr>\n",
       "      <th>6</th>\n",
       "      <td>6.0</td>\n",
       "      <td>335.666667</td>\n",
       "      <td>242.688003</td>\n",
       "      <td>67.0</td>\n",
       "      <td>166.75</td>\n",
       "      <td>276.0</td>\n",
       "      <td>503.75</td>\n",
       "      <td>685.0</td>\n",
       "    </tr>\n",
       "  </tbody>\n",
       "</table>\n",
       "</div>"
      ],
      "text/plain": [
       "                count         mean         std    min      25%     50%  \\\n",
       "dia_semana_num                                                           \n",
       "0                 6.0  1176.666667  345.015748  814.0   878.25  1183.5   \n",
       "1                 7.0   849.857143  231.254858  572.0   695.00   807.0   \n",
       "2                 7.0   862.000000  276.370524  429.0   728.50   868.0   \n",
       "3                 7.0  1154.000000  259.863426  638.0  1099.00  1229.0   \n",
       "4                 7.0   622.285714  388.673262   18.0   424.00   821.0   \n",
       "5                 6.0   209.833333  129.388433   40.0   100.50   264.5   \n",
       "6                 6.0   335.666667  242.688003   67.0   166.75   276.0   \n",
       "\n",
       "                    75%     max  \n",
       "dia_semana_num                   \n",
       "0               1353.75  1692.0  \n",
       "1                983.50  1213.0  \n",
       "2                989.00  1302.0  \n",
       "3               1304.00  1405.0  \n",
       "4                862.00   945.0  \n",
       "5                310.00   319.0  \n",
       "6                503.75   685.0  "
      ]
     },
     "execution_count": 10,
     "metadata": {},
     "output_type": "execute_result"
    }
   ],
   "source": [
    "# Verificando as medidas basicas para as vendas por dia da semana\n",
    "df.groupby('dia_semana_num')['Vendas'].describe()"
   ]
  },
  {
   "cell_type": "code",
   "execution_count": 11,
   "id": "29ea667a",
   "metadata": {
    "scrolled": true
   },
   "outputs": [
    {
     "data": {
      "text/html": [
       "<div>\n",
       "<style scoped>\n",
       "    .dataframe tbody tr th:only-of-type {\n",
       "        vertical-align: middle;\n",
       "    }\n",
       "\n",
       "    .dataframe tbody tr th {\n",
       "        vertical-align: top;\n",
       "    }\n",
       "\n",
       "    .dataframe thead th {\n",
       "        text-align: right;\n",
       "    }\n",
       "</style>\n",
       "<table border=\"1\" class=\"dataframe\">\n",
       "  <thead>\n",
       "    <tr style=\"text-align: right;\">\n",
       "      <th></th>\n",
       "      <th>count</th>\n",
       "      <th>mean</th>\n",
       "      <th>std</th>\n",
       "      <th>min</th>\n",
       "      <th>25%</th>\n",
       "      <th>50%</th>\n",
       "      <th>75%</th>\n",
       "      <th>max</th>\n",
       "    </tr>\n",
       "    <tr>\n",
       "      <th>semana</th>\n",
       "      <th></th>\n",
       "      <th></th>\n",
       "      <th></th>\n",
       "      <th></th>\n",
       "      <th></th>\n",
       "      <th></th>\n",
       "      <th></th>\n",
       "      <th></th>\n",
       "    </tr>\n",
       "  </thead>\n",
       "  <tbody>\n",
       "    <tr>\n",
       "      <th>1</th>\n",
       "      <td>6.0</td>\n",
       "      <td>778.500000</td>\n",
       "      <td>285.639458</td>\n",
       "      <td>317.0</td>\n",
       "      <td>699.25</td>\n",
       "      <td>805.0</td>\n",
       "      <td>869.5</td>\n",
       "      <td>1189.0</td>\n",
       "    </tr>\n",
       "    <tr>\n",
       "      <th>2</th>\n",
       "      <td>7.0</td>\n",
       "      <td>897.714286</td>\n",
       "      <td>486.108943</td>\n",
       "      <td>235.0</td>\n",
       "      <td>536.00</td>\n",
       "      <td>1055.0</td>\n",
       "      <td>1278.0</td>\n",
       "      <td>1366.0</td>\n",
       "    </tr>\n",
       "    <tr>\n",
       "      <th>3</th>\n",
       "      <td>7.0</td>\n",
       "      <td>520.000000</td>\n",
       "      <td>464.532023</td>\n",
       "      <td>18.0</td>\n",
       "      <td>53.50</td>\n",
       "      <td>711.0</td>\n",
       "      <td>877.0</td>\n",
       "      <td>1050.0</td>\n",
       "    </tr>\n",
       "    <tr>\n",
       "      <th>4</th>\n",
       "      <td>7.0</td>\n",
       "      <td>394.857143</td>\n",
       "      <td>298.834641</td>\n",
       "      <td>54.0</td>\n",
       "      <td>125.00</td>\n",
       "      <td>429.0</td>\n",
       "      <td>605.0</td>\n",
       "      <td>821.0</td>\n",
       "    </tr>\n",
       "    <tr>\n",
       "      <th>5</th>\n",
       "      <td>7.0</td>\n",
       "      <td>698.714286</td>\n",
       "      <td>316.201789</td>\n",
       "      <td>317.0</td>\n",
       "      <td>499.00</td>\n",
       "      <td>712.0</td>\n",
       "      <td>817.5</td>\n",
       "      <td>1229.0</td>\n",
       "    </tr>\n",
       "    <tr>\n",
       "      <th>6</th>\n",
       "      <td>7.0</td>\n",
       "      <td>865.571429</td>\n",
       "      <td>363.532602</td>\n",
       "      <td>289.0</td>\n",
       "      <td>686.50</td>\n",
       "      <td>892.0</td>\n",
       "      <td>1094.0</td>\n",
       "      <td>1317.0</td>\n",
       "    </tr>\n",
       "    <tr>\n",
       "      <th>7</th>\n",
       "      <td>5.0</td>\n",
       "      <td>1288.200000</td>\n",
       "      <td>287.763271</td>\n",
       "      <td>945.0</td>\n",
       "      <td>1097.00</td>\n",
       "      <td>1302.0</td>\n",
       "      <td>1405.0</td>\n",
       "      <td>1692.0</td>\n",
       "    </tr>\n",
       "  </tbody>\n",
       "</table>\n",
       "</div>"
      ],
      "text/plain": [
       "        count         mean         std    min      25%     50%     75%     max\n",
       "semana                                                                        \n",
       "1         6.0   778.500000  285.639458  317.0   699.25   805.0   869.5  1189.0\n",
       "2         7.0   897.714286  486.108943  235.0   536.00  1055.0  1278.0  1366.0\n",
       "3         7.0   520.000000  464.532023   18.0    53.50   711.0   877.0  1050.0\n",
       "4         7.0   394.857143  298.834641   54.0   125.00   429.0   605.0   821.0\n",
       "5         7.0   698.714286  316.201789  317.0   499.00   712.0   817.5  1229.0\n",
       "6         7.0   865.571429  363.532602  289.0   686.50   892.0  1094.0  1317.0\n",
       "7         5.0  1288.200000  287.763271  945.0  1097.00  1302.0  1405.0  1692.0"
      ]
     },
     "execution_count": 11,
     "metadata": {},
     "output_type": "execute_result"
    }
   ],
   "source": [
    "# Verificando as medidas basicas para as vendas por semana\n",
    "df.groupby('semana')['Vendas'].describe()"
   ]
  },
  {
   "cell_type": "markdown",
   "id": "a9f1fa1d",
   "metadata": {},
   "source": [
    "## Realizando algumas verficações por gráficos"
   ]
  },
  {
   "cell_type": "code",
   "execution_count": 12,
   "id": "7b8ea503",
   "metadata": {},
   "outputs": [
    {
     "data": {
      "image/png": "[encoded data removed]",
      "text/plain": [
       "<Figure size 800x600 with 1 Axes>"
      ]
     },
     "metadata": {},
     "output_type": "display_data"
    }
   ],
   "source": [
    "# Criando um plot pra verificar a existência de outliers nos dias da semana\n",
    "sns.set_theme(style=\"ticks\", palette=\"pastel\")\n",
    "fig, ax = plt.subplots(figsize=(8,6))\n",
    "\n",
    "# plot\n",
    "\n",
    "sns.boxplot(x = df.dia_semana_nome, y = df.Vendas, data=df)\n",
    "sns.despine(offset=10, trim=True)\n",
    "ax.xaxis.set_label_text(\"Dia da semana\",fontdict= {'size':14})\n",
    "ax.yaxis.set_label_text(\"Vendas\",fontdict= {'size':14})\n",
    "plt.show()"
   ]
  },
  {
   "cell_type": "markdown",
   "id": "ef1727cc",
   "metadata": {},
   "source": [
    "Nota-se que, em geral, os dados não possuem extremidades e os valores estão dentro da linha de correção"
   ]
  },
  {
   "cell_type": "code",
   "execution_count": 13,
   "id": "836d6ba5",
   "metadata": {
    "scrolled": true
   },
   "outputs": [
    {
     "data": {
      "text/plain": [
       "<seaborn.axisgrid.FacetGrid at 0x247c1c88820>"
      ]
     },
     "execution_count": 13,
     "metadata": {},
     "output_type": "execute_result"
    },
    {
     "data": {
      "image/png": "[encoded data removed]",
      "text/plain": [
       "<Figure size 900x600 with 1 Axes>"
      ]
     },
     "metadata": {},
     "output_type": "display_data"
    }
   ],
   "source": [
    "# Criando um gráfico para a distribuição de vendas ao longo dos dias da semana\n",
    "g = sns.catplot(x=\"dia_semana_nome\", y=\"Vendas\", data=df, kind=\"bar\", palette=\"BuPu\",\n",
    "            height=6, aspect=1.5)\n",
    "g.despine(left=True)\n",
    "g.set_axis_labels(\"\", 'Total de Vendas')"
   ]
  },
  {
   "cell_type": "markdown",
   "id": "dac9a1d3",
   "metadata": {},
   "source": [
    "Pelo gráfico, conseguimos notar que os melhores dias de venda são quinta e segunda"
   ]
  },
  {
   "cell_type": "markdown",
   "id": "70e25c6c",
   "metadata": {},
   "source": [
    "## Verificando se existe disparidade entre as semanas do mês"
   ]
  },
  {
   "cell_type": "code",
   "execution_count": 14,
   "id": "a95d67f3",
   "metadata": {
    "scrolled": true
   },
   "outputs": [
    {
     "data": {
      "text/plain": [
       "<seaborn.axisgrid.FacetGrid at 0x247c258ab80>"
      ]
     },
     "execution_count": 14,
     "metadata": {},
     "output_type": "execute_result"
    },
    {
     "data": {
      "image/png": "[encoded data removed]",
      "text/plain": [
       "<Figure size 900x600 with 1 Axes>"
      ]
     },
     "metadata": {},
     "output_type": "display_data"
    }
   ],
   "source": [
    "# Criando um gráfico para ver a distribuição por semana\n",
    "g = sns.catplot(x=\"semana\", y=\"Vendas\", data=df, kind=\"bar\", palette=\"BuPu\",\n",
    "            height=6, aspect=1.5)\n",
    "g.despine(left=True)\n",
    "g.set_axis_labels(\"\", 'Total de Vendas')"
   ]
  },
  {
   "cell_type": "markdown",
   "id": "14c824d1",
   "metadata": {},
   "source": [
    "O gráfico demonstra um pleno crescimento de vendas nas últimas semanas"
   ]
  },
  {
   "cell_type": "code",
   "execution_count": 15,
   "id": "8cb69cbd",
   "metadata": {
    "scrolled": true
   },
   "outputs": [
    {
     "data": {
      "text/html": [
       "<div>\n",
       "<style scoped>\n",
       "    .dataframe tbody tr th:only-of-type {\n",
       "        vertical-align: middle;\n",
       "    }\n",
       "\n",
       "    .dataframe tbody tr th {\n",
       "        vertical-align: top;\n",
       "    }\n",
       "\n",
       "    .dataframe thead th {\n",
       "        text-align: right;\n",
       "    }\n",
       "</style>\n",
       "<table border=\"1\" class=\"dataframe\">\n",
       "  <thead>\n",
       "    <tr style=\"text-align: right;\">\n",
       "      <th></th>\n",
       "      <th>Data</th>\n",
       "      <th>dia</th>\n",
       "      <th>semana</th>\n",
       "      <th>mes</th>\n",
       "      <th>dia_semana_num</th>\n",
       "      <th>dia_semana_nome</th>\n",
       "      <th>Vendas</th>\n",
       "    </tr>\n",
       "  </thead>\n",
       "  <tbody>\n",
       "    <tr>\n",
       "      <th>0</th>\n",
       "      <td>2022-12-06</td>\n",
       "      <td>6</td>\n",
       "      <td>1</td>\n",
       "      <td>12</td>\n",
       "      <td>1</td>\n",
       "      <td>Tuesday</td>\n",
       "      <td>870</td>\n",
       "    </tr>\n",
       "    <tr>\n",
       "      <th>1</th>\n",
       "      <td>2022-12-07</td>\n",
       "      <td>7</td>\n",
       "      <td>1</td>\n",
       "      <td>12</td>\n",
       "      <td>2</td>\n",
       "      <td>Wednesday</td>\n",
       "      <td>868</td>\n",
       "    </tr>\n",
       "    <tr>\n",
       "      <th>2</th>\n",
       "      <td>2022-12-08</td>\n",
       "      <td>8</td>\n",
       "      <td>1</td>\n",
       "      <td>12</td>\n",
       "      <td>3</td>\n",
       "      <td>Thursday</td>\n",
       "      <td>1189</td>\n",
       "    </tr>\n",
       "    <tr>\n",
       "      <th>3</th>\n",
       "      <td>2022-12-09</td>\n",
       "      <td>9</td>\n",
       "      <td>1</td>\n",
       "      <td>12</td>\n",
       "      <td>4</td>\n",
       "      <td>Friday</td>\n",
       "      <td>742</td>\n",
       "    </tr>\n",
       "    <tr>\n",
       "      <th>4</th>\n",
       "      <td>2022-12-10</td>\n",
       "      <td>10</td>\n",
       "      <td>1</td>\n",
       "      <td>12</td>\n",
       "      <td>5</td>\n",
       "      <td>Saturday</td>\n",
       "      <td>317</td>\n",
       "    </tr>\n",
       "  </tbody>\n",
       "</table>\n",
       "</div>"
      ],
      "text/plain": [
       "        Data  dia  semana  mes  dia_semana_num dia_semana_nome  Vendas\n",
       "0 2022-12-06    6       1   12               1         Tuesday     870\n",
       "1 2022-12-07    7       1   12               2       Wednesday     868\n",
       "2 2022-12-08    8       1   12               3        Thursday    1189\n",
       "3 2022-12-09    9       1   12               4          Friday     742\n",
       "4 2022-12-10   10       1   12               5        Saturday     317"
      ]
     },
     "execution_count": 15,
     "metadata": {},
     "output_type": "execute_result"
    }
   ],
   "source": [
    "df.head()"
   ]
  },
  {
   "cell_type": "code",
   "execution_count": 16,
   "id": "4d71a34c",
   "metadata": {
    "scrolled": true
   },
   "outputs": [
    {
     "data": {
      "text/plain": [
       "Index(['Data', 'dia', 'semana', 'mes', 'dia_semana_num', 'dia_semana_nome',\n",
       "       'Vendas'],\n",
       "      dtype='object')"
      ]
     },
     "execution_count": 16,
     "metadata": {},
     "output_type": "execute_result"
    }
   ],
   "source": [
    "df.columns"
   ]
  },
  {
   "cell_type": "code",
   "execution_count": 17,
   "id": "9577f828",
   "metadata": {
    "scrolled": true
   },
   "outputs": [
    {
     "data": {
      "text/plain": [
       "<AxesSubplot:xlabel='Data', ylabel='Vendas'>"
      ]
     },
     "execution_count": 17,
     "metadata": {},
     "output_type": "execute_result"
    },
    {
     "data": {
      "image/png": "[encoded data removed]",
      "text/plain": [
       "<Figure size 640x480 with 1 Axes>"
      ]
     },
     "metadata": {},
     "output_type": "display_data"
    }
   ],
   "source": [
    "sns.lineplot(x=\"Data\", y=\"Vendas\",data=df)"
   ]
  },
  {
   "cell_type": "markdown",
   "id": "3c646101",
   "metadata": {},
   "source": [
    "# Realizando testes de previsões nos dados"
   ]
  },
  {
   "cell_type": "markdown",
   "id": "4e45f505",
   "metadata": {},
   "source": [
    "# ----------------------------------------"
   ]
  },
  {
   "cell_type": "markdown",
   "id": "7f27ce3e",
   "metadata": {},
   "source": [
    "## testando coisas"
   ]
  },
  {
   "cell_type": "code",
   "execution_count": 18,
   "id": "5617191b",
   "metadata": {
    "scrolled": true
   },
   "outputs": [
    {
     "name": "stdout",
     "output_type": "stream",
     "text": [
      "Requirement already satisfied: pmdarima in c:\\users\\junio\\anaconda3\\lib\\site-packages (2.0.2)\n",
      "Requirement already satisfied: Cython!=0.29.18,!=0.29.31,>=0.29 in c:\\users\\junio\\anaconda3\\lib\\site-packages (from pmdarima) (0.29.32)\n",
      "Requirement already satisfied: scipy>=1.3.2 in c:\\users\\junio\\anaconda3\\lib\\site-packages (from pmdarima) (1.9.1)\n",
      "Requirement already satisfied: numpy>=1.21.2 in c:\\users\\junio\\anaconda3\\lib\\site-packages (from pmdarima) (1.21.5)\n",
      "Requirement already satisfied: statsmodels>=0.13.2 in c:\\users\\junio\\anaconda3\\lib\\site-packages (from pmdarima) (0.13.2)\n",
      "Requirement already satisfied: urllib3 in c:\\users\\junio\\anaconda3\\lib\\site-packages (from pmdarima) (1.26.11)\n",
      "Requirement already satisfied: joblib>=0.11 in c:\\users\\junio\\anaconda3\\lib\\site-packages (from pmdarima) (1.1.0)\n",
      "Requirement already satisfied: setuptools!=50.0.0,>=38.6.0 in c:\\users\\junio\\anaconda3\\lib\\site-packages (from pmdarima) (63.4.1)\n",
      "Requirement already satisfied: scikit-learn>=0.22 in c:\\users\\junio\\anaconda3\\lib\\site-packages (from pmdarima) (1.0.2)\n",
      "Requirement already satisfied: pandas>=0.19 in c:\\users\\junio\\anaconda3\\lib\\site-packages (from pmdarima) (1.4.4)\n",
      "Requirement already satisfied: pytz>=2020.1 in c:\\users\\junio\\anaconda3\\lib\\site-packages (from pandas>=0.19->pmdarima) (2022.1)\n",
      "Requirement already satisfied: python-dateutil>=2.8.1 in c:\\users\\junio\\anaconda3\\lib\\site-packages (from pandas>=0.19->pmdarima) (2.8.2)\n",
      "Requirement already satisfied: threadpoolctl>=2.0.0 in c:\\users\\junio\\anaconda3\\lib\\site-packages (from scikit-learn>=0.22->pmdarima) (2.2.0)\n",
      "Requirement already satisfied: patsy>=0.5.2 in c:\\users\\junio\\anaconda3\\lib\\site-packages (from statsmodels>=0.13.2->pmdarima) (0.5.2)\n",
      "Requirement already satisfied: packaging>=21.3 in c:\\users\\junio\\anaconda3\\lib\\site-packages (from statsmodels>=0.13.2->pmdarima) (21.3)\n",
      "Requirement already satisfied: pyparsing!=3.0.5,>=2.0.2 in c:\\users\\junio\\anaconda3\\lib\\site-packages (from packaging>=21.3->statsmodels>=0.13.2->pmdarima) (3.0.9)\n",
      "Requirement already satisfied: six in c:\\users\\junio\\anaconda3\\lib\\site-packages (from patsy>=0.5.2->statsmodels>=0.13.2->pmdarima) (1.16.0)\n"
     ]
    }
   ],
   "source": [
    "# Baixando a biblioteca necessaria para fazer a previsão\n",
    "!pip install pmdarima\n",
    "from pmdarima.arima import auto_arima\n"
   ]
  },
  {
   "cell_type": "code",
   "execution_count": 19,
   "id": "e5fc2581",
   "metadata": {
    "scrolled": true
   },
   "outputs": [
    {
     "data": {
      "text/html": [
       "<div>\n",
       "<style scoped>\n",
       "    .dataframe tbody tr th:only-of-type {\n",
       "        vertical-align: middle;\n",
       "    }\n",
       "\n",
       "    .dataframe tbody tr th {\n",
       "        vertical-align: top;\n",
       "    }\n",
       "\n",
       "    .dataframe thead th {\n",
       "        text-align: right;\n",
       "    }\n",
       "</style>\n",
       "<table border=\"1\" class=\"dataframe\">\n",
       "  <thead>\n",
       "    <tr style=\"text-align: right;\">\n",
       "      <th></th>\n",
       "      <th>Vendas</th>\n",
       "    </tr>\n",
       "    <tr>\n",
       "      <th>Data</th>\n",
       "      <th></th>\n",
       "    </tr>\n",
       "  </thead>\n",
       "  <tbody>\n",
       "    <tr>\n",
       "      <th>2022-12-06</th>\n",
       "      <td>870</td>\n",
       "    </tr>\n",
       "    <tr>\n",
       "      <th>2022-12-07</th>\n",
       "      <td>868</td>\n",
       "    </tr>\n",
       "    <tr>\n",
       "      <th>2022-12-08</th>\n",
       "      <td>1189</td>\n",
       "    </tr>\n",
       "    <tr>\n",
       "      <th>2022-12-09</th>\n",
       "      <td>742</td>\n",
       "    </tr>\n",
       "    <tr>\n",
       "      <th>2022-12-10</th>\n",
       "      <td>317</td>\n",
       "    </tr>\n",
       "  </tbody>\n",
       "</table>\n",
       "</div>"
      ],
      "text/plain": [
       "            Vendas\n",
       "Data              \n",
       "2022-12-06     870\n",
       "2022-12-07     868\n",
       "2022-12-08    1189\n",
       "2022-12-09     742\n",
       "2022-12-10     317"
      ]
     },
     "execution_count": 19,
     "metadata": {},
     "output_type": "execute_result"
    }
   ],
   "source": [
    "# Importando novamente os dados, mas desta vez usando somente as duas colunas primarias\n",
    "data_new = pd.read_excel('Dados.xlsx', parse_dates=['Data'], index_col='Data')\n",
    "data_new.head()"
   ]
  },
  {
   "cell_type": "code",
   "execution_count": 20,
   "id": "dbda28a5",
   "metadata": {},
   "outputs": [
    {
     "data": {
      "text/plain": [
       "(0.32861105775592603, True)"
      ]
     },
     "execution_count": 20,
     "metadata": {},
     "output_type": "execute_result"
    }
   ],
   "source": [
    "# Verificando se os dados são estacionarios\n",
    "from pmdarima.arima import ADFTest \n",
    "adf_test = ADFTest(alpha = 0.05)\n",
    "adf_test.should_diff(data_new)"
   ]
  },
  {
   "cell_type": "markdown",
   "id": "56da6ee9",
   "metadata": {},
   "source": [
    "Conclui-se tanto pelo gráfico, quando pelo ADF teste, que os dados não são estacionarios"
   ]
  },
  {
   "cell_type": "markdown",
   "id": "b40b67f3",
   "metadata": {},
   "source": [
    "# Transformando os dados não estacionarios em estacionarios"
   ]
  },
  {
   "cell_type": "code",
   "execution_count": 21,
   "id": "8fed8331",
   "metadata": {
    "scrolled": true
   },
   "outputs": [],
   "source": [
    "# Criando outra base de dados e criando uma coluna que faz a diferenca de valor entre o dia anterior e o atual\n",
    "data_stationary = data_new.copy()\n",
    "data_stationary['diference'] = data_stationary['Vendas'] - data_stationary['Vendas'].shift(1)"
   ]
  },
  {
   "cell_type": "code",
   "execution_count": 22,
   "id": "2ed43b4d",
   "metadata": {
    "scrolled": true
   },
   "outputs": [],
   "source": [
    "# Dropando a coluna vendas e retirando valores nulos\n",
    "data_stationary = data_stationary.drop('Vendas', axis=1)\n",
    "data_stationary = data_stationary.dropna()\n"
   ]
  },
  {
   "cell_type": "code",
   "execution_count": 23,
   "id": "c99ca8e5",
   "metadata": {
    "scrolled": true
   },
   "outputs": [
    {
     "data": {
      "text/plain": [
       "(0.01, False)"
      ]
     },
     "execution_count": 23,
     "metadata": {},
     "output_type": "execute_result"
    }
   ],
   "source": [
    "# Verificando novamente se o dado é ou não estacionario\n",
    "adf_test = ADFTest(alpha = 0.05)\n",
    "adf_test.should_diff(data_stationary)"
   ]
  },
  {
   "cell_type": "code",
   "execution_count": 24,
   "id": "90b4b041",
   "metadata": {},
   "outputs": [
    {
     "data": {
      "image/png": "[encoded data removed]",
      "text/plain": [
       "<Figure size 640x480 with 1 Axes>"
      ]
     },
     "metadata": {},
     "output_type": "display_data"
    }
   ],
   "source": [
    "# Criando graficos de pirulitos para identificar padroes p e q\n",
    "\n",
    "from statsmodels.graphics.tsaplots import plot_acf, plot_pacf\n",
    "plot_acf(data_stationary)\n",
    "plt.show()"
   ]
  },
  {
   "cell_type": "code",
   "execution_count": 25,
   "id": "154891ee",
   "metadata": {},
   "outputs": [
    {
     "name": "stderr",
     "output_type": "stream",
     "text": [
      "C:\\Users\\junio\\anaconda3\\lib\\site-packages\\statsmodels\\graphics\\tsaplots.py:348: FutureWarning: The default method 'yw' can produce PACF values outside of the [-1,1] interval. After 0.13, the default will change tounadjusted Yule-Walker ('ywm'). You can use this method now by setting method='ywm'.\n",
      "  warnings.warn(\n"
     ]
    },
    {
     "data": {
      "image/png": "[encoded data removed]",
      "text/plain": [
       "<Figure size 640x480 with 1 Axes>"
      ]
     },
     "metadata": {},
     "output_type": "display_data"
    }
   ],
   "source": [
    "plot_pacf(data_stationary)\n",
    "plt.show()"
   ]
  },
  {
   "cell_type": "markdown",
   "id": "3311d302",
   "metadata": {},
   "source": [
    "Como o teste mostrou, agora a hipotese de que os dados não sao estacionario é falsa"
   ]
  },
  {
   "cell_type": "markdown",
   "id": "5439945c",
   "metadata": {},
   "source": [
    "# Realizando previsoes com os dados corrigidos"
   ]
  },
  {
   "cell_type": "code",
   "execution_count": 26,
   "id": "88e6bd7f",
   "metadata": {
    "scrolled": true
   },
   "outputs": [
    {
     "name": "stdout",
     "output_type": "stream",
     "text": [
      " ARIMA(0,1,0)(0,0,0)[7] intercept   : AIC=707.521, Time=0.02 sec\n",
      " ARIMA(0,1,0)(0,0,1)[7] intercept   : AIC=inf, Time=0.10 sec\n",
      " ARIMA(0,1,0)(0,0,2)[7] intercept   : AIC=670.326, Time=0.11 sec\n",
      " ARIMA(0,1,0)(1,0,0)[7] intercept   : AIC=657.616, Time=0.10 sec\n",
      " ARIMA(0,1,0)(1,0,1)[7] intercept   : AIC=659.408, Time=0.26 sec\n",
      " ARIMA(0,1,0)(1,0,2)[7] intercept   : AIC=657.852, Time=0.31 sec\n",
      " ARIMA(0,1,0)(2,0,0)[7] intercept   : AIC=659.526, Time=0.12 sec\n",
      " ARIMA(0,1,0)(2,0,1)[7] intercept   : AIC=inf, Time=0.37 sec\n",
      " ARIMA(0,1,0)(2,0,2)[7] intercept   : AIC=661.768, Time=0.38 sec\n",
      " ARIMA(0,1,1)(0,0,0)[7] intercept   : AIC=inf, Time=0.04 sec\n",
      " ARIMA(0,1,1)(0,0,1)[7] intercept   : AIC=inf, Time=0.19 sec\n",
      " ARIMA(0,1,1)(0,0,2)[7] intercept   : AIC=inf, Time=0.19 sec\n",
      " ARIMA(0,1,1)(1,0,0)[7] intercept   : AIC=inf, Time=0.20 sec\n",
      " ARIMA(0,1,1)(1,0,1)[7] intercept   : AIC=inf, Time=0.33 sec\n",
      " ARIMA(0,1,1)(1,0,2)[7] intercept   : AIC=inf, Time=0.42 sec\n",
      " ARIMA(0,1,1)(2,0,0)[7] intercept   : AIC=622.453, Time=0.27 sec\n",
      " ARIMA(0,1,1)(2,0,1)[7] intercept   : AIC=inf, Time=0.43 sec\n",
      " ARIMA(0,1,1)(2,0,2)[7] intercept   : AIC=inf, Time=0.58 sec\n",
      " ARIMA(1,1,0)(0,0,0)[7] intercept   : AIC=701.408, Time=0.02 sec\n",
      " ARIMA(1,1,0)(0,0,1)[7] intercept   : AIC=inf, Time=0.15 sec\n",
      " ARIMA(1,1,0)(0,0,2)[7] intercept   : AIC=663.260, Time=0.13 sec\n",
      " ARIMA(1,1,0)(1,0,0)[7] intercept   : AIC=645.498, Time=0.20 sec\n",
      " ARIMA(1,1,0)(1,0,1)[7] intercept   : AIC=644.406, Time=0.33 sec\n",
      " ARIMA(1,1,0)(1,0,2)[7] intercept   : AIC=643.237, Time=0.38 sec\n",
      " ARIMA(1,1,0)(2,0,0)[7] intercept   : AIC=inf, Time=0.30 sec\n",
      " ARIMA(1,1,0)(2,0,1)[7] intercept   : AIC=inf, Time=0.40 sec\n",
      " ARIMA(1,1,0)(2,0,2)[7] intercept   : AIC=648.979, Time=0.64 sec\n",
      " ARIMA(1,1,1)(0,0,0)[7] intercept   : AIC=inf, Time=0.16 sec\n",
      " ARIMA(1,1,1)(0,0,1)[7] intercept   : AIC=inf, Time=0.20 sec\n",
      " ARIMA(1,1,1)(0,0,2)[7] intercept   : AIC=inf, Time=0.35 sec\n",
      " ARIMA(1,1,1)(1,0,0)[7] intercept   : AIC=inf, Time=0.19 sec\n",
      " ARIMA(1,1,1)(1,0,1)[7] intercept   : AIC=inf, Time=0.39 sec\n",
      " ARIMA(1,1,1)(1,0,2)[7] intercept   : AIC=inf, Time=0.46 sec\n",
      " ARIMA(1,1,1)(2,0,0)[7] intercept   : AIC=624.070, Time=0.41 sec\n",
      " ARIMA(1,1,1)(2,0,1)[7] intercept   : AIC=inf, Time=0.44 sec\n",
      "\n",
      "Best model:  ARIMA(0,1,1)(2,0,0)[7] intercept\n",
      "Total fit time: 9.580 seconds\n"
     ]
    }
   ],
   "source": [
    "# Criando o modelo com os parametros base,\n",
    "# considero que a base de dados é diaria, por isso colocarei seasonalidade diaria\n",
    "modelo = auto_arima(data_stationary, start_p = 1, start_q = 1, max_p = 1,max_q = 1,\n",
    "                    m = 7, test = 'pp', start_P = 0, seasonal = True, d = 1, D = 0,\n",
    "                    trace = True, error_action = 'ignore',\n",
    "                    suppress_warnings = True, stepwise = False)\n",
    "# 625\n",
    "\n",
    "# modelo = auto_arima(data_new, start_p=1, start_q=1, test='pp',\n",
    "#                       max_p=6, max_q=6, m=7, seasonal=True, start_P=0, \n",
    "#                       D=0, trace=True, error_action='ignore',      \n",
    "#                       suppress_warnings=True, stepwise=False) \n",
    "# # 510 \n",
    "\n"
   ]
  },
  {
   "cell_type": "code",
   "execution_count": 27,
   "id": "51958590",
   "metadata": {
    "scrolled": false
   },
   "outputs": [
    {
     "name": "stdout",
     "output_type": "stream",
     "text": [
      "622.4532354809984\n"
     ]
    }
   ],
   "source": [
    "# verificando o indice com melhor perfomance\n",
    "print(modelo.aic()) "
   ]
  },
  {
   "cell_type": "code",
   "execution_count": 28,
   "id": "d431fe62",
   "metadata": {},
   "outputs": [],
   "source": [
    "# Separando dados de treino e de teste com % 80 - 20\n",
    "train = data_stationary.iloc[0:37]\n",
    "test = data_stationary.iloc[37:]"
   ]
  },
  {
   "cell_type": "code",
   "execution_count": 29,
   "id": "87850777",
   "metadata": {},
   "outputs": [
    {
     "data": {
      "text/plain": [
       "ARIMA(order=(0, 1, 1), scoring_args={}, seasonal_order=(2, 0, 0, 7),\n",
       "      suppress_warnings=True)"
      ]
     },
     "execution_count": 29,
     "metadata": {},
     "output_type": "execute_result"
    }
   ],
   "source": [
    "# Treinando o modelo \n",
    "modelo.fit(train)"
   ]
  },
  {
   "cell_type": "code",
   "execution_count": 30,
   "id": "f57fa666",
   "metadata": {},
   "outputs": [],
   "source": [
    "# Fazendo predicoes\n",
    "predicao = modelo.predict(n_periods = 13)\n",
    "predicao = pd.DataFrame(predicao, index= test.index, columns = ['diference'])"
   ]
  },
  {
   "cell_type": "code",
   "execution_count": 31,
   "id": "05b105fe",
   "metadata": {
    "scrolled": true
   },
   "outputs": [
    {
     "data": {
      "text/plain": [
       "<AxesSubplot:xlabel='Data'>"
      ]
     },
     "execution_count": 31,
     "metadata": {},
     "output_type": "execute_result"
    },
    {
     "data": {
      "image/png": "[encoded data removed]",
      "text/plain": [
       "<Figure size 640x480 with 1 Axes>"
      ]
     },
     "metadata": {},
     "output_type": "display_data"
    }
   ],
   "source": [
    "# Realizando um plot de comparacao dos dados previstos e reais\n",
    "\n",
    "pd.concat([data_stationary, predicao], axis = 1).plot()"
   ]
  },
  {
   "cell_type": "code",
   "execution_count": 32,
   "id": "a2d9725c",
   "metadata": {
    "scrolled": true
   },
   "outputs": [
    {
     "data": {
      "text/html": [
       "<table class=\"simpletable\">\n",
       "<caption>SARIMAX Results</caption>\n",
       "<tr>\n",
       "  <th>Dep. Variable:</th>                  <td>y</td>               <th>  No. Observations:  </th>    <td>37</td>   \n",
       "</tr>\n",
       "<tr>\n",
       "  <th>Model:</th>           <td>SARIMAX(0, 1, 1)x(2, 0, [], 7)</td> <th>  Log Likelihood     </th> <td>-252.120</td>\n",
       "</tr>\n",
       "<tr>\n",
       "  <th>Date:</th>                   <td>Wed, 01 Feb 2023</td>        <th>  AIC                </th>  <td>514.241</td>\n",
       "</tr>\n",
       "<tr>\n",
       "  <th>Time:</th>                       <td>21:50:38</td>            <th>  BIC                </th>  <td>522.158</td>\n",
       "</tr>\n",
       "<tr>\n",
       "  <th>Sample:</th>                    <td>12-07-2022</td>           <th>  HQIC               </th>  <td>517.004</td>\n",
       "</tr>\n",
       "<tr>\n",
       "  <th></th>                          <td>- 01-12-2023</td>          <th>                     </th>     <td> </td>   \n",
       "</tr>\n",
       "<tr>\n",
       "  <th>Covariance Type:</th>               <td>opg</td>              <th>                     </th>     <td> </td>   \n",
       "</tr>\n",
       "</table>\n",
       "<table class=\"simpletable\">\n",
       "<tr>\n",
       "      <td></td>         <th>coef</th>     <th>std err</th>      <th>z</th>      <th>P>|z|</th>  <th>[0.025</th>    <th>0.975]</th>  \n",
       "</tr>\n",
       "<tr>\n",
       "  <th>intercept</th> <td>    0.0325</td> <td>    0.440</td> <td>    0.074</td> <td> 0.941</td> <td>   -0.829</td> <td>    0.894</td>\n",
       "</tr>\n",
       "<tr>\n",
       "  <th>ma.L1</th>     <td>   -1.0000</td> <td>    0.255</td> <td>   -3.920</td> <td> 0.000</td> <td>   -1.500</td> <td>   -0.500</td>\n",
       "</tr>\n",
       "<tr>\n",
       "  <th>ar.S.L7</th>   <td>    0.6135</td> <td>    0.265</td> <td>    2.313</td> <td> 0.021</td> <td>    0.094</td> <td>    1.133</td>\n",
       "</tr>\n",
       "<tr>\n",
       "  <th>ar.S.L14</th>  <td>    0.2955</td> <td>    0.289</td> <td>    1.021</td> <td> 0.307</td> <td>   -0.272</td> <td>    0.863</td>\n",
       "</tr>\n",
       "<tr>\n",
       "  <th>sigma2</th>    <td> 5.185e+04</td> <td> 4.91e-06</td> <td> 1.06e+10</td> <td> 0.000</td> <td> 5.18e+04</td> <td> 5.18e+04</td>\n",
       "</tr>\n",
       "</table>\n",
       "<table class=\"simpletable\">\n",
       "<tr>\n",
       "  <th>Ljung-Box (L1) (Q):</th>     <td>2.62</td> <th>  Jarque-Bera (JB):  </th> <td>0.28</td> \n",
       "</tr>\n",
       "<tr>\n",
       "  <th>Prob(Q):</th>                <td>0.11</td> <th>  Prob(JB):          </th> <td>0.87</td> \n",
       "</tr>\n",
       "<tr>\n",
       "  <th>Heteroskedasticity (H):</th> <td>1.45</td> <th>  Skew:              </th> <td>-0.22</td>\n",
       "</tr>\n",
       "<tr>\n",
       "  <th>Prob(H) (two-sided):</th>    <td>0.53</td> <th>  Kurtosis:          </th> <td>3.02</td> \n",
       "</tr>\n",
       "</table><br/><br/>Warnings:<br/>[1] Covariance matrix calculated using the outer product of gradients (complex-step).<br/>[2] Covariance matrix is singular or near-singular, with condition number 4.47e+25. Standard errors may be unstable."
      ],
      "text/plain": [
       "<class 'statsmodels.iolib.summary.Summary'>\n",
       "\"\"\"\n",
       "                                     SARIMAX Results                                      \n",
       "==========================================================================================\n",
       "Dep. Variable:                                  y   No. Observations:                   37\n",
       "Model:             SARIMAX(0, 1, 1)x(2, 0, [], 7)   Log Likelihood                -252.120\n",
       "Date:                            Wed, 01 Feb 2023   AIC                            514.241\n",
       "Time:                                    21:50:38   BIC                            522.158\n",
       "Sample:                                12-07-2022   HQIC                           517.004\n",
       "                                     - 01-12-2023                                         \n",
       "Covariance Type:                              opg                                         \n",
       "==============================================================================\n",
       "                 coef    std err          z      P>|z|      [0.025      0.975]\n",
       "------------------------------------------------------------------------------\n",
       "intercept      0.0325      0.440      0.074      0.941      -0.829       0.894\n",
       "ma.L1         -1.0000      0.255     -3.920      0.000      -1.500      -0.500\n",
       "ar.S.L7        0.6135      0.265      2.313      0.021       0.094       1.133\n",
       "ar.S.L14       0.2955      0.289      1.021      0.307      -0.272       0.863\n",
       "sigma2      5.185e+04   4.91e-06   1.06e+10      0.000    5.18e+04    5.18e+04\n",
       "===================================================================================\n",
       "Ljung-Box (L1) (Q):                   2.62   Jarque-Bera (JB):                 0.28\n",
       "Prob(Q):                              0.11   Prob(JB):                         0.87\n",
       "Heteroskedasticity (H):               1.45   Skew:                            -0.22\n",
       "Prob(H) (two-sided):                  0.53   Kurtosis:                         3.02\n",
       "===================================================================================\n",
       "\n",
       "Warnings:\n",
       "[1] Covariance matrix calculated using the outer product of gradients (complex-step).\n",
       "[2] Covariance matrix is singular or near-singular, with condition number 4.47e+25. Standard errors may be unstable.\n",
       "\"\"\""
      ]
     },
     "execution_count": 32,
     "metadata": {},
     "output_type": "execute_result"
    }
   ],
   "source": [
    "# Verificando os dados base da predicao\n",
    "modelo.summary()"
   ]
  },
  {
   "cell_type": "code",
   "execution_count": 33,
   "id": "ce898483",
   "metadata": {
    "scrolled": true
   },
   "outputs": [
    {
     "ename": "KeyError",
     "evalue": "'Predicao'",
     "output_type": "error",
     "traceback": [
      "\u001b[1;31m---------------------------------------------------------------------------\u001b[0m",
      "\u001b[1;31mKeyError\u001b[0m                                  Traceback (most recent call last)",
      "\u001b[1;32m~\\anaconda3\\lib\\site-packages\\pandas\\core\\indexes\\base.py\u001b[0m in \u001b[0;36mget_loc\u001b[1;34m(self, key, method, tolerance)\u001b[0m\n\u001b[0;32m   3628\u001b[0m             \u001b[1;32mtry\u001b[0m\u001b[1;33m:\u001b[0m\u001b[1;33m\u001b[0m\u001b[1;33m\u001b[0m\u001b[0m\n\u001b[1;32m-> 3629\u001b[1;33m                 \u001b[1;32mreturn\u001b[0m \u001b[0mself\u001b[0m\u001b[1;33m.\u001b[0m\u001b[0m_engine\u001b[0m\u001b[1;33m.\u001b[0m\u001b[0mget_loc\u001b[0m\u001b[1;33m(\u001b[0m\u001b[0mcasted_key\u001b[0m\u001b[1;33m)\u001b[0m\u001b[1;33m\u001b[0m\u001b[1;33m\u001b[0m\u001b[0m\n\u001b[0m\u001b[0;32m   3630\u001b[0m             \u001b[1;32mexcept\u001b[0m \u001b[0mKeyError\u001b[0m \u001b[1;32mas\u001b[0m \u001b[0merr\u001b[0m\u001b[1;33m:\u001b[0m\u001b[1;33m\u001b[0m\u001b[1;33m\u001b[0m\u001b[0m\n",
      "\u001b[1;32m~\\anaconda3\\lib\\site-packages\\pandas\\_libs\\index.pyx\u001b[0m in \u001b[0;36mpandas._libs.index.IndexEngine.get_loc\u001b[1;34m()\u001b[0m\n",
      "\u001b[1;32m~\\anaconda3\\lib\\site-packages\\pandas\\_libs\\index.pyx\u001b[0m in \u001b[0;36mpandas._libs.index.IndexEngine.get_loc\u001b[1;34m()\u001b[0m\n",
      "\u001b[1;32mpandas\\_libs\\hashtable_class_helper.pxi\u001b[0m in \u001b[0;36mpandas._libs.hashtable.PyObjectHashTable.get_item\u001b[1;34m()\u001b[0m\n",
      "\u001b[1;32mpandas\\_libs\\hashtable_class_helper.pxi\u001b[0m in \u001b[0;36mpandas._libs.hashtable.PyObjectHashTable.get_item\u001b[1;34m()\u001b[0m\n",
      "\u001b[1;31mKeyError\u001b[0m: 'Predicao'",
      "\nThe above exception was the direct cause of the following exception:\n",
      "\u001b[1;31mKeyError\u001b[0m                                  Traceback (most recent call last)",
      "\u001b[1;32m~\\AppData\\Local\\Temp\\ipykernel_11140\\427958494.py\u001b[0m in \u001b[0;36m<module>\u001b[1;34m\u001b[0m\n\u001b[0;32m      2\u001b[0m \u001b[1;33m\u001b[0m\u001b[0m\n\u001b[0;32m      3\u001b[0m \u001b[1;32mfrom\u001b[0m \u001b[0msklearn\u001b[0m\u001b[1;33m.\u001b[0m\u001b[0mmetrics\u001b[0m \u001b[1;32mimport\u001b[0m \u001b[0mr2_score\u001b[0m\u001b[1;33m\u001b[0m\u001b[1;33m\u001b[0m\u001b[0m\n\u001b[1;32m----> 4\u001b[1;33m \u001b[0mprint\u001b[0m\u001b[1;33m(\u001b[0m\u001b[1;34m'Acuracia: '\u001b[0m\u001b[1;33m,\u001b[0m \u001b[0mr2_score\u001b[0m\u001b[1;33m(\u001b[0m\u001b[0mtest\u001b[0m\u001b[1;33m[\u001b[0m\u001b[1;34m'diference'\u001b[0m\u001b[1;33m]\u001b[0m\u001b[1;33m,\u001b[0m \u001b[0mtest\u001b[0m\u001b[1;33m[\u001b[0m\u001b[1;34m'Predicao'\u001b[0m\u001b[1;33m]\u001b[0m\u001b[1;33m)\u001b[0m\u001b[1;33m)\u001b[0m\u001b[1;33m\u001b[0m\u001b[1;33m\u001b[0m\u001b[0m\n\u001b[0m",
      "\u001b[1;32m~\\anaconda3\\lib\\site-packages\\pandas\\core\\frame.py\u001b[0m in \u001b[0;36m__getitem__\u001b[1;34m(self, key)\u001b[0m\n\u001b[0;32m   3503\u001b[0m             \u001b[1;32mif\u001b[0m \u001b[0mself\u001b[0m\u001b[1;33m.\u001b[0m\u001b[0mcolumns\u001b[0m\u001b[1;33m.\u001b[0m\u001b[0mnlevels\u001b[0m \u001b[1;33m>\u001b[0m \u001b[1;36m1\u001b[0m\u001b[1;33m:\u001b[0m\u001b[1;33m\u001b[0m\u001b[1;33m\u001b[0m\u001b[0m\n\u001b[0;32m   3504\u001b[0m                 \u001b[1;32mreturn\u001b[0m \u001b[0mself\u001b[0m\u001b[1;33m.\u001b[0m\u001b[0m_getitem_multilevel\u001b[0m\u001b[1;33m(\u001b[0m\u001b[0mkey\u001b[0m\u001b[1;33m)\u001b[0m\u001b[1;33m\u001b[0m\u001b[1;33m\u001b[0m\u001b[0m\n\u001b[1;32m-> 3505\u001b[1;33m             \u001b[0mindexer\u001b[0m \u001b[1;33m=\u001b[0m \u001b[0mself\u001b[0m\u001b[1;33m.\u001b[0m\u001b[0mcolumns\u001b[0m\u001b[1;33m.\u001b[0m\u001b[0mget_loc\u001b[0m\u001b[1;33m(\u001b[0m\u001b[0mkey\u001b[0m\u001b[1;33m)\u001b[0m\u001b[1;33m\u001b[0m\u001b[1;33m\u001b[0m\u001b[0m\n\u001b[0m\u001b[0;32m   3506\u001b[0m             \u001b[1;32mif\u001b[0m \u001b[0mis_integer\u001b[0m\u001b[1;33m(\u001b[0m\u001b[0mindexer\u001b[0m\u001b[1;33m)\u001b[0m\u001b[1;33m:\u001b[0m\u001b[1;33m\u001b[0m\u001b[1;33m\u001b[0m\u001b[0m\n\u001b[0;32m   3507\u001b[0m                 \u001b[0mindexer\u001b[0m \u001b[1;33m=\u001b[0m \u001b[1;33m[\u001b[0m\u001b[0mindexer\u001b[0m\u001b[1;33m]\u001b[0m\u001b[1;33m\u001b[0m\u001b[1;33m\u001b[0m\u001b[0m\n",
      "\u001b[1;32m~\\anaconda3\\lib\\site-packages\\pandas\\core\\indexes\\base.py\u001b[0m in \u001b[0;36mget_loc\u001b[1;34m(self, key, method, tolerance)\u001b[0m\n\u001b[0;32m   3629\u001b[0m                 \u001b[1;32mreturn\u001b[0m \u001b[0mself\u001b[0m\u001b[1;33m.\u001b[0m\u001b[0m_engine\u001b[0m\u001b[1;33m.\u001b[0m\u001b[0mget_loc\u001b[0m\u001b[1;33m(\u001b[0m\u001b[0mcasted_key\u001b[0m\u001b[1;33m)\u001b[0m\u001b[1;33m\u001b[0m\u001b[1;33m\u001b[0m\u001b[0m\n\u001b[0;32m   3630\u001b[0m             \u001b[1;32mexcept\u001b[0m \u001b[0mKeyError\u001b[0m \u001b[1;32mas\u001b[0m \u001b[0merr\u001b[0m\u001b[1;33m:\u001b[0m\u001b[1;33m\u001b[0m\u001b[1;33m\u001b[0m\u001b[0m\n\u001b[1;32m-> 3631\u001b[1;33m                 \u001b[1;32mraise\u001b[0m \u001b[0mKeyError\u001b[0m\u001b[1;33m(\u001b[0m\u001b[0mkey\u001b[0m\u001b[1;33m)\u001b[0m \u001b[1;32mfrom\u001b[0m \u001b[0merr\u001b[0m\u001b[1;33m\u001b[0m\u001b[1;33m\u001b[0m\u001b[0m\n\u001b[0m\u001b[0;32m   3632\u001b[0m             \u001b[1;32mexcept\u001b[0m \u001b[0mTypeError\u001b[0m\u001b[1;33m:\u001b[0m\u001b[1;33m\u001b[0m\u001b[1;33m\u001b[0m\u001b[0m\n\u001b[0;32m   3633\u001b[0m                 \u001b[1;31m# If we have a listlike key, _check_indexing_error will raise\u001b[0m\u001b[1;33m\u001b[0m\u001b[1;33m\u001b[0m\u001b[0m\n",
      "\u001b[1;31mKeyError\u001b[0m: 'Predicao'"
     ]
    }
   ],
   "source": [
    "# Verificando o indice de acuracia para o processo\n",
    "\n",
    "from sklearn.metrics import r2_score\n",
    "print('Acuracia: ', r2_score(test['diference'], test['Predicao']))"
   ]
  }
 ],
 "metadata": {
  "kernelspec": {
   "display_name": "Python 3 (ipykernel)",
   "language": "python",
   "name": "python3"
  },
  "language_info": {
   "codemirror_mode": {
    "name": "ipython",
    "version": 3
   },
   "file_extension": ".py",
   "mimetype": "text/x-python",
   "name": "python",
   "nbconvert_exporter": "python",
   "pygments_lexer": "ipython3",
   "version": "3.9.13"
  }
 },
 "nbformat": 4,
 "nbformat_minor": 5
}

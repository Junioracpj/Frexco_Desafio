{
 "cells": [
  {
   "cell_type": "markdown",
   "id": "16e75260",
   "metadata": {},
   "source": [
    "# Desafio Frexco"
   ]
  },
  {
   "cell_type": "markdown",
   "id": "c778ff65",
   "metadata": {},
   "source": [
    "Estruturar um script no Python que calcule a previsão de demanda para os próximos 5 dias do item, baseando-se no histórico presente na base de dados em anexo"
   ]
  },
  {
   "cell_type": "code",
   "execution_count": 1,
   "id": "0dbff414",
   "metadata": {},
   "outputs": [],
   "source": [
    "# Baixando as bibliotecas necessarias para o script\n",
    "import pandas as pd\n",
    "pd.set_option('mode.chained_assignment', None)\n",
    "import numpy as np\n",
    "import datetime as dt\n",
    "import matplotlib.pyplot as plt\n",
    "from matplotlib.pylab import rcParams\n",
    "rcParams['figure.figsize'] = 12, 6\n",
    "import seaborn as sns\n",
    "import warnings\n",
    "warnings.filterwarnings('ignore')"
   ]
  },
  {
   "cell_type": "markdown",
   "id": "588baed6",
   "metadata": {},
   "source": [
    "# Importando os dados e fazendo modificações"
   ]
  },
  {
   "cell_type": "code",
   "execution_count": 2,
   "id": "27a8e66d",
   "metadata": {},
   "outputs": [],
   "source": [
    "# Importando a base de dados\n",
    "df_base = pd.read_excel('Dados.xlsx')"
   ]
  },
  {
   "cell_type": "code",
   "execution_count": 40,
   "id": "48724757",
   "metadata": {
    "scrolled": true
   },
   "outputs": [
    {
     "data": {
      "text/plain": [
       "<bound method NDFrame.head of          Data  Vendas\n",
       "0  2022-12-06     870\n",
       "1  2022-12-07     868\n",
       "2  2022-12-08    1189\n",
       "3  2022-12-09     742\n",
       "4  2022-12-10     317\n",
       "5  2022-12-11     685\n",
       "6  2022-12-12    1366\n",
       "7  2022-12-13    1213\n",
       "8  2022-12-14    1055\n",
       "9  2022-12-15    1343\n",
       "10 2022-12-16     832\n",
       "11 2022-12-17     240\n",
       "12 2022-12-18     235\n",
       "13 2022-12-19    1050\n",
       "14 2022-12-20     711\n",
       "15 2022-12-21     745\n",
       "16 2022-12-22    1009\n",
       "17 2022-12-23      18\n",
       "18 2022-12-24      40\n",
       "19 2022-12-25      67\n",
       "20 2022-12-26     821\n",
       "21 2022-12-27     572\n",
       "22 2022-12-28     429\n",
       "23 2022-12-29     638\n",
       "24 2022-12-30     106\n",
       "25 2022-12-31      54\n",
       "26 2023-01-01     144\n",
       "27 2023-01-02     814\n",
       "28 2023-01-03     679\n",
       "29 2023-01-04     712\n",
       "30 2023-01-05    1229\n",
       "31 2023-01-06     821\n",
       "32 2023-01-07     319\n",
       "33 2023-01-08     317\n",
       "34 2023-01-09    1317\n",
       "35 2023-01-10     807\n",
       "36 2023-01-11     923\n",
       "37 2023-01-12    1265\n",
       "38 2023-01-13     892\n",
       "39 2023-01-14     289\n",
       "40 2023-01-15     566\n",
       "41 2023-01-16    1692\n",
       "42 2023-01-17    1097\n",
       "43 2023-01-18    1302\n",
       "44 2023-01-19    1405\n",
       "45 2023-01-20     945>"
      ]
     },
     "execution_count": 40,
     "metadata": {},
     "output_type": "execute_result"
    }
   ],
   "source": [
    "# Verificando o Dataframe\n",
    "df_base.head(5)"
   ]
  },
  {
   "cell_type": "code",
   "execution_count": 4,
   "id": "70a9d349",
   "metadata": {},
   "outputs": [
    {
     "name": "stdout",
     "output_type": "stream",
     "text": [
      "<class 'pandas.core.frame.DataFrame'>\n",
      "RangeIndex: 46 entries, 0 to 45\n",
      "Data columns (total 2 columns):\n",
      " #   Column  Non-Null Count  Dtype         \n",
      "---  ------  --------------  -----         \n",
      " 0   Data    46 non-null     datetime64[ns]\n",
      " 1   Vendas  46 non-null     int64         \n",
      "dtypes: datetime64[ns](1), int64(1)\n",
      "memory usage: 864.0 bytes\n"
     ]
    }
   ],
   "source": [
    "# Verificando o tipo dos dados\n",
    "df_base.info()"
   ]
  },
  {
   "cell_type": "code",
   "execution_count": 5,
   "id": "8ab82099",
   "metadata": {},
   "outputs": [
    {
     "data": {
      "text/html": [
       "<div>\n",
       "<style scoped>\n",
       "    .dataframe tbody tr th:only-of-type {\n",
       "        vertical-align: middle;\n",
       "    }\n",
       "\n",
       "    .dataframe tbody tr th {\n",
       "        vertical-align: top;\n",
       "    }\n",
       "\n",
       "    .dataframe thead th {\n",
       "        text-align: right;\n",
       "    }\n",
       "</style>\n",
       "<table border=\"1\" class=\"dataframe\">\n",
       "  <thead>\n",
       "    <tr style=\"text-align: right;\">\n",
       "      <th></th>\n",
       "      <th>Data</th>\n",
       "      <th>Vendas</th>\n",
       "      <th>dia</th>\n",
       "      <th>mes</th>\n",
       "    </tr>\n",
       "  </thead>\n",
       "  <tbody>\n",
       "    <tr>\n",
       "      <th>0</th>\n",
       "      <td>2022-12-06</td>\n",
       "      <td>870</td>\n",
       "      <td>6</td>\n",
       "      <td>12</td>\n",
       "    </tr>\n",
       "    <tr>\n",
       "      <th>1</th>\n",
       "      <td>2022-12-07</td>\n",
       "      <td>868</td>\n",
       "      <td>7</td>\n",
       "      <td>12</td>\n",
       "    </tr>\n",
       "    <tr>\n",
       "      <th>2</th>\n",
       "      <td>2022-12-08</td>\n",
       "      <td>1189</td>\n",
       "      <td>8</td>\n",
       "      <td>12</td>\n",
       "    </tr>\n",
       "    <tr>\n",
       "      <th>3</th>\n",
       "      <td>2022-12-09</td>\n",
       "      <td>742</td>\n",
       "      <td>9</td>\n",
       "      <td>12</td>\n",
       "    </tr>\n",
       "    <tr>\n",
       "      <th>4</th>\n",
       "      <td>2022-12-10</td>\n",
       "      <td>317</td>\n",
       "      <td>10</td>\n",
       "      <td>12</td>\n",
       "    </tr>\n",
       "  </tbody>\n",
       "</table>\n",
       "</div>"
      ],
      "text/plain": [
       "        Data  Vendas  dia  mes\n",
       "0 2022-12-06     870    6   12\n",
       "1 2022-12-07     868    7   12\n",
       "2 2022-12-08    1189    8   12\n",
       "3 2022-12-09     742    9   12\n",
       "4 2022-12-10     317   10   12"
      ]
     },
     "execution_count": 5,
     "metadata": {},
     "output_type": "execute_result"
    }
   ],
   "source": [
    "# Criando colunas para separar o dia e o mês\n",
    "df_copy = df_base.copy()\n",
    "df_copy['dia'] = df_copy['Data'].dt.day\n",
    "df_copy['mes'] = df_copy['Data'].dt.month\n",
    "df_copy.head(5)"
   ]
  },
  {
   "cell_type": "code",
   "execution_count": 6,
   "id": "c97f6f44",
   "metadata": {},
   "outputs": [],
   "source": [
    "# Criando um loop para adcionar o dia da semana e seu número\n",
    "dia_semana_num = []\n",
    "dia_semana_nome = []\n",
    "\n",
    "for i in df_copy.Data:\n",
    "    temp = pd.Timestamp(i)\n",
    "    dia_semana_num.append(temp.dayofweek)\n",
    "    dia_semana_nome.append(temp.day_name())\n",
    "    \n",
    "# Anexando\n",
    "df_copy['dia_semana_num'] = dia_semana_num\n",
    "df_copy['dia_semana_nome'] = dia_semana_nome"
   ]
  },
  {
   "cell_type": "code",
   "execution_count": 7,
   "id": "fc795320",
   "metadata": {},
   "outputs": [],
   "source": [
    "# Criando um loop for pra destacar as semanas da base de dados\n",
    "semana = []\n",
    "x = df_copy['Data'].dt.to_period('W-SUN')\n",
    "num = 1\n",
    "\n",
    "for i in range(len(x)):\n",
    "    if x[i] == x[0] or x[i] == x[i-1]:\n",
    "        semana.append(num)\n",
    "    else:\n",
    "        num += 1\n",
    "        semana.append(num)   \n",
    "        \n",
    "# Adcionando a semana ao Dataframe\n",
    "df_copy['semana']= semana"
   ]
  },
  {
   "cell_type": "code",
   "execution_count": 8,
   "id": "ef7ac0cd",
   "metadata": {
    "scrolled": true
   },
   "outputs": [
    {
     "data": {
      "text/html": [
       "<div>\n",
       "<style scoped>\n",
       "    .dataframe tbody tr th:only-of-type {\n",
       "        vertical-align: middle;\n",
       "    }\n",
       "\n",
       "    .dataframe tbody tr th {\n",
       "        vertical-align: top;\n",
       "    }\n",
       "\n",
       "    .dataframe thead th {\n",
       "        text-align: right;\n",
       "    }\n",
       "</style>\n",
       "<table border=\"1\" class=\"dataframe\">\n",
       "  <thead>\n",
       "    <tr style=\"text-align: right;\">\n",
       "      <th></th>\n",
       "      <th>Data</th>\n",
       "      <th>dia</th>\n",
       "      <th>semana</th>\n",
       "      <th>mes</th>\n",
       "      <th>dia_semana_num</th>\n",
       "      <th>dia_semana_nome</th>\n",
       "      <th>Vendas</th>\n",
       "    </tr>\n",
       "  </thead>\n",
       "  <tbody>\n",
       "    <tr>\n",
       "      <th>0</th>\n",
       "      <td>2022-12-06</td>\n",
       "      <td>6</td>\n",
       "      <td>1</td>\n",
       "      <td>12</td>\n",
       "      <td>1</td>\n",
       "      <td>Tuesday</td>\n",
       "      <td>870</td>\n",
       "    </tr>\n",
       "    <tr>\n",
       "      <th>1</th>\n",
       "      <td>2022-12-07</td>\n",
       "      <td>7</td>\n",
       "      <td>1</td>\n",
       "      <td>12</td>\n",
       "      <td>2</td>\n",
       "      <td>Wednesday</td>\n",
       "      <td>868</td>\n",
       "    </tr>\n",
       "    <tr>\n",
       "      <th>2</th>\n",
       "      <td>2022-12-08</td>\n",
       "      <td>8</td>\n",
       "      <td>1</td>\n",
       "      <td>12</td>\n",
       "      <td>3</td>\n",
       "      <td>Thursday</td>\n",
       "      <td>1189</td>\n",
       "    </tr>\n",
       "    <tr>\n",
       "      <th>3</th>\n",
       "      <td>2022-12-09</td>\n",
       "      <td>9</td>\n",
       "      <td>1</td>\n",
       "      <td>12</td>\n",
       "      <td>4</td>\n",
       "      <td>Friday</td>\n",
       "      <td>742</td>\n",
       "    </tr>\n",
       "    <tr>\n",
       "      <th>4</th>\n",
       "      <td>2022-12-10</td>\n",
       "      <td>10</td>\n",
       "      <td>1</td>\n",
       "      <td>12</td>\n",
       "      <td>5</td>\n",
       "      <td>Saturday</td>\n",
       "      <td>317</td>\n",
       "    </tr>\n",
       "  </tbody>\n",
       "</table>\n",
       "</div>"
      ],
      "text/plain": [
       "        Data  dia  semana  mes  dia_semana_num dia_semana_nome  Vendas\n",
       "0 2022-12-06    6       1   12               1         Tuesday     870\n",
       "1 2022-12-07    7       1   12               2       Wednesday     868\n",
       "2 2022-12-08    8       1   12               3        Thursday    1189\n",
       "3 2022-12-09    9       1   12               4          Friday     742\n",
       "4 2022-12-10   10       1   12               5        Saturday     317"
      ]
     },
     "execution_count": 8,
     "metadata": {},
     "output_type": "execute_result"
    }
   ],
   "source": [
    "# Reordenando as colunas do DataFrame\n",
    "df_copy = df_copy.reindex(columns=['Data','dia','semana','mes','dia_semana_num','dia_semana_nome','Vendas'])\n",
    "df_copy.head()"
   ]
  },
  {
   "cell_type": "code",
   "execution_count": 9,
   "id": "890d6ea8",
   "metadata": {
    "scrolled": true
   },
   "outputs": [
    {
     "data": {
      "text/html": [
       "<div>\n",
       "<style scoped>\n",
       "    .dataframe tbody tr th:only-of-type {\n",
       "        vertical-align: middle;\n",
       "    }\n",
       "\n",
       "    .dataframe tbody tr th {\n",
       "        vertical-align: top;\n",
       "    }\n",
       "\n",
       "    .dataframe thead th {\n",
       "        text-align: right;\n",
       "    }\n",
       "</style>\n",
       "<table border=\"1\" class=\"dataframe\">\n",
       "  <thead>\n",
       "    <tr style=\"text-align: right;\">\n",
       "      <th></th>\n",
       "      <th>count</th>\n",
       "      <th>mean</th>\n",
       "      <th>std</th>\n",
       "      <th>min</th>\n",
       "      <th>25%</th>\n",
       "      <th>50%</th>\n",
       "      <th>75%</th>\n",
       "      <th>max</th>\n",
       "    </tr>\n",
       "    <tr>\n",
       "      <th>dia_semana_num</th>\n",
       "      <th></th>\n",
       "      <th></th>\n",
       "      <th></th>\n",
       "      <th></th>\n",
       "      <th></th>\n",
       "      <th></th>\n",
       "      <th></th>\n",
       "      <th></th>\n",
       "    </tr>\n",
       "  </thead>\n",
       "  <tbody>\n",
       "    <tr>\n",
       "      <th>0</th>\n",
       "      <td>6.0</td>\n",
       "      <td>1176.666667</td>\n",
       "      <td>345.015748</td>\n",
       "      <td>814.0</td>\n",
       "      <td>878.25</td>\n",
       "      <td>1183.5</td>\n",
       "      <td>1353.75</td>\n",
       "      <td>1692.0</td>\n",
       "    </tr>\n",
       "    <tr>\n",
       "      <th>1</th>\n",
       "      <td>7.0</td>\n",
       "      <td>849.857143</td>\n",
       "      <td>231.254858</td>\n",
       "      <td>572.0</td>\n",
       "      <td>695.00</td>\n",
       "      <td>807.0</td>\n",
       "      <td>983.50</td>\n",
       "      <td>1213.0</td>\n",
       "    </tr>\n",
       "    <tr>\n",
       "      <th>2</th>\n",
       "      <td>7.0</td>\n",
       "      <td>862.000000</td>\n",
       "      <td>276.370524</td>\n",
       "      <td>429.0</td>\n",
       "      <td>728.50</td>\n",
       "      <td>868.0</td>\n",
       "      <td>989.00</td>\n",
       "      <td>1302.0</td>\n",
       "    </tr>\n",
       "    <tr>\n",
       "      <th>3</th>\n",
       "      <td>7.0</td>\n",
       "      <td>1154.000000</td>\n",
       "      <td>259.863426</td>\n",
       "      <td>638.0</td>\n",
       "      <td>1099.00</td>\n",
       "      <td>1229.0</td>\n",
       "      <td>1304.00</td>\n",
       "      <td>1405.0</td>\n",
       "    </tr>\n",
       "    <tr>\n",
       "      <th>4</th>\n",
       "      <td>7.0</td>\n",
       "      <td>622.285714</td>\n",
       "      <td>388.673262</td>\n",
       "      <td>18.0</td>\n",
       "      <td>424.00</td>\n",
       "      <td>821.0</td>\n",
       "      <td>862.00</td>\n",
       "      <td>945.0</td>\n",
       "    </tr>\n",
       "    <tr>\n",
       "      <th>5</th>\n",
       "      <td>6.0</td>\n",
       "      <td>209.833333</td>\n",
       "      <td>129.388433</td>\n",
       "      <td>40.0</td>\n",
       "      <td>100.50</td>\n",
       "      <td>264.5</td>\n",
       "      <td>310.00</td>\n",
       "      <td>319.0</td>\n",
       "    </tr>\n",
       "    <tr>\n",
       "      <th>6</th>\n",
       "      <td>6.0</td>\n",
       "      <td>335.666667</td>\n",
       "      <td>242.688003</td>\n",
       "      <td>67.0</td>\n",
       "      <td>166.75</td>\n",
       "      <td>276.0</td>\n",
       "      <td>503.75</td>\n",
       "      <td>685.0</td>\n",
       "    </tr>\n",
       "  </tbody>\n",
       "</table>\n",
       "</div>"
      ],
      "text/plain": [
       "                count         mean         std    min      25%     50%  \\\n",
       "dia_semana_num                                                           \n",
       "0                 6.0  1176.666667  345.015748  814.0   878.25  1183.5   \n",
       "1                 7.0   849.857143  231.254858  572.0   695.00   807.0   \n",
       "2                 7.0   862.000000  276.370524  429.0   728.50   868.0   \n",
       "3                 7.0  1154.000000  259.863426  638.0  1099.00  1229.0   \n",
       "4                 7.0   622.285714  388.673262   18.0   424.00   821.0   \n",
       "5                 6.0   209.833333  129.388433   40.0   100.50   264.5   \n",
       "6                 6.0   335.666667  242.688003   67.0   166.75   276.0   \n",
       "\n",
       "                    75%     max  \n",
       "dia_semana_num                   \n",
       "0               1353.75  1692.0  \n",
       "1                983.50  1213.0  \n",
       "2                989.00  1302.0  \n",
       "3               1304.00  1405.0  \n",
       "4                862.00   945.0  \n",
       "5                310.00   319.0  \n",
       "6                503.75   685.0  "
      ]
     },
     "execution_count": 9,
     "metadata": {},
     "output_type": "execute_result"
    }
   ],
   "source": [
    "# Verificando as medidas basicas para as vendas por dia da semana\n",
    "df_copy.groupby('dia_semana_num')['Vendas'].describe()"
   ]
  },
  {
   "cell_type": "code",
   "execution_count": 10,
   "id": "29ea667a",
   "metadata": {
    "scrolled": true
   },
   "outputs": [
    {
     "data": {
      "text/html": [
       "<div>\n",
       "<style scoped>\n",
       "    .dataframe tbody tr th:only-of-type {\n",
       "        vertical-align: middle;\n",
       "    }\n",
       "\n",
       "    .dataframe tbody tr th {\n",
       "        vertical-align: top;\n",
       "    }\n",
       "\n",
       "    .dataframe thead th {\n",
       "        text-align: right;\n",
       "    }\n",
       "</style>\n",
       "<table border=\"1\" class=\"dataframe\">\n",
       "  <thead>\n",
       "    <tr style=\"text-align: right;\">\n",
       "      <th></th>\n",
       "      <th>count</th>\n",
       "      <th>mean</th>\n",
       "      <th>std</th>\n",
       "      <th>min</th>\n",
       "      <th>25%</th>\n",
       "      <th>50%</th>\n",
       "      <th>75%</th>\n",
       "      <th>max</th>\n",
       "    </tr>\n",
       "    <tr>\n",
       "      <th>semana</th>\n",
       "      <th></th>\n",
       "      <th></th>\n",
       "      <th></th>\n",
       "      <th></th>\n",
       "      <th></th>\n",
       "      <th></th>\n",
       "      <th></th>\n",
       "      <th></th>\n",
       "    </tr>\n",
       "  </thead>\n",
       "  <tbody>\n",
       "    <tr>\n",
       "      <th>1</th>\n",
       "      <td>6.0</td>\n",
       "      <td>778.500000</td>\n",
       "      <td>285.639458</td>\n",
       "      <td>317.0</td>\n",
       "      <td>699.25</td>\n",
       "      <td>805.0</td>\n",
       "      <td>869.5</td>\n",
       "      <td>1189.0</td>\n",
       "    </tr>\n",
       "    <tr>\n",
       "      <th>2</th>\n",
       "      <td>7.0</td>\n",
       "      <td>897.714286</td>\n",
       "      <td>486.108943</td>\n",
       "      <td>235.0</td>\n",
       "      <td>536.00</td>\n",
       "      <td>1055.0</td>\n",
       "      <td>1278.0</td>\n",
       "      <td>1366.0</td>\n",
       "    </tr>\n",
       "    <tr>\n",
       "      <th>3</th>\n",
       "      <td>7.0</td>\n",
       "      <td>520.000000</td>\n",
       "      <td>464.532023</td>\n",
       "      <td>18.0</td>\n",
       "      <td>53.50</td>\n",
       "      <td>711.0</td>\n",
       "      <td>877.0</td>\n",
       "      <td>1050.0</td>\n",
       "    </tr>\n",
       "    <tr>\n",
       "      <th>4</th>\n",
       "      <td>7.0</td>\n",
       "      <td>394.857143</td>\n",
       "      <td>298.834641</td>\n",
       "      <td>54.0</td>\n",
       "      <td>125.00</td>\n",
       "      <td>429.0</td>\n",
       "      <td>605.0</td>\n",
       "      <td>821.0</td>\n",
       "    </tr>\n",
       "    <tr>\n",
       "      <th>5</th>\n",
       "      <td>7.0</td>\n",
       "      <td>698.714286</td>\n",
       "      <td>316.201789</td>\n",
       "      <td>317.0</td>\n",
       "      <td>499.00</td>\n",
       "      <td>712.0</td>\n",
       "      <td>817.5</td>\n",
       "      <td>1229.0</td>\n",
       "    </tr>\n",
       "    <tr>\n",
       "      <th>6</th>\n",
       "      <td>7.0</td>\n",
       "      <td>865.571429</td>\n",
       "      <td>363.532602</td>\n",
       "      <td>289.0</td>\n",
       "      <td>686.50</td>\n",
       "      <td>892.0</td>\n",
       "      <td>1094.0</td>\n",
       "      <td>1317.0</td>\n",
       "    </tr>\n",
       "    <tr>\n",
       "      <th>7</th>\n",
       "      <td>5.0</td>\n",
       "      <td>1288.200000</td>\n",
       "      <td>287.763271</td>\n",
       "      <td>945.0</td>\n",
       "      <td>1097.00</td>\n",
       "      <td>1302.0</td>\n",
       "      <td>1405.0</td>\n",
       "      <td>1692.0</td>\n",
       "    </tr>\n",
       "  </tbody>\n",
       "</table>\n",
       "</div>"
      ],
      "text/plain": [
       "        count         mean         std    min      25%     50%     75%     max\n",
       "semana                                                                        \n",
       "1         6.0   778.500000  285.639458  317.0   699.25   805.0   869.5  1189.0\n",
       "2         7.0   897.714286  486.108943  235.0   536.00  1055.0  1278.0  1366.0\n",
       "3         7.0   520.000000  464.532023   18.0    53.50   711.0   877.0  1050.0\n",
       "4         7.0   394.857143  298.834641   54.0   125.00   429.0   605.0   821.0\n",
       "5         7.0   698.714286  316.201789  317.0   499.00   712.0   817.5  1229.0\n",
       "6         7.0   865.571429  363.532602  289.0   686.50   892.0  1094.0  1317.0\n",
       "7         5.0  1288.200000  287.763271  945.0  1097.00  1302.0  1405.0  1692.0"
      ]
     },
     "execution_count": 10,
     "metadata": {},
     "output_type": "execute_result"
    }
   ],
   "source": [
    "# Verificando as medidas básicas para as vendas por semana\n",
    "df_copy.groupby('semana')['Vendas'].describe()"
   ]
  },
  {
   "cell_type": "markdown",
   "id": "a9f1fa1d",
   "metadata": {},
   "source": [
    "# Realizando verificações via gráficos"
   ]
  },
  {
   "cell_type": "code",
   "execution_count": 11,
   "id": "7b8ea503",
   "metadata": {},
   "outputs": [
    {
     "data": {
      "image/png": "[encoded data removed]",
      "text/plain": [
       "<Figure size 1200x600 with 1 Axes>"
      ]
     },
     "metadata": {},
     "output_type": "display_data"
    }
   ],
   "source": [
    "# Criando um plot pra verificar a existência de outliers nos dias da semana\n",
    "sns.set_theme(style=\"ticks\", palette=\"pastel\")\n",
    "\n",
    "# plot\n",
    "sns.boxplot(x = df_copy.dia_semana_nome, y = df_copy.Vendas, data=df_copy)\n",
    "sns.despine(offset=10, trim=True)\n",
    "plt.show()"
   ]
  },
  {
   "cell_type": "markdown",
   "id": "ef1727cc",
   "metadata": {},
   "source": [
    "Nota-se que, em geral, os dados não possuem extremidades relevantes e os valores estão dentro da linha de correção"
   ]
  },
  {
   "cell_type": "code",
   "execution_count": 12,
   "id": "836d6ba5",
   "metadata": {
    "scrolled": true
   },
   "outputs": [
    {
     "data": {
      "image/png": "[encoded data removed]",
      "text/plain": [
       "<Figure size 750x500 with 1 Axes>"
      ]
     },
     "metadata": {},
     "output_type": "display_data"
    }
   ],
   "source": [
    "# Criando um gráfico para verificar a distribuição de vendas ao longo dos dias da semana\n",
    "\n",
    "sns.catplot(x=\"dia_semana_nome\", y=\"Vendas\", data=df_copy, kind=\"bar\", palette=\"BuPu\", aspect=1.5)\n",
    "sns.despine(offset=10, trim=True)\n",
    "plt.show()"
   ]
  },
  {
   "cell_type": "markdown",
   "id": "dac9a1d3",
   "metadata": {},
   "source": [
    "Pelo gráfico, conseguimos notar que os melhores dias de venda são quinta e segunda"
   ]
  },
  {
   "cell_type": "code",
   "execution_count": 13,
   "id": "a95d67f3",
   "metadata": {
    "scrolled": true
   },
   "outputs": [
    {
     "data": {
      "image/png": "[encoded data removed]",
      "text/plain": [
       "<Figure size 750x500 with 1 Axes>"
      ]
     },
     "metadata": {},
     "output_type": "display_data"
    }
   ],
   "source": [
    "# Criando um gráfico para ver a distribuição por semana\n",
    "sns.catplot(x=\"semana\", y=\"Vendas\", data=df_copy, kind=\"bar\", palette=\"BuPu\", aspect=1.5)\n",
    "sns.despine(left=True)\n",
    "plt.show()"
   ]
  },
  {
   "cell_type": "markdown",
   "id": "3c646101",
   "metadata": {},
   "source": [
    "# Realizando treinamento do modelo"
   ]
  },
  {
   "cell_type": "markdown",
   "id": "6bb25db6",
   "metadata": {},
   "source": [
    "Nesse trabalho, dedidi utilizar a biblioteca pmdarima.arima, que possui ampla documentação e maior base para estudos e melhoria do código no futuro"
   ]
  },
  {
   "cell_type": "code",
   "execution_count": 14,
   "id": "5617191b",
   "metadata": {
    "scrolled": true
   },
   "outputs": [],
   "source": [
    "# Baixando a biblioteca necessaria para fazer a previsão\n",
    "# !pip install pmdarima \n",
    "# Caso primeira execucao, execute a linha acima\n",
    "from pmdarima.arima import auto_arima\n"
   ]
  },
  {
   "cell_type": "code",
   "execution_count": 15,
   "id": "e5fc2581",
   "metadata": {
    "scrolled": false
   },
   "outputs": [
    {
     "data": {
      "text/html": [
       "<div>\n",
       "<style scoped>\n",
       "    .dataframe tbody tr th:only-of-type {\n",
       "        vertical-align: middle;\n",
       "    }\n",
       "\n",
       "    .dataframe tbody tr th {\n",
       "        vertical-align: top;\n",
       "    }\n",
       "\n",
       "    .dataframe thead th {\n",
       "        text-align: right;\n",
       "    }\n",
       "</style>\n",
       "<table border=\"1\" class=\"dataframe\">\n",
       "  <thead>\n",
       "    <tr style=\"text-align: right;\">\n",
       "      <th></th>\n",
       "      <th>Vendas</th>\n",
       "    </tr>\n",
       "    <tr>\n",
       "      <th>Data</th>\n",
       "      <th></th>\n",
       "    </tr>\n",
       "  </thead>\n",
       "  <tbody>\n",
       "    <tr>\n",
       "      <th>2022-12-06</th>\n",
       "      <td>870</td>\n",
       "    </tr>\n",
       "    <tr>\n",
       "      <th>2022-12-07</th>\n",
       "      <td>868</td>\n",
       "    </tr>\n",
       "    <tr>\n",
       "      <th>2022-12-08</th>\n",
       "      <td>1189</td>\n",
       "    </tr>\n",
       "    <tr>\n",
       "      <th>2022-12-09</th>\n",
       "      <td>742</td>\n",
       "    </tr>\n",
       "    <tr>\n",
       "      <th>2022-12-10</th>\n",
       "      <td>317</td>\n",
       "    </tr>\n",
       "  </tbody>\n",
       "</table>\n",
       "</div>"
      ],
      "text/plain": [
       "            Vendas\n",
       "Data              \n",
       "2022-12-06     870\n",
       "2022-12-07     868\n",
       "2022-12-08    1189\n",
       "2022-12-09     742\n",
       "2022-12-10     317"
      ]
     },
     "execution_count": 15,
     "metadata": {},
     "output_type": "execute_result"
    }
   ],
   "source": [
    "# Importando novamente os dados, mas desta vez usando somente as duas colunas primarias\n",
    "data_previsao = pd.read_excel('Dados.xlsx', parse_dates=['Data'], index_col='Data')\n",
    "data_previsao.head()"
   ]
  },
  {
   "cell_type": "code",
   "execution_count": 16,
   "id": "dbda28a5",
   "metadata": {},
   "outputs": [
    {
     "data": {
      "text/plain": [
       "(0.32861105775592603, True)"
      ]
     },
     "execution_count": 16,
     "metadata": {},
     "output_type": "execute_result"
    }
   ],
   "source": [
    "# Verificando se os dados são estacionarios\n",
    "from pmdarima.arima import ADFTest \n",
    "adf_test = ADFTest(alpha = 0.05)\n",
    "adf_test.should_diff(data_previsao)"
   ]
  },
  {
   "cell_type": "markdown",
   "id": "56da6ee9",
   "metadata": {},
   "source": [
    "Conclui-se pelo ADF teste, que os dados não são estacionarios"
   ]
  },
  {
   "cell_type": "markdown",
   "id": "b40b67f3",
   "metadata": {},
   "source": [
    "## Transformando os dados não estacionarios em estacionarios"
   ]
  },
  {
   "cell_type": "code",
   "execution_count": 17,
   "id": "8fed8331",
   "metadata": {
    "scrolled": true
   },
   "outputs": [],
   "source": [
    "# Criando outra base de dados e criando uma coluna que faz a diferenca de valor entre o dia anterior e o atual\n",
    "data_stationary = data_previsao.copy()\n",
    "data_stationary['Diferenca'] = data_stationary['Vendas'] - data_stationary['Vendas'].shift(1)"
   ]
  },
  {
   "cell_type": "code",
   "execution_count": 18,
   "id": "62d44031-59f7-4d76-97ae-4465678be8eb",
   "metadata": {},
   "outputs": [],
   "source": [
    "# Dropando a coluna vendas e retirando valores nulos\n",
    "data_stationary = data_stationary.drop('Vendas', axis=1)\n",
    "data_stationary = data_stationary.dropna()"
   ]
  },
  {
   "cell_type": "code",
   "execution_count": 19,
   "id": "c99ca8e5",
   "metadata": {
    "scrolled": true
   },
   "outputs": [
    {
     "data": {
      "text/plain": [
       "(0.01, False)"
      ]
     },
     "execution_count": 19,
     "metadata": {},
     "output_type": "execute_result"
    }
   ],
   "source": [
    "# Verificando novamente se o dado é ou não estacionario após a modificação\n",
    "adf_test = ADFTest(alpha = 0.05)\n",
    "adf_test.should_diff(data_stationary)"
   ]
  },
  {
   "cell_type": "code",
   "execution_count": 20,
   "id": "90b4b041",
   "metadata": {
    "scrolled": true
   },
   "outputs": [
    {
     "data": {
      "image/png": "[encoded data removed]",
      "text/plain": [
       "<Figure size 1200x600 with 1 Axes>"
      ]
     },
     "metadata": {},
     "output_type": "display_data"
    },
    {
     "data": {
      "image/png": "[encoded data removed]",
      "text/plain": [
       "<Figure size 1200x600 with 1 Axes>"
      ]
     },
     "metadata": {},
     "output_type": "display_data"
    }
   ],
   "source": [
    "# Criando graficos de pirulitos para identificar padroes p e q\n",
    "from statsmodels.graphics.tsaplots import plot_acf, plot_pacf\n",
    "plot_acf(data_stationary)\n",
    "plot_pacf(data_stationary)\n",
    "plt.show()"
   ]
  },
  {
   "cell_type": "markdown",
   "id": "3311d302",
   "metadata": {},
   "source": [
    "A partir dos gráficos, foram contabilizados os padrões P = 2 e Q = 2"
   ]
  },
  {
   "cell_type": "markdown",
   "id": "5439945c",
   "metadata": {},
   "source": [
    "## Realizando previsões com os dados corrigidos"
   ]
  },
  {
   "cell_type": "code",
   "execution_count": 21,
   "id": "88e6bd7f",
   "metadata": {
    "scrolled": true
   },
   "outputs": [
    {
     "name": "stdout",
     "output_type": "stream",
     "text": [
      " ARIMA(0,1,0)(0,0,0)[7] intercept   : AIC=707.521, Time=0.02 sec\n",
      " ARIMA(0,1,0)(0,0,1)[7] intercept   : AIC=inf, Time=0.10 sec\n",
      " ARIMA(0,1,0)(0,0,2)[7] intercept   : AIC=670.326, Time=0.12 sec\n",
      " ARIMA(0,1,0)(1,0,0)[7] intercept   : AIC=657.616, Time=0.10 sec\n",
      " ARIMA(0,1,0)(1,0,1)[7] intercept   : AIC=659.408, Time=0.25 sec\n",
      " ARIMA(0,1,0)(1,0,2)[7] intercept   : AIC=657.852, Time=0.31 sec\n",
      " ARIMA(0,1,0)(2,0,0)[7] intercept   : AIC=659.526, Time=0.12 sec\n",
      " ARIMA(0,1,0)(2,0,1)[7] intercept   : AIC=inf, Time=0.39 sec\n",
      " ARIMA(0,1,0)(2,0,2)[7] intercept   : AIC=661.768, Time=0.36 sec\n",
      " ARIMA(0,1,1)(0,0,0)[7] intercept   : AIC=inf, Time=0.04 sec\n",
      " ARIMA(0,1,1)(0,0,1)[7] intercept   : AIC=inf, Time=0.15 sec\n",
      " ARIMA(0,1,1)(0,0,2)[7] intercept   : AIC=inf, Time=0.26 sec\n",
      " ARIMA(0,1,1)(1,0,0)[7] intercept   : AIC=inf, Time=0.18 sec\n",
      " ARIMA(0,1,1)(1,0,1)[7] intercept   : AIC=inf, Time=0.30 sec\n",
      " ARIMA(0,1,1)(1,0,2)[7] intercept   : AIC=inf, Time=0.41 sec\n",
      " ARIMA(0,1,1)(2,0,0)[7] intercept   : AIC=622.453, Time=0.27 sec\n",
      " ARIMA(0,1,1)(2,0,1)[7] intercept   : AIC=inf, Time=0.42 sec\n",
      " ARIMA(0,1,1)(2,0,2)[7] intercept   : AIC=inf, Time=0.48 sec\n",
      " ARIMA(0,1,2)(0,0,0)[7] intercept   : AIC=inf, Time=0.09 sec\n",
      " ARIMA(0,1,2)(0,0,1)[7] intercept   : AIC=inf, Time=0.25 sec\n",
      " ARIMA(0,1,2)(0,0,2)[7] intercept   : AIC=inf, Time=0.30 sec\n",
      " ARIMA(0,1,2)(1,0,0)[7] intercept   : AIC=inf, Time=0.19 sec\n",
      " ARIMA(0,1,2)(1,0,1)[7] intercept   : AIC=617.298, Time=0.35 sec\n",
      " ARIMA(0,1,2)(1,0,2)[7] intercept   : AIC=inf, Time=0.46 sec\n",
      " ARIMA(0,1,2)(2,0,0)[7] intercept   : AIC=inf, Time=0.30 sec\n",
      " ARIMA(0,1,2)(2,0,1)[7] intercept   : AIC=inf, Time=0.39 sec\n",
      " ARIMA(1,1,0)(0,0,0)[7] intercept   : AIC=701.408, Time=0.02 sec\n",
      " ARIMA(1,1,0)(0,0,1)[7] intercept   : AIC=inf, Time=0.14 sec\n",
      " ARIMA(1,1,0)(0,0,2)[7] intercept   : AIC=663.260, Time=0.13 sec\n",
      " ARIMA(1,1,0)(1,0,0)[7] intercept   : AIC=645.498, Time=0.13 sec\n",
      " ARIMA(1,1,0)(1,0,1)[7] intercept   : AIC=644.406, Time=0.32 sec\n",
      " ARIMA(1,1,0)(1,0,2)[7] intercept   : AIC=643.237, Time=0.35 sec\n",
      " ARIMA(1,1,0)(2,0,0)[7] intercept   : AIC=inf, Time=0.24 sec\n",
      " ARIMA(1,1,0)(2,0,1)[7] intercept   : AIC=inf, Time=0.32 sec\n",
      " ARIMA(1,1,0)(2,0,2)[7] intercept   : AIC=648.979, Time=0.44 sec\n",
      " ARIMA(1,1,1)(0,0,0)[7] intercept   : AIC=inf, Time=0.12 sec\n",
      " ARIMA(1,1,1)(0,0,1)[7] intercept   : AIC=inf, Time=0.22 sec\n",
      " ARIMA(1,1,1)(0,0,2)[7] intercept   : AIC=inf, Time=0.27 sec\n",
      " ARIMA(1,1,1)(1,0,0)[7] intercept   : AIC=inf, Time=0.18 sec\n",
      " ARIMA(1,1,1)(1,0,1)[7] intercept   : AIC=inf, Time=0.40 sec\n",
      " ARIMA(1,1,1)(1,0,2)[7] intercept   : AIC=inf, Time=0.41 sec\n",
      " ARIMA(1,1,1)(2,0,0)[7] intercept   : AIC=624.070, Time=0.36 sec\n",
      " ARIMA(1,1,1)(2,0,1)[7] intercept   : AIC=inf, Time=0.43 sec\n",
      " ARIMA(1,1,2)(0,0,0)[7] intercept   : AIC=inf, Time=0.07 sec\n",
      " ARIMA(1,1,2)(0,0,1)[7] intercept   : AIC=inf, Time=0.14 sec\n",
      " ARIMA(1,1,2)(0,0,2)[7] intercept   : AIC=inf, Time=0.41 sec\n",
      " ARIMA(1,1,2)(1,0,0)[7] intercept   : AIC=inf, Time=0.29 sec\n",
      " ARIMA(1,1,2)(1,0,1)[7] intercept   : AIC=inf, Time=0.32 sec\n",
      " ARIMA(1,1,2)(2,0,0)[7] intercept   : AIC=inf, Time=0.35 sec\n",
      " ARIMA(2,1,0)(0,0,0)[7] intercept   : AIC=687.725, Time=0.02 sec\n",
      " ARIMA(2,1,0)(0,0,1)[7] intercept   : AIC=inf, Time=0.13 sec\n",
      " ARIMA(2,1,0)(0,0,2)[7] intercept   : AIC=652.678, Time=0.17 sec\n",
      " ARIMA(2,1,0)(1,0,0)[7] intercept   : AIC=634.371, Time=0.22 sec\n",
      " ARIMA(2,1,0)(1,0,1)[7] intercept   : AIC=632.211, Time=0.27 sec\n",
      " ARIMA(2,1,0)(1,0,2)[7] intercept   : AIC=631.541, Time=0.34 sec\n",
      " ARIMA(2,1,0)(2,0,0)[7] intercept   : AIC=inf, Time=0.35 sec\n",
      " ARIMA(2,1,0)(2,0,1)[7] intercept   : AIC=633.720, Time=0.40 sec\n",
      " ARIMA(2,1,1)(0,0,0)[7] intercept   : AIC=inf, Time=0.18 sec\n",
      " ARIMA(2,1,1)(0,0,1)[7] intercept   : AIC=inf, Time=0.22 sec\n",
      " ARIMA(2,1,1)(0,0,2)[7] intercept   : AIC=inf, Time=0.26 sec\n",
      " ARIMA(2,1,1)(1,0,0)[7] intercept   : AIC=624.742, Time=0.30 sec\n",
      " ARIMA(2,1,1)(1,0,1)[7] intercept   : AIC=inf, Time=0.38 sec\n",
      " ARIMA(2,1,1)(2,0,0)[7] intercept   : AIC=649.553, Time=0.37 sec\n",
      " ARIMA(2,1,2)(0,0,0)[7] intercept   : AIC=668.986, Time=0.20 sec\n",
      " ARIMA(2,1,2)(0,0,1)[7] intercept   : AIC=662.544, Time=0.30 sec\n",
      " ARIMA(2,1,2)(1,0,0)[7] intercept   : AIC=inf, Time=0.33 sec\n",
      "\n",
      "Best model:  ARIMA(0,1,2)(1,0,1)[7] intercept\n",
      "Total fit time: 17.085 seconds\n"
     ]
    }
   ],
   "source": [
    "# Criando o modelo com os parametros base,\n",
    "# considero que a base de dados é diaria, por isso colocarei seasonalidade = 7\n",
    "modelo = auto_arima(data_stationary, start_p = 1, start_q = 1, max_p = 2,max_q = 2,\n",
    "                    m = 7, test = 'pp', seasonal = True, d = 1, D = 0,\n",
    "                    trace = True, error_action = 'ignore',\n",
    "                    suppress_warnings = True, stepwise = False)\n"
   ]
  },
  {
   "cell_type": "code",
   "execution_count": 22,
   "id": "51958590",
   "metadata": {},
   "outputs": [
    {
     "name": "stdout",
     "output_type": "stream",
     "text": [
      "617.2975557553298\n"
     ]
    }
   ],
   "source": [
    "# verificando o indice com melhor perfomance\n",
    "print(modelo.aic()) "
   ]
  },
  {
   "cell_type": "code",
   "execution_count": 23,
   "id": "d431fe62",
   "metadata": {},
   "outputs": [],
   "source": [
    "# Separando dados de treino e de teste\n",
    "train = data_stationary.iloc[0:40]\n",
    "test = data_stationary.iloc[40:]"
   ]
  },
  {
   "cell_type": "code",
   "execution_count": 24,
   "id": "87850777",
   "metadata": {},
   "outputs": [
    {
     "data": {
      "text/plain": [
       "ARIMA(order=(0, 1, 2), scoring_args={}, seasonal_order=(1, 0, 1, 7),\n",
       "      suppress_warnings=True)"
      ]
     },
     "execution_count": 24,
     "metadata": {},
     "output_type": "execute_result"
    }
   ],
   "source": [
    "# Treinando o modelo \n",
    "modelo.fit(train)"
   ]
  },
  {
   "cell_type": "code",
   "execution_count": 25,
   "id": "f57fa666",
   "metadata": {},
   "outputs": [],
   "source": [
    "# Fazendo predicoes\n",
    "predicao = modelo.predict(n_periods = test.shape[0])\n",
    "predicao = pd.DataFrame(predicao, index= test.index, columns = ['Diferenca'])"
   ]
  },
  {
   "cell_type": "code",
   "execution_count": 26,
   "id": "05b105fe",
   "metadata": {
    "scrolled": true
   },
   "outputs": [
    {
     "data": {
      "image/png": "[encoded data removed]",
      "text/plain": [
       "<Figure size 1200x600 with 1 Axes>"
      ]
     },
     "metadata": {},
     "output_type": "display_data"
    }
   ],
   "source": [
    "# Realizando um plot de comparacao dos dados previstos e reais\n",
    "pd.concat([data_stationary, predicao], axis = 1).plot()\n",
    "plt.show()"
   ]
  },
  {
   "cell_type": "code",
   "execution_count": 27,
   "id": "a2d9725c",
   "metadata": {
    "scrolled": true
   },
   "outputs": [
    {
     "data": {
      "text/html": [
       "<table class=\"simpletable\">\n",
       "<caption>SARIMAX Results</caption>\n",
       "<tr>\n",
       "  <th>Dep. Variable:</th>                  <td>y</td>                <th>  No. Observations:  </th>    <td>40</td>   \n",
       "</tr>\n",
       "<tr>\n",
       "  <th>Model:</th>           <td>SARIMAX(0, 1, 2)x(1, 0, [1], 7)</td> <th>  Log Likelihood     </th> <td>-267.447</td>\n",
       "</tr>\n",
       "<tr>\n",
       "  <th>Date:</th>                   <td>Fri, 03 Feb 2023</td>         <th>  AIC                </th>  <td>546.894</td>\n",
       "</tr>\n",
       "<tr>\n",
       "  <th>Time:</th>                       <td>23:36:00</td>             <th>  BIC                </th>  <td>556.876</td>\n",
       "</tr>\n",
       "<tr>\n",
       "  <th>Sample:</th>                    <td>12-07-2022</td>            <th>  HQIC               </th>  <td>550.476</td>\n",
       "</tr>\n",
       "<tr>\n",
       "  <th></th>                          <td>- 01-15-2023</td>           <th>                     </th>     <td> </td>   \n",
       "</tr>\n",
       "<tr>\n",
       "  <th>Covariance Type:</th>               <td>opg</td>               <th>                     </th>     <td> </td>   \n",
       "</tr>\n",
       "</table>\n",
       "<table class=\"simpletable\">\n",
       "<tr>\n",
       "      <td></td>         <th>coef</th>     <th>std err</th>      <th>z</th>      <th>P>|z|</th>  <th>[0.025</th>    <th>0.975]</th>  \n",
       "</tr>\n",
       "<tr>\n",
       "  <th>intercept</th> <td>    0.0037</td> <td>    0.023</td> <td>    0.159</td> <td> 0.874</td> <td>   -0.042</td> <td>    0.049</td>\n",
       "</tr>\n",
       "<tr>\n",
       "  <th>ma.L1</th>     <td>   -1.3684</td> <td>    0.557</td> <td>   -2.456</td> <td> 0.014</td> <td>   -2.461</td> <td>   -0.276</td>\n",
       "</tr>\n",
       "<tr>\n",
       "  <th>ma.L2</th>     <td>    0.3684</td> <td>    0.260</td> <td>    1.418</td> <td> 0.156</td> <td>   -0.141</td> <td>    0.878</td>\n",
       "</tr>\n",
       "<tr>\n",
       "  <th>ar.S.L7</th>   <td>    0.9961</td> <td>    0.024</td> <td>   41.562</td> <td> 0.000</td> <td>    0.949</td> <td>    1.043</td>\n",
       "</tr>\n",
       "<tr>\n",
       "  <th>ma.S.L7</th>   <td>   -0.7932</td> <td>    0.590</td> <td>   -1.344</td> <td> 0.179</td> <td>   -1.950</td> <td>    0.364</td>\n",
       "</tr>\n",
       "<tr>\n",
       "  <th>sigma2</th>    <td> 3.197e+04</td> <td> 2.04e-05</td> <td> 1.57e+09</td> <td> 0.000</td> <td>  3.2e+04</td> <td>  3.2e+04</td>\n",
       "</tr>\n",
       "</table>\n",
       "<table class=\"simpletable\">\n",
       "<tr>\n",
       "  <th>Ljung-Box (L1) (Q):</th>     <td>0.07</td> <th>  Jarque-Bera (JB):  </th> <td>0.75</td> \n",
       "</tr>\n",
       "<tr>\n",
       "  <th>Prob(Q):</th>                <td>0.80</td> <th>  Prob(JB):          </th> <td>0.69</td> \n",
       "</tr>\n",
       "<tr>\n",
       "  <th>Heteroskedasticity (H):</th> <td>1.09</td> <th>  Skew:              </th> <td>-0.34</td>\n",
       "</tr>\n",
       "<tr>\n",
       "  <th>Prob(H) (two-sided):</th>    <td>0.88</td> <th>  Kurtosis:          </th> <td>3.03</td> \n",
       "</tr>\n",
       "</table><br/><br/>Warnings:<br/>[1] Covariance matrix calculated using the outer product of gradients (complex-step).<br/>[2] Covariance matrix is singular or near-singular, with condition number 1.25e+25. Standard errors may be unstable."
      ],
      "text/plain": [
       "<class 'statsmodels.iolib.summary.Summary'>\n",
       "\"\"\"\n",
       "                                      SARIMAX Results                                      \n",
       "===========================================================================================\n",
       "Dep. Variable:                                   y   No. Observations:                   40\n",
       "Model:             SARIMAX(0, 1, 2)x(1, 0, [1], 7)   Log Likelihood                -267.447\n",
       "Date:                             Fri, 03 Feb 2023   AIC                            546.894\n",
       "Time:                                     23:36:00   BIC                            556.876\n",
       "Sample:                                 12-07-2022   HQIC                           550.476\n",
       "                                      - 01-15-2023                                         \n",
       "Covariance Type:                               opg                                         \n",
       "==============================================================================\n",
       "                 coef    std err          z      P>|z|      [0.025      0.975]\n",
       "------------------------------------------------------------------------------\n",
       "intercept      0.0037      0.023      0.159      0.874      -0.042       0.049\n",
       "ma.L1         -1.3684      0.557     -2.456      0.014      -2.461      -0.276\n",
       "ma.L2          0.3684      0.260      1.418      0.156      -0.141       0.878\n",
       "ar.S.L7        0.9961      0.024     41.562      0.000       0.949       1.043\n",
       "ma.S.L7       -0.7932      0.590     -1.344      0.179      -1.950       0.364\n",
       "sigma2      3.197e+04   2.04e-05   1.57e+09      0.000     3.2e+04     3.2e+04\n",
       "===================================================================================\n",
       "Ljung-Box (L1) (Q):                   0.07   Jarque-Bera (JB):                 0.75\n",
       "Prob(Q):                              0.80   Prob(JB):                         0.69\n",
       "Heteroskedasticity (H):               1.09   Skew:                            -0.34\n",
       "Prob(H) (two-sided):                  0.88   Kurtosis:                         3.03\n",
       "===================================================================================\n",
       "\n",
       "Warnings:\n",
       "[1] Covariance matrix calculated using the outer product of gradients (complex-step).\n",
       "[2] Covariance matrix is singular or near-singular, with condition number 1.25e+25. Standard errors may be unstable.\n",
       "\"\"\""
      ]
     },
     "execution_count": 27,
     "metadata": {},
     "output_type": "execute_result"
    }
   ],
   "source": [
    "# Verificando os dados base da predicao\n",
    "modelo.summary()"
   ]
  },
  {
   "cell_type": "code",
   "execution_count": 28,
   "id": "ce898483",
   "metadata": {
    "scrolled": true
   },
   "outputs": [
    {
     "name": "stdout",
     "output_type": "stream",
     "text": [
      "Acuracia:  0.8180274071339214\n"
     ]
    }
   ],
   "source": [
    "# Verificando o indice de acuracia para o processo\n",
    "from sklearn.metrics import r2_score\n",
    "test['Predicao'] = predicao.Diferenca\n",
    "print('Acuracia: ', r2_score(test['Diferenca'], test['Predicao']))"
   ]
  },
  {
   "cell_type": "markdown",
   "id": "b0d72ce2",
   "metadata": {},
   "source": [
    "# Realizando a previsão das 5 datas seguintes"
   ]
  },
  {
   "cell_type": "code",
   "execution_count": 29,
   "id": "73760ed6",
   "metadata": {},
   "outputs": [],
   "source": [
    "# Recriando a base para a ultima previsao\n",
    "data_resultado = pd.read_excel('Dados.xlsx')\n",
    "data_validacao = data_resultado.copy()\n",
    "data_validacao['Diferenca'] = data_validacao['Vendas'] - data_validacao['Vendas'].shift(1)\n",
    "\n",
    "# Dropando a coluna vendas e retirando valores nulos\n",
    "data_validacao = data_validacao.drop('Vendas', axis=1)\n",
    "data_validacao = data_validacao.dropna()"
   ]
  },
  {
   "cell_type": "code",
   "execution_count": 30,
   "id": "f92956a3",
   "metadata": {
    "scrolled": true,
    "tags": []
   },
   "outputs": [],
   "source": [
    "# Criando linhas em branco para a previsão\n",
    "futuro = [{'Data' : '2023-01-21', 'Diferenca' : ''},\n",
    "         {'Data' : '2023-01-22', 'Diferenca' : ''},\n",
    "         {'Data' : '2023-01-23', 'Diferenca' : ''},\n",
    "         {'Data' : '2023-01-24', 'Diferenca' : ''},\n",
    "         {'Data' : '2023-01-25', 'Diferenca' : ''}]"
   ]
  },
  {
   "cell_type": "code",
   "execution_count": 31,
   "id": "c259cbae",
   "metadata": {
    "scrolled": true
   },
   "outputs": [],
   "source": [
    "# Adcionando as linhas em branco do DataFrame\n",
    "test2 = data_validacao.append(futuro, ignore_index=True)\n",
    "\n",
    "# Padronizando os tipos de dados\n",
    "test2[\"Data\"] = pd.to_datetime(test2[\"Data\"])\n",
    "test2[\"Diferenca\"] = pd.to_numeric(test2[\"Diferenca\"])\n",
    "\n",
    "# Colocando as data como Index\n",
    "data_comparacao_final =test2.copy()\n",
    "test2 = test2.set_index('Data')\n",
    "test2 = test2[40:]"
   ]
  },
  {
   "cell_type": "code",
   "execution_count": 32,
   "id": "d5d3a120-9c84-4593-b979-83fe74b5907b",
   "metadata": {},
   "outputs": [
    {
     "data": {
      "text/html": [
       "<div>\n",
       "<style scoped>\n",
       "    .dataframe tbody tr th:only-of-type {\n",
       "        vertical-align: middle;\n",
       "    }\n",
       "\n",
       "    .dataframe tbody tr th {\n",
       "        vertical-align: top;\n",
       "    }\n",
       "\n",
       "    .dataframe thead th {\n",
       "        text-align: right;\n",
       "    }\n",
       "</style>\n",
       "<table border=\"1\" class=\"dataframe\">\n",
       "  <thead>\n",
       "    <tr style=\"text-align: right;\">\n",
       "      <th></th>\n",
       "      <th>Diferenca</th>\n",
       "    </tr>\n",
       "    <tr>\n",
       "      <th>Data</th>\n",
       "      <th></th>\n",
       "    </tr>\n",
       "  </thead>\n",
       "  <tbody>\n",
       "    <tr>\n",
       "      <th>2023-01-21</th>\n",
       "      <td>NaN</td>\n",
       "    </tr>\n",
       "    <tr>\n",
       "      <th>2023-01-22</th>\n",
       "      <td>NaN</td>\n",
       "    </tr>\n",
       "    <tr>\n",
       "      <th>2023-01-23</th>\n",
       "      <td>NaN</td>\n",
       "    </tr>\n",
       "    <tr>\n",
       "      <th>2023-01-24</th>\n",
       "      <td>NaN</td>\n",
       "    </tr>\n",
       "    <tr>\n",
       "      <th>2023-01-25</th>\n",
       "      <td>NaN</td>\n",
       "    </tr>\n",
       "  </tbody>\n",
       "</table>\n",
       "</div>"
      ],
      "text/plain": [
       "            Diferenca\n",
       "Data                 \n",
       "2023-01-21        NaN\n",
       "2023-01-22        NaN\n",
       "2023-01-23        NaN\n",
       "2023-01-24        NaN\n",
       "2023-01-25        NaN"
      ]
     },
     "execution_count": 32,
     "metadata": {},
     "output_type": "execute_result"
    }
   ],
   "source": [
    "# Ultimos 5 dados em branco\n",
    "test2.tail()"
   ]
  },
  {
   "cell_type": "code",
   "execution_count": 33,
   "id": "47152a8c",
   "metadata": {},
   "outputs": [],
   "source": [
    "# Fazendo  as predições \n",
    "modelo.update(test2)\n",
    "predicao2 = modelo.predict(n_periods = test2.shape[0])\n",
    "predicao2 = pd.DataFrame(predicao2, index= test2.index, columns = ['Diferenca'])"
   ]
  },
  {
   "cell_type": "code",
   "execution_count": 34,
   "id": "d180ec6b",
   "metadata": {},
   "outputs": [
    {
     "data": {
      "text/html": [
       "<div>\n",
       "<style scoped>\n",
       "    .dataframe tbody tr th:only-of-type {\n",
       "        vertical-align: middle;\n",
       "    }\n",
       "\n",
       "    .dataframe tbody tr th {\n",
       "        vertical-align: top;\n",
       "    }\n",
       "\n",
       "    .dataframe thead th {\n",
       "        text-align: right;\n",
       "    }\n",
       "</style>\n",
       "<table border=\"1\" class=\"dataframe\">\n",
       "  <thead>\n",
       "    <tr style=\"text-align: right;\">\n",
       "      <th></th>\n",
       "      <th>Diferenca</th>\n",
       "    </tr>\n",
       "    <tr>\n",
       "      <th>Data</th>\n",
       "      <th></th>\n",
       "    </tr>\n",
       "  </thead>\n",
       "  <tbody>\n",
       "    <tr>\n",
       "      <th>2023-01-21</th>\n",
       "      <td>-317.857859</td>\n",
       "    </tr>\n",
       "    <tr>\n",
       "      <th>2023-01-22</th>\n",
       "      <td>79.301867</td>\n",
       "    </tr>\n",
       "    <tr>\n",
       "      <th>2023-01-23</th>\n",
       "      <td>310.936398</td>\n",
       "    </tr>\n",
       "    <tr>\n",
       "      <th>2023-01-24</th>\n",
       "      <td>-454.427360</td>\n",
       "    </tr>\n",
       "    <tr>\n",
       "      <th>2023-01-25</th>\n",
       "      <td>-314.844169</td>\n",
       "    </tr>\n",
       "  </tbody>\n",
       "</table>\n",
       "</div>"
      ],
      "text/plain": [
       "             Diferenca\n",
       "Data                  \n",
       "2023-01-21 -317.857859\n",
       "2023-01-22   79.301867\n",
       "2023-01-23  310.936398\n",
       "2023-01-24 -454.427360\n",
       "2023-01-25 -314.844169"
      ]
     },
     "execution_count": 34,
     "metadata": {},
     "output_type": "execute_result"
    }
   ],
   "source": [
    "# ultimos 5 dados previstos, somente a diferença de valores\n",
    "predicao2.tail()"
   ]
  },
  {
   "cell_type": "code",
   "execution_count": 35,
   "id": "a535c827-9d24-4f56-babc-2072682e9d9c",
   "metadata": {},
   "outputs": [],
   "source": [
    "# Pegando os ultimos 10 dados do Dataframe original\n",
    "dados_venda = data_resultado.Vendas[-10:].values\n",
    "dados_venda = pd.DataFrame(dados_venda)\n",
    "\n",
    "# Pegando as ultimas 10 previsoes da segunda etapa de previsao\n",
    "dados_predicao = predicao2.Diferenca[-10:].values\n",
    "dados_predicao = pd.DataFrame(dados_predicao)"
   ]
  },
  {
   "cell_type": "code",
   "execution_count": 36,
   "id": "982889ae-c5a8-493d-a72f-f09849b5a387",
   "metadata": {
    "scrolled": true,
    "tags": []
   },
   "outputs": [],
   "source": [
    "# Realizando um loop for para somar a diferenca prevista com o \n",
    "# resultado de vendas do dia anterior na planilha original\n",
    "resultado = []\n",
    "soma = 0\n",
    "for i in range(len(dados_predicao)):\n",
    "    if i == 0:\n",
    "        resultado.append(0)\n",
    "    elif i > 0 and i < 5:\n",
    "        soma = int(dados_predicao.iloc[i] + dados_venda.iloc[i-1])\n",
    "        resultado.append(soma)\n",
    "    else:\n",
    "        soma = int(dados_predicao.iloc[i] + soma)\n",
    "        resultado.append(soma)"
   ]
  },
  {
   "cell_type": "code",
   "execution_count": 37,
   "id": "226a8847",
   "metadata": {
    "scrolled": true
   },
   "outputs": [],
   "source": [
    "resultado = pd.DataFrame(resultado, columns=['Previsao'])\n",
    "resultado['Data'] = data_comparacao_final.Data[-10:].values"
   ]
  },
  {
   "cell_type": "code",
   "execution_count": 38,
   "id": "6a3982b4",
   "metadata": {
    "scrolled": true
   },
   "outputs": [
    {
     "data": {
      "image/png": "[encoded data removed]",
      "text/plain": [
       "<Figure size 1200x600 with 1 Axes>"
      ]
     },
     "metadata": {},
     "output_type": "display_data"
    }
   ],
   "source": [
    "plt.plot(df_base.set_index('Data'))\n",
    "plt.plot(resultado.set_index('Data').shift(-2), color='red')\n",
    "plt.show()"
   ]
  },
  {
   "cell_type": "markdown",
   "id": "9b6b61ee",
   "metadata": {},
   "source": [
    "# Resultado"
   ]
  },
  {
   "cell_type": "code",
   "execution_count": 39,
   "id": "00d16534",
   "metadata": {
    "scrolled": true
   },
   "outputs": [
    {
     "name": "stdout",
     "output_type": "stream",
     "text": [
      "Previsao dos proximos 5 dias de vendas,  21 a 25 de Janeiro :\n"
     ]
    },
    {
     "data": {
      "text/html": [
       "<div>\n",
       "<style scoped>\n",
       "    .dataframe tbody tr th:only-of-type {\n",
       "        vertical-align: middle;\n",
       "    }\n",
       "\n",
       "    .dataframe tbody tr th {\n",
       "        vertical-align: top;\n",
       "    }\n",
       "\n",
       "    .dataframe thead th {\n",
       "        text-align: right;\n",
       "    }\n",
       "</style>\n",
       "<table border=\"1\" class=\"dataframe\">\n",
       "  <thead>\n",
       "    <tr style=\"text-align: right;\">\n",
       "      <th></th>\n",
       "      <th>Previsao</th>\n",
       "    </tr>\n",
       "    <tr>\n",
       "      <th>Data</th>\n",
       "      <th></th>\n",
       "    </tr>\n",
       "  </thead>\n",
       "  <tbody>\n",
       "    <tr>\n",
       "      <th>2023-01-21</th>\n",
       "      <td>853</td>\n",
       "    </tr>\n",
       "    <tr>\n",
       "      <th>2023-01-22</th>\n",
       "      <td>932</td>\n",
       "    </tr>\n",
       "    <tr>\n",
       "      <th>2023-01-23</th>\n",
       "      <td>1242</td>\n",
       "    </tr>\n",
       "    <tr>\n",
       "      <th>2023-01-24</th>\n",
       "      <td>787</td>\n",
       "    </tr>\n",
       "    <tr>\n",
       "      <th>2023-01-25</th>\n",
       "      <td>472</td>\n",
       "    </tr>\n",
       "  </tbody>\n",
       "</table>\n",
       "</div>"
      ],
      "text/plain": [
       "            Previsao\n",
       "Data                \n",
       "2023-01-21       853\n",
       "2023-01-22       932\n",
       "2023-01-23      1242\n",
       "2023-01-24       787\n",
       "2023-01-25       472"
      ]
     },
     "metadata": {},
     "output_type": "display_data"
    }
   ],
   "source": [
    "print('Previsao dos proximos 5 dias de vendas,  21 a 25 de Janeiro :')\n",
    "display(resultado[-5:].set_index('Data'))"
   ]
  },
  {
   "cell_type": "markdown",
   "id": "8ba541bb",
   "metadata": {},
   "source": [
    "## Nota Final"
   ]
  },
  {
   "cell_type": "markdown",
   "id": "f0acc036",
   "metadata": {},
   "source": [
    "Considero que o tabalho foi ótimo para ganho de conhecimento e melhor entendimento de previsões em séries temporais."
   ]
  },
  {
   "cell_type": "markdown",
   "id": "ed885210",
   "metadata": {},
   "source": [
    "Acredito que a base de dados é pequena para uma maior acertividade nas previsões. Todavia, no futuro, com maior entendimento da biblioteca arima e outros tipos de séries temporais, vou voltar a essa base de dados para tentar melhorar o código."
   ]
  },
  {
   "cell_type": "markdown",
   "id": "fae12838",
   "metadata": {},
   "source": [
    "Agradeço a Frexco por essa oportunidade, onde pude demonstrar um pouco das minhas habilidades, mas acima de tudo, aprender um pouco mais sobre esse mundo gigante que é a Data Science.\n",
    "\n",
    "Att,\n",
    "\n",
    "### Antonio Carlos Pereira Junior"
   ]
  }
 ],
 "metadata": {
  "kernelspec": {
   "display_name": "Python 3 (ipykernel)",
   "language": "python",
   "name": "python3"
  },
  "language_info": {
   "codemirror_mode": {
    "name": "ipython",
    "version": 3
   },
   "file_extension": ".py",
   "mimetype": "text/x-python",
   "name": "python",
   "nbconvert_exporter": "python",
   "pygments_lexer": "ipython3",
   "version": "3.9.13"
  }
 },
 "nbformat": 4,
 "nbformat_minor": 5
}

{
 "cells": [
  {
   "cell_type": "code",
   "execution_count": 1,
   "id": "0dbff414",
   "metadata": {},
   "outputs": [],
   "source": [
    "# Baixando as bibliotecas necessarias para o script\n",
    "import pandas as pd\n",
    "pd.set_option('mode.chained_assignment', None)\n",
    "import numpy as np\n",
    "import datetime as dt\n",
    "import matplotlib.pyplot as plt\n",
    "import seaborn as sns"
   ]
  },
  {
   "cell_type": "code",
   "execution_count": 2,
   "id": "27a8e66d",
   "metadata": {},
   "outputs": [],
   "source": [
    "# Importando a base de dados\n",
    "df_base = pd.read_excel('Dados.xlsx')"
   ]
  },
  {
   "cell_type": "code",
   "execution_count": 3,
   "id": "48724757",
   "metadata": {
    "scrolled": true
   },
   "outputs": [
    {
     "data": {
      "text/html": [
       "<div>\n",
       "<style scoped>\n",
       "    .dataframe tbody tr th:only-of-type {\n",
       "        vertical-align: middle;\n",
       "    }\n",
       "\n",
       "    .dataframe tbody tr th {\n",
       "        vertical-align: top;\n",
       "    }\n",
       "\n",
       "    .dataframe thead th {\n",
       "        text-align: right;\n",
       "    }\n",
       "</style>\n",
       "<table border=\"1\" class=\"dataframe\">\n",
       "  <thead>\n",
       "    <tr style=\"text-align: right;\">\n",
       "      <th></th>\n",
       "      <th>Data</th>\n",
       "      <th>Vendas</th>\n",
       "    </tr>\n",
       "  </thead>\n",
       "  <tbody>\n",
       "    <tr>\n",
       "      <th>0</th>\n",
       "      <td>2022-12-06</td>\n",
       "      <td>870</td>\n",
       "    </tr>\n",
       "    <tr>\n",
       "      <th>1</th>\n",
       "      <td>2022-12-07</td>\n",
       "      <td>868</td>\n",
       "    </tr>\n",
       "    <tr>\n",
       "      <th>2</th>\n",
       "      <td>2022-12-08</td>\n",
       "      <td>1189</td>\n",
       "    </tr>\n",
       "    <tr>\n",
       "      <th>3</th>\n",
       "      <td>2022-12-09</td>\n",
       "      <td>742</td>\n",
       "    </tr>\n",
       "    <tr>\n",
       "      <th>4</th>\n",
       "      <td>2022-12-10</td>\n",
       "      <td>317</td>\n",
       "    </tr>\n",
       "  </tbody>\n",
       "</table>\n",
       "</div>"
      ],
      "text/plain": [
       "        Data  Vendas\n",
       "0 2022-12-06     870\n",
       "1 2022-12-07     868\n",
       "2 2022-12-08    1189\n",
       "3 2022-12-09     742\n",
       "4 2022-12-10     317"
      ]
     },
     "execution_count": 3,
     "metadata": {},
     "output_type": "execute_result"
    }
   ],
   "source": [
    "# Verificando o Dataframe\n",
    "df_base.head(5)"
   ]
  },
  {
   "cell_type": "code",
   "execution_count": 4,
   "id": "70a9d349",
   "metadata": {},
   "outputs": [
    {
     "name": "stdout",
     "output_type": "stream",
     "text": [
      "<class 'pandas.core.frame.DataFrame'>\n",
      "RangeIndex: 46 entries, 0 to 45\n",
      "Data columns (total 2 columns):\n",
      " #   Column  Non-Null Count  Dtype         \n",
      "---  ------  --------------  -----         \n",
      " 0   Data    46 non-null     datetime64[ns]\n",
      " 1   Vendas  46 non-null     int64         \n",
      "dtypes: datetime64[ns](1), int64(1)\n",
      "memory usage: 864.0 bytes\n"
     ]
    }
   ],
   "source": [
    "# Verficando o tipo dos dados\n",
    "df_base.info()"
   ]
  },
  {
   "cell_type": "code",
   "execution_count": 5,
   "id": "8ab82099",
   "metadata": {},
   "outputs": [
    {
     "data": {
      "text/html": [
       "<div>\n",
       "<style scoped>\n",
       "    .dataframe tbody tr th:only-of-type {\n",
       "        vertical-align: middle;\n",
       "    }\n",
       "\n",
       "    .dataframe tbody tr th {\n",
       "        vertical-align: top;\n",
       "    }\n",
       "\n",
       "    .dataframe thead th {\n",
       "        text-align: right;\n",
       "    }\n",
       "</style>\n",
       "<table border=\"1\" class=\"dataframe\">\n",
       "  <thead>\n",
       "    <tr style=\"text-align: right;\">\n",
       "      <th></th>\n",
       "      <th>Data</th>\n",
       "      <th>Vendas</th>\n",
       "      <th>dia</th>\n",
       "      <th>mes</th>\n",
       "    </tr>\n",
       "  </thead>\n",
       "  <tbody>\n",
       "    <tr>\n",
       "      <th>0</th>\n",
       "      <td>2022-12-06</td>\n",
       "      <td>870</td>\n",
       "      <td>6</td>\n",
       "      <td>12</td>\n",
       "    </tr>\n",
       "    <tr>\n",
       "      <th>1</th>\n",
       "      <td>2022-12-07</td>\n",
       "      <td>868</td>\n",
       "      <td>7</td>\n",
       "      <td>12</td>\n",
       "    </tr>\n",
       "    <tr>\n",
       "      <th>2</th>\n",
       "      <td>2022-12-08</td>\n",
       "      <td>1189</td>\n",
       "      <td>8</td>\n",
       "      <td>12</td>\n",
       "    </tr>\n",
       "    <tr>\n",
       "      <th>3</th>\n",
       "      <td>2022-12-09</td>\n",
       "      <td>742</td>\n",
       "      <td>9</td>\n",
       "      <td>12</td>\n",
       "    </tr>\n",
       "    <tr>\n",
       "      <th>4</th>\n",
       "      <td>2022-12-10</td>\n",
       "      <td>317</td>\n",
       "      <td>10</td>\n",
       "      <td>12</td>\n",
       "    </tr>\n",
       "  </tbody>\n",
       "</table>\n",
       "</div>"
      ],
      "text/plain": [
       "        Data  Vendas  dia  mes\n",
       "0 2022-12-06     870    6   12\n",
       "1 2022-12-07     868    7   12\n",
       "2 2022-12-08    1189    8   12\n",
       "3 2022-12-09     742    9   12\n",
       "4 2022-12-10     317   10   12"
      ]
     },
     "execution_count": 5,
     "metadata": {},
     "output_type": "execute_result"
    }
   ],
   "source": [
    "# Criando colunas para separar o dia e o mes\n",
    "df = df_base.copy()\n",
    "df['dia'] = df_base['Data'].dt.day\n",
    "df['mes'] = df_base['Data'].dt.month\n",
    "df.head(5)"
   ]
  },
  {
   "cell_type": "code",
   "execution_count": 6,
   "id": "c97f6f44",
   "metadata": {
    "scrolled": false
   },
   "outputs": [],
   "source": [
    "# Criando um loop para adcionar o dia da semana e seu numero\n",
    "dia_semana_num = []\n",
    "dia_semana_nome = []\n",
    "\n",
    "for i in df.Data:\n",
    "    temp = pd.Timestamp(i)\n",
    "    dia_semana_num.append(temp.dayofweek)\n",
    "    dia_semana_nome.append(temp.day_name())\n",
    "    \n",
    "# Anexando\n",
    "df['dia_semana_num'] = dia_semana_num\n",
    "df['dia_semana_nome'] = dia_semana_nome"
   ]
  },
  {
   "cell_type": "code",
   "execution_count": 7,
   "id": "fc795320",
   "metadata": {},
   "outputs": [],
   "source": [
    "# Criando um loop for pra destacar as semanas da base de dados\n",
    "semana = []\n",
    "x = df['Data'].dt.to_period('W-SUN')\n",
    "num = 1\n",
    "\n",
    "for i in range(len(x)):\n",
    "    if x[i] == x[0] or x[i] == x[i-1]:\n",
    "        semana.append(num)\n",
    "    else:\n",
    "        num += 1\n",
    "        semana.append(num)   "
   ]
  },
  {
   "cell_type": "code",
   "execution_count": 8,
   "id": "982c60ca",
   "metadata": {},
   "outputs": [],
   "source": [
    "# Adcionando a semana ao Dataframe\n",
    "df['semana']= semana"
   ]
  },
  {
   "cell_type": "code",
   "execution_count": 9,
   "id": "ef7ac0cd",
   "metadata": {
    "scrolled": true
   },
   "outputs": [
    {
     "data": {
      "text/html": [
       "<div>\n",
       "<style scoped>\n",
       "    .dataframe tbody tr th:only-of-type {\n",
       "        vertical-align: middle;\n",
       "    }\n",
       "\n",
       "    .dataframe tbody tr th {\n",
       "        vertical-align: top;\n",
       "    }\n",
       "\n",
       "    .dataframe thead th {\n",
       "        text-align: right;\n",
       "    }\n",
       "</style>\n",
       "<table border=\"1\" class=\"dataframe\">\n",
       "  <thead>\n",
       "    <tr style=\"text-align: right;\">\n",
       "      <th></th>\n",
       "      <th>Data</th>\n",
       "      <th>dia</th>\n",
       "      <th>semana</th>\n",
       "      <th>mes</th>\n",
       "      <th>dia_semana_num</th>\n",
       "      <th>dia_semana_nome</th>\n",
       "      <th>Vendas</th>\n",
       "    </tr>\n",
       "  </thead>\n",
       "  <tbody>\n",
       "    <tr>\n",
       "      <th>0</th>\n",
       "      <td>2022-12-06</td>\n",
       "      <td>6</td>\n",
       "      <td>1</td>\n",
       "      <td>12</td>\n",
       "      <td>1</td>\n",
       "      <td>Tuesday</td>\n",
       "      <td>870</td>\n",
       "    </tr>\n",
       "    <tr>\n",
       "      <th>1</th>\n",
       "      <td>2022-12-07</td>\n",
       "      <td>7</td>\n",
       "      <td>1</td>\n",
       "      <td>12</td>\n",
       "      <td>2</td>\n",
       "      <td>Wednesday</td>\n",
       "      <td>868</td>\n",
       "    </tr>\n",
       "    <tr>\n",
       "      <th>2</th>\n",
       "      <td>2022-12-08</td>\n",
       "      <td>8</td>\n",
       "      <td>1</td>\n",
       "      <td>12</td>\n",
       "      <td>3</td>\n",
       "      <td>Thursday</td>\n",
       "      <td>1189</td>\n",
       "    </tr>\n",
       "    <tr>\n",
       "      <th>3</th>\n",
       "      <td>2022-12-09</td>\n",
       "      <td>9</td>\n",
       "      <td>1</td>\n",
       "      <td>12</td>\n",
       "      <td>4</td>\n",
       "      <td>Friday</td>\n",
       "      <td>742</td>\n",
       "    </tr>\n",
       "    <tr>\n",
       "      <th>4</th>\n",
       "      <td>2022-12-10</td>\n",
       "      <td>10</td>\n",
       "      <td>1</td>\n",
       "      <td>12</td>\n",
       "      <td>5</td>\n",
       "      <td>Saturday</td>\n",
       "      <td>317</td>\n",
       "    </tr>\n",
       "    <tr>\n",
       "      <th>5</th>\n",
       "      <td>2022-12-11</td>\n",
       "      <td>11</td>\n",
       "      <td>1</td>\n",
       "      <td>12</td>\n",
       "      <td>6</td>\n",
       "      <td>Sunday</td>\n",
       "      <td>685</td>\n",
       "    </tr>\n",
       "    <tr>\n",
       "      <th>6</th>\n",
       "      <td>2022-12-12</td>\n",
       "      <td>12</td>\n",
       "      <td>2</td>\n",
       "      <td>12</td>\n",
       "      <td>0</td>\n",
       "      <td>Monday</td>\n",
       "      <td>1366</td>\n",
       "    </tr>\n",
       "    <tr>\n",
       "      <th>7</th>\n",
       "      <td>2022-12-13</td>\n",
       "      <td>13</td>\n",
       "      <td>2</td>\n",
       "      <td>12</td>\n",
       "      <td>1</td>\n",
       "      <td>Tuesday</td>\n",
       "      <td>1213</td>\n",
       "    </tr>\n",
       "    <tr>\n",
       "      <th>8</th>\n",
       "      <td>2022-12-14</td>\n",
       "      <td>14</td>\n",
       "      <td>2</td>\n",
       "      <td>12</td>\n",
       "      <td>2</td>\n",
       "      <td>Wednesday</td>\n",
       "      <td>1055</td>\n",
       "    </tr>\n",
       "    <tr>\n",
       "      <th>9</th>\n",
       "      <td>2022-12-15</td>\n",
       "      <td>15</td>\n",
       "      <td>2</td>\n",
       "      <td>12</td>\n",
       "      <td>3</td>\n",
       "      <td>Thursday</td>\n",
       "      <td>1343</td>\n",
       "    </tr>\n",
       "    <tr>\n",
       "      <th>10</th>\n",
       "      <td>2022-12-16</td>\n",
       "      <td>16</td>\n",
       "      <td>2</td>\n",
       "      <td>12</td>\n",
       "      <td>4</td>\n",
       "      <td>Friday</td>\n",
       "      <td>832</td>\n",
       "    </tr>\n",
       "    <tr>\n",
       "      <th>11</th>\n",
       "      <td>2022-12-17</td>\n",
       "      <td>17</td>\n",
       "      <td>2</td>\n",
       "      <td>12</td>\n",
       "      <td>5</td>\n",
       "      <td>Saturday</td>\n",
       "      <td>240</td>\n",
       "    </tr>\n",
       "    <tr>\n",
       "      <th>12</th>\n",
       "      <td>2022-12-18</td>\n",
       "      <td>18</td>\n",
       "      <td>2</td>\n",
       "      <td>12</td>\n",
       "      <td>6</td>\n",
       "      <td>Sunday</td>\n",
       "      <td>235</td>\n",
       "    </tr>\n",
       "    <tr>\n",
       "      <th>13</th>\n",
       "      <td>2022-12-19</td>\n",
       "      <td>19</td>\n",
       "      <td>3</td>\n",
       "      <td>12</td>\n",
       "      <td>0</td>\n",
       "      <td>Monday</td>\n",
       "      <td>1050</td>\n",
       "    </tr>\n",
       "    <tr>\n",
       "      <th>14</th>\n",
       "      <td>2022-12-20</td>\n",
       "      <td>20</td>\n",
       "      <td>3</td>\n",
       "      <td>12</td>\n",
       "      <td>1</td>\n",
       "      <td>Tuesday</td>\n",
       "      <td>711</td>\n",
       "    </tr>\n",
       "    <tr>\n",
       "      <th>15</th>\n",
       "      <td>2022-12-21</td>\n",
       "      <td>21</td>\n",
       "      <td>3</td>\n",
       "      <td>12</td>\n",
       "      <td>2</td>\n",
       "      <td>Wednesday</td>\n",
       "      <td>745</td>\n",
       "    </tr>\n",
       "    <tr>\n",
       "      <th>16</th>\n",
       "      <td>2022-12-22</td>\n",
       "      <td>22</td>\n",
       "      <td>3</td>\n",
       "      <td>12</td>\n",
       "      <td>3</td>\n",
       "      <td>Thursday</td>\n",
       "      <td>1009</td>\n",
       "    </tr>\n",
       "    <tr>\n",
       "      <th>17</th>\n",
       "      <td>2022-12-23</td>\n",
       "      <td>23</td>\n",
       "      <td>3</td>\n",
       "      <td>12</td>\n",
       "      <td>4</td>\n",
       "      <td>Friday</td>\n",
       "      <td>18</td>\n",
       "    </tr>\n",
       "    <tr>\n",
       "      <th>18</th>\n",
       "      <td>2022-12-24</td>\n",
       "      <td>24</td>\n",
       "      <td>3</td>\n",
       "      <td>12</td>\n",
       "      <td>5</td>\n",
       "      <td>Saturday</td>\n",
       "      <td>40</td>\n",
       "    </tr>\n",
       "    <tr>\n",
       "      <th>19</th>\n",
       "      <td>2022-12-25</td>\n",
       "      <td>25</td>\n",
       "      <td>3</td>\n",
       "      <td>12</td>\n",
       "      <td>6</td>\n",
       "      <td>Sunday</td>\n",
       "      <td>67</td>\n",
       "    </tr>\n",
       "    <tr>\n",
       "      <th>20</th>\n",
       "      <td>2022-12-26</td>\n",
       "      <td>26</td>\n",
       "      <td>4</td>\n",
       "      <td>12</td>\n",
       "      <td>0</td>\n",
       "      <td>Monday</td>\n",
       "      <td>821</td>\n",
       "    </tr>\n",
       "    <tr>\n",
       "      <th>21</th>\n",
       "      <td>2022-12-27</td>\n",
       "      <td>27</td>\n",
       "      <td>4</td>\n",
       "      <td>12</td>\n",
       "      <td>1</td>\n",
       "      <td>Tuesday</td>\n",
       "      <td>572</td>\n",
       "    </tr>\n",
       "    <tr>\n",
       "      <th>22</th>\n",
       "      <td>2022-12-28</td>\n",
       "      <td>28</td>\n",
       "      <td>4</td>\n",
       "      <td>12</td>\n",
       "      <td>2</td>\n",
       "      <td>Wednesday</td>\n",
       "      <td>429</td>\n",
       "    </tr>\n",
       "    <tr>\n",
       "      <th>23</th>\n",
       "      <td>2022-12-29</td>\n",
       "      <td>29</td>\n",
       "      <td>4</td>\n",
       "      <td>12</td>\n",
       "      <td>3</td>\n",
       "      <td>Thursday</td>\n",
       "      <td>638</td>\n",
       "    </tr>\n",
       "    <tr>\n",
       "      <th>24</th>\n",
       "      <td>2022-12-30</td>\n",
       "      <td>30</td>\n",
       "      <td>4</td>\n",
       "      <td>12</td>\n",
       "      <td>4</td>\n",
       "      <td>Friday</td>\n",
       "      <td>106</td>\n",
       "    </tr>\n",
       "    <tr>\n",
       "      <th>25</th>\n",
       "      <td>2022-12-31</td>\n",
       "      <td>31</td>\n",
       "      <td>4</td>\n",
       "      <td>12</td>\n",
       "      <td>5</td>\n",
       "      <td>Saturday</td>\n",
       "      <td>54</td>\n",
       "    </tr>\n",
       "    <tr>\n",
       "      <th>26</th>\n",
       "      <td>2023-01-01</td>\n",
       "      <td>1</td>\n",
       "      <td>4</td>\n",
       "      <td>1</td>\n",
       "      <td>6</td>\n",
       "      <td>Sunday</td>\n",
       "      <td>144</td>\n",
       "    </tr>\n",
       "    <tr>\n",
       "      <th>27</th>\n",
       "      <td>2023-01-02</td>\n",
       "      <td>2</td>\n",
       "      <td>5</td>\n",
       "      <td>1</td>\n",
       "      <td>0</td>\n",
       "      <td>Monday</td>\n",
       "      <td>814</td>\n",
       "    </tr>\n",
       "    <tr>\n",
       "      <th>28</th>\n",
       "      <td>2023-01-03</td>\n",
       "      <td>3</td>\n",
       "      <td>5</td>\n",
       "      <td>1</td>\n",
       "      <td>1</td>\n",
       "      <td>Tuesday</td>\n",
       "      <td>679</td>\n",
       "    </tr>\n",
       "    <tr>\n",
       "      <th>29</th>\n",
       "      <td>2023-01-04</td>\n",
       "      <td>4</td>\n",
       "      <td>5</td>\n",
       "      <td>1</td>\n",
       "      <td>2</td>\n",
       "      <td>Wednesday</td>\n",
       "      <td>712</td>\n",
       "    </tr>\n",
       "    <tr>\n",
       "      <th>30</th>\n",
       "      <td>2023-01-05</td>\n",
       "      <td>5</td>\n",
       "      <td>5</td>\n",
       "      <td>1</td>\n",
       "      <td>3</td>\n",
       "      <td>Thursday</td>\n",
       "      <td>1229</td>\n",
       "    </tr>\n",
       "    <tr>\n",
       "      <th>31</th>\n",
       "      <td>2023-01-06</td>\n",
       "      <td>6</td>\n",
       "      <td>5</td>\n",
       "      <td>1</td>\n",
       "      <td>4</td>\n",
       "      <td>Friday</td>\n",
       "      <td>821</td>\n",
       "    </tr>\n",
       "    <tr>\n",
       "      <th>32</th>\n",
       "      <td>2023-01-07</td>\n",
       "      <td>7</td>\n",
       "      <td>5</td>\n",
       "      <td>1</td>\n",
       "      <td>5</td>\n",
       "      <td>Saturday</td>\n",
       "      <td>319</td>\n",
       "    </tr>\n",
       "    <tr>\n",
       "      <th>33</th>\n",
       "      <td>2023-01-08</td>\n",
       "      <td>8</td>\n",
       "      <td>5</td>\n",
       "      <td>1</td>\n",
       "      <td>6</td>\n",
       "      <td>Sunday</td>\n",
       "      <td>317</td>\n",
       "    </tr>\n",
       "    <tr>\n",
       "      <th>34</th>\n",
       "      <td>2023-01-09</td>\n",
       "      <td>9</td>\n",
       "      <td>6</td>\n",
       "      <td>1</td>\n",
       "      <td>0</td>\n",
       "      <td>Monday</td>\n",
       "      <td>1317</td>\n",
       "    </tr>\n",
       "    <tr>\n",
       "      <th>35</th>\n",
       "      <td>2023-01-10</td>\n",
       "      <td>10</td>\n",
       "      <td>6</td>\n",
       "      <td>1</td>\n",
       "      <td>1</td>\n",
       "      <td>Tuesday</td>\n",
       "      <td>807</td>\n",
       "    </tr>\n",
       "    <tr>\n",
       "      <th>36</th>\n",
       "      <td>2023-01-11</td>\n",
       "      <td>11</td>\n",
       "      <td>6</td>\n",
       "      <td>1</td>\n",
       "      <td>2</td>\n",
       "      <td>Wednesday</td>\n",
       "      <td>923</td>\n",
       "    </tr>\n",
       "    <tr>\n",
       "      <th>37</th>\n",
       "      <td>2023-01-12</td>\n",
       "      <td>12</td>\n",
       "      <td>6</td>\n",
       "      <td>1</td>\n",
       "      <td>3</td>\n",
       "      <td>Thursday</td>\n",
       "      <td>1265</td>\n",
       "    </tr>\n",
       "    <tr>\n",
       "      <th>38</th>\n",
       "      <td>2023-01-13</td>\n",
       "      <td>13</td>\n",
       "      <td>6</td>\n",
       "      <td>1</td>\n",
       "      <td>4</td>\n",
       "      <td>Friday</td>\n",
       "      <td>892</td>\n",
       "    </tr>\n",
       "    <tr>\n",
       "      <th>39</th>\n",
       "      <td>2023-01-14</td>\n",
       "      <td>14</td>\n",
       "      <td>6</td>\n",
       "      <td>1</td>\n",
       "      <td>5</td>\n",
       "      <td>Saturday</td>\n",
       "      <td>289</td>\n",
       "    </tr>\n",
       "    <tr>\n",
       "      <th>40</th>\n",
       "      <td>2023-01-15</td>\n",
       "      <td>15</td>\n",
       "      <td>6</td>\n",
       "      <td>1</td>\n",
       "      <td>6</td>\n",
       "      <td>Sunday</td>\n",
       "      <td>566</td>\n",
       "    </tr>\n",
       "    <tr>\n",
       "      <th>41</th>\n",
       "      <td>2023-01-16</td>\n",
       "      <td>16</td>\n",
       "      <td>7</td>\n",
       "      <td>1</td>\n",
       "      <td>0</td>\n",
       "      <td>Monday</td>\n",
       "      <td>1692</td>\n",
       "    </tr>\n",
       "    <tr>\n",
       "      <th>42</th>\n",
       "      <td>2023-01-17</td>\n",
       "      <td>17</td>\n",
       "      <td>7</td>\n",
       "      <td>1</td>\n",
       "      <td>1</td>\n",
       "      <td>Tuesday</td>\n",
       "      <td>1097</td>\n",
       "    </tr>\n",
       "    <tr>\n",
       "      <th>43</th>\n",
       "      <td>2023-01-18</td>\n",
       "      <td>18</td>\n",
       "      <td>7</td>\n",
       "      <td>1</td>\n",
       "      <td>2</td>\n",
       "      <td>Wednesday</td>\n",
       "      <td>1302</td>\n",
       "    </tr>\n",
       "    <tr>\n",
       "      <th>44</th>\n",
       "      <td>2023-01-19</td>\n",
       "      <td>19</td>\n",
       "      <td>7</td>\n",
       "      <td>1</td>\n",
       "      <td>3</td>\n",
       "      <td>Thursday</td>\n",
       "      <td>1405</td>\n",
       "    </tr>\n",
       "    <tr>\n",
       "      <th>45</th>\n",
       "      <td>2023-01-20</td>\n",
       "      <td>20</td>\n",
       "      <td>7</td>\n",
       "      <td>1</td>\n",
       "      <td>4</td>\n",
       "      <td>Friday</td>\n",
       "      <td>945</td>\n",
       "    </tr>\n",
       "  </tbody>\n",
       "</table>\n",
       "</div>"
      ],
      "text/plain": [
       "         Data  dia  semana  mes  dia_semana_num dia_semana_nome  Vendas\n",
       "0  2022-12-06    6       1   12               1         Tuesday     870\n",
       "1  2022-12-07    7       1   12               2       Wednesday     868\n",
       "2  2022-12-08    8       1   12               3        Thursday    1189\n",
       "3  2022-12-09    9       1   12               4          Friday     742\n",
       "4  2022-12-10   10       1   12               5        Saturday     317\n",
       "5  2022-12-11   11       1   12               6          Sunday     685\n",
       "6  2022-12-12   12       2   12               0          Monday    1366\n",
       "7  2022-12-13   13       2   12               1         Tuesday    1213\n",
       "8  2022-12-14   14       2   12               2       Wednesday    1055\n",
       "9  2022-12-15   15       2   12               3        Thursday    1343\n",
       "10 2022-12-16   16       2   12               4          Friday     832\n",
       "11 2022-12-17   17       2   12               5        Saturday     240\n",
       "12 2022-12-18   18       2   12               6          Sunday     235\n",
       "13 2022-12-19   19       3   12               0          Monday    1050\n",
       "14 2022-12-20   20       3   12               1         Tuesday     711\n",
       "15 2022-12-21   21       3   12               2       Wednesday     745\n",
       "16 2022-12-22   22       3   12               3        Thursday    1009\n",
       "17 2022-12-23   23       3   12               4          Friday      18\n",
       "18 2022-12-24   24       3   12               5        Saturday      40\n",
       "19 2022-12-25   25       3   12               6          Sunday      67\n",
       "20 2022-12-26   26       4   12               0          Monday     821\n",
       "21 2022-12-27   27       4   12               1         Tuesday     572\n",
       "22 2022-12-28   28       4   12               2       Wednesday     429\n",
       "23 2022-12-29   29       4   12               3        Thursday     638\n",
       "24 2022-12-30   30       4   12               4          Friday     106\n",
       "25 2022-12-31   31       4   12               5        Saturday      54\n",
       "26 2023-01-01    1       4    1               6          Sunday     144\n",
       "27 2023-01-02    2       5    1               0          Monday     814\n",
       "28 2023-01-03    3       5    1               1         Tuesday     679\n",
       "29 2023-01-04    4       5    1               2       Wednesday     712\n",
       "30 2023-01-05    5       5    1               3        Thursday    1229\n",
       "31 2023-01-06    6       5    1               4          Friday     821\n",
       "32 2023-01-07    7       5    1               5        Saturday     319\n",
       "33 2023-01-08    8       5    1               6          Sunday     317\n",
       "34 2023-01-09    9       6    1               0          Monday    1317\n",
       "35 2023-01-10   10       6    1               1         Tuesday     807\n",
       "36 2023-01-11   11       6    1               2       Wednesday     923\n",
       "37 2023-01-12   12       6    1               3        Thursday    1265\n",
       "38 2023-01-13   13       6    1               4          Friday     892\n",
       "39 2023-01-14   14       6    1               5        Saturday     289\n",
       "40 2023-01-15   15       6    1               6          Sunday     566\n",
       "41 2023-01-16   16       7    1               0          Monday    1692\n",
       "42 2023-01-17   17       7    1               1         Tuesday    1097\n",
       "43 2023-01-18   18       7    1               2       Wednesday    1302\n",
       "44 2023-01-19   19       7    1               3        Thursday    1405\n",
       "45 2023-01-20   20       7    1               4          Friday     945"
      ]
     },
     "metadata": {},
     "output_type": "display_data"
    }
   ],
   "source": [
    "# Reordenando as colunas do DataFrame\n",
    "df = df.reindex(columns=['Data','dia','semana','mes','dia_semana_num','dia_semana_nome','Vendas'])\n",
    "display(df)"
   ]
  },
  {
   "cell_type": "code",
   "execution_count": 10,
   "id": "890d6ea8",
   "metadata": {
    "scrolled": true
   },
   "outputs": [
    {
     "data": {
      "text/html": [
       "<div>\n",
       "<style scoped>\n",
       "    .dataframe tbody tr th:only-of-type {\n",
       "        vertical-align: middle;\n",
       "    }\n",
       "\n",
       "    .dataframe tbody tr th {\n",
       "        vertical-align: top;\n",
       "    }\n",
       "\n",
       "    .dataframe thead th {\n",
       "        text-align: right;\n",
       "    }\n",
       "</style>\n",
       "<table border=\"1\" class=\"dataframe\">\n",
       "  <thead>\n",
       "    <tr style=\"text-align: right;\">\n",
       "      <th></th>\n",
       "      <th>count</th>\n",
       "      <th>mean</th>\n",
       "      <th>std</th>\n",
       "      <th>min</th>\n",
       "      <th>25%</th>\n",
       "      <th>50%</th>\n",
       "      <th>75%</th>\n",
       "      <th>max</th>\n",
       "    </tr>\n",
       "    <tr>\n",
       "      <th>dia_semana_num</th>\n",
       "      <th></th>\n",
       "      <th></th>\n",
       "      <th></th>\n",
       "      <th></th>\n",
       "      <th></th>\n",
       "      <th></th>\n",
       "      <th></th>\n",
       "      <th></th>\n",
       "    </tr>\n",
       "  </thead>\n",
       "  <tbody>\n",
       "    <tr>\n",
       "      <th>0</th>\n",
       "      <td>6.0</td>\n",
       "      <td>1176.666667</td>\n",
       "      <td>345.015748</td>\n",
       "      <td>814.0</td>\n",
       "      <td>878.25</td>\n",
       "      <td>1183.5</td>\n",
       "      <td>1353.75</td>\n",
       "      <td>1692.0</td>\n",
       "    </tr>\n",
       "    <tr>\n",
       "      <th>1</th>\n",
       "      <td>7.0</td>\n",
       "      <td>849.857143</td>\n",
       "      <td>231.254858</td>\n",
       "      <td>572.0</td>\n",
       "      <td>695.00</td>\n",
       "      <td>807.0</td>\n",
       "      <td>983.50</td>\n",
       "      <td>1213.0</td>\n",
       "    </tr>\n",
       "    <tr>\n",
       "      <th>2</th>\n",
       "      <td>7.0</td>\n",
       "      <td>862.000000</td>\n",
       "      <td>276.370524</td>\n",
       "      <td>429.0</td>\n",
       "      <td>728.50</td>\n",
       "      <td>868.0</td>\n",
       "      <td>989.00</td>\n",
       "      <td>1302.0</td>\n",
       "    </tr>\n",
       "    <tr>\n",
       "      <th>3</th>\n",
       "      <td>7.0</td>\n",
       "      <td>1154.000000</td>\n",
       "      <td>259.863426</td>\n",
       "      <td>638.0</td>\n",
       "      <td>1099.00</td>\n",
       "      <td>1229.0</td>\n",
       "      <td>1304.00</td>\n",
       "      <td>1405.0</td>\n",
       "    </tr>\n",
       "    <tr>\n",
       "      <th>4</th>\n",
       "      <td>7.0</td>\n",
       "      <td>622.285714</td>\n",
       "      <td>388.673262</td>\n",
       "      <td>18.0</td>\n",
       "      <td>424.00</td>\n",
       "      <td>821.0</td>\n",
       "      <td>862.00</td>\n",
       "      <td>945.0</td>\n",
       "    </tr>\n",
       "    <tr>\n",
       "      <th>5</th>\n",
       "      <td>6.0</td>\n",
       "      <td>209.833333</td>\n",
       "      <td>129.388433</td>\n",
       "      <td>40.0</td>\n",
       "      <td>100.50</td>\n",
       "      <td>264.5</td>\n",
       "      <td>310.00</td>\n",
       "      <td>319.0</td>\n",
       "    </tr>\n",
       "    <tr>\n",
       "      <th>6</th>\n",
       "      <td>6.0</td>\n",
       "      <td>335.666667</td>\n",
       "      <td>242.688003</td>\n",
       "      <td>67.0</td>\n",
       "      <td>166.75</td>\n",
       "      <td>276.0</td>\n",
       "      <td>503.75</td>\n",
       "      <td>685.0</td>\n",
       "    </tr>\n",
       "  </tbody>\n",
       "</table>\n",
       "</div>"
      ],
      "text/plain": [
       "                count         mean         std    min      25%     50%  \\\n",
       "dia_semana_num                                                           \n",
       "0                 6.0  1176.666667  345.015748  814.0   878.25  1183.5   \n",
       "1                 7.0   849.857143  231.254858  572.0   695.00   807.0   \n",
       "2                 7.0   862.000000  276.370524  429.0   728.50   868.0   \n",
       "3                 7.0  1154.000000  259.863426  638.0  1099.00  1229.0   \n",
       "4                 7.0   622.285714  388.673262   18.0   424.00   821.0   \n",
       "5                 6.0   209.833333  129.388433   40.0   100.50   264.5   \n",
       "6                 6.0   335.666667  242.688003   67.0   166.75   276.0   \n",
       "\n",
       "                    75%     max  \n",
       "dia_semana_num                   \n",
       "0               1353.75  1692.0  \n",
       "1                983.50  1213.0  \n",
       "2                989.00  1302.0  \n",
       "3               1304.00  1405.0  \n",
       "4                862.00   945.0  \n",
       "5                310.00   319.0  \n",
       "6                503.75   685.0  "
      ]
     },
     "execution_count": 10,
     "metadata": {},
     "output_type": "execute_result"
    }
   ],
   "source": [
    "# Verificando as medidas basicas para as vendas por dia da semana\n",
    "df.groupby('dia_semana_num')['Vendas'].describe()"
   ]
  },
  {
   "cell_type": "code",
   "execution_count": 11,
   "id": "29ea667a",
   "metadata": {
    "scrolled": true
   },
   "outputs": [
    {
     "data": {
      "text/html": [
       "<div>\n",
       "<style scoped>\n",
       "    .dataframe tbody tr th:only-of-type {\n",
       "        vertical-align: middle;\n",
       "    }\n",
       "\n",
       "    .dataframe tbody tr th {\n",
       "        vertical-align: top;\n",
       "    }\n",
       "\n",
       "    .dataframe thead th {\n",
       "        text-align: right;\n",
       "    }\n",
       "</style>\n",
       "<table border=\"1\" class=\"dataframe\">\n",
       "  <thead>\n",
       "    <tr style=\"text-align: right;\">\n",
       "      <th></th>\n",
       "      <th>count</th>\n",
       "      <th>mean</th>\n",
       "      <th>std</th>\n",
       "      <th>min</th>\n",
       "      <th>25%</th>\n",
       "      <th>50%</th>\n",
       "      <th>75%</th>\n",
       "      <th>max</th>\n",
       "    </tr>\n",
       "    <tr>\n",
       "      <th>semana</th>\n",
       "      <th></th>\n",
       "      <th></th>\n",
       "      <th></th>\n",
       "      <th></th>\n",
       "      <th></th>\n",
       "      <th></th>\n",
       "      <th></th>\n",
       "      <th></th>\n",
       "    </tr>\n",
       "  </thead>\n",
       "  <tbody>\n",
       "    <tr>\n",
       "      <th>1</th>\n",
       "      <td>6.0</td>\n",
       "      <td>778.500000</td>\n",
       "      <td>285.639458</td>\n",
       "      <td>317.0</td>\n",
       "      <td>699.25</td>\n",
       "      <td>805.0</td>\n",
       "      <td>869.5</td>\n",
       "      <td>1189.0</td>\n",
       "    </tr>\n",
       "    <tr>\n",
       "      <th>2</th>\n",
       "      <td>7.0</td>\n",
       "      <td>897.714286</td>\n",
       "      <td>486.108943</td>\n",
       "      <td>235.0</td>\n",
       "      <td>536.00</td>\n",
       "      <td>1055.0</td>\n",
       "      <td>1278.0</td>\n",
       "      <td>1366.0</td>\n",
       "    </tr>\n",
       "    <tr>\n",
       "      <th>3</th>\n",
       "      <td>7.0</td>\n",
       "      <td>520.000000</td>\n",
       "      <td>464.532023</td>\n",
       "      <td>18.0</td>\n",
       "      <td>53.50</td>\n",
       "      <td>711.0</td>\n",
       "      <td>877.0</td>\n",
       "      <td>1050.0</td>\n",
       "    </tr>\n",
       "    <tr>\n",
       "      <th>4</th>\n",
       "      <td>7.0</td>\n",
       "      <td>394.857143</td>\n",
       "      <td>298.834641</td>\n",
       "      <td>54.0</td>\n",
       "      <td>125.00</td>\n",
       "      <td>429.0</td>\n",
       "      <td>605.0</td>\n",
       "      <td>821.0</td>\n",
       "    </tr>\n",
       "    <tr>\n",
       "      <th>5</th>\n",
       "      <td>7.0</td>\n",
       "      <td>698.714286</td>\n",
       "      <td>316.201789</td>\n",
       "      <td>317.0</td>\n",
       "      <td>499.00</td>\n",
       "      <td>712.0</td>\n",
       "      <td>817.5</td>\n",
       "      <td>1229.0</td>\n",
       "    </tr>\n",
       "    <tr>\n",
       "      <th>6</th>\n",
       "      <td>7.0</td>\n",
       "      <td>865.571429</td>\n",
       "      <td>363.532602</td>\n",
       "      <td>289.0</td>\n",
       "      <td>686.50</td>\n",
       "      <td>892.0</td>\n",
       "      <td>1094.0</td>\n",
       "      <td>1317.0</td>\n",
       "    </tr>\n",
       "    <tr>\n",
       "      <th>7</th>\n",
       "      <td>5.0</td>\n",
       "      <td>1288.200000</td>\n",
       "      <td>287.763271</td>\n",
       "      <td>945.0</td>\n",
       "      <td>1097.00</td>\n",
       "      <td>1302.0</td>\n",
       "      <td>1405.0</td>\n",
       "      <td>1692.0</td>\n",
       "    </tr>\n",
       "  </tbody>\n",
       "</table>\n",
       "</div>"
      ],
      "text/plain": [
       "        count         mean         std    min      25%     50%     75%     max\n",
       "semana                                                                        \n",
       "1         6.0   778.500000  285.639458  317.0   699.25   805.0   869.5  1189.0\n",
       "2         7.0   897.714286  486.108943  235.0   536.00  1055.0  1278.0  1366.0\n",
       "3         7.0   520.000000  464.532023   18.0    53.50   711.0   877.0  1050.0\n",
       "4         7.0   394.857143  298.834641   54.0   125.00   429.0   605.0   821.0\n",
       "5         7.0   698.714286  316.201789  317.0   499.00   712.0   817.5  1229.0\n",
       "6         7.0   865.571429  363.532602  289.0   686.50   892.0  1094.0  1317.0\n",
       "7         5.0  1288.200000  287.763271  945.0  1097.00  1302.0  1405.0  1692.0"
      ]
     },
     "execution_count": 11,
     "metadata": {},
     "output_type": "execute_result"
    }
   ],
   "source": [
    "# Verificando as medidas basicas para as vendas por semana\n",
    "df.groupby('semana')['Vendas'].describe()"
   ]
  },
  {
   "cell_type": "markdown",
   "id": "a9f1fa1d",
   "metadata": {},
   "source": [
    "## Realizando algumas verficações por gráficos"
   ]
  },
  {
   "cell_type": "code",
   "execution_count": 12,
   "id": "7b8ea503",
   "metadata": {},
   "outputs": [
    {
     "data": {
      "image/png": "[encoded data removed]",
      "text/plain": [
       "<Figure size 800x600 with 1 Axes>"
      ]
     },
     "metadata": {},
     "output_type": "display_data"
    }
   ],
   "source": [
    "# Criando um plot pra verificar a existência de outliers nos dias da semana\n",
    "sns.set_theme(style=\"ticks\", palette=\"pastel\")\n",
    "fig, ax = plt.subplots(figsize=(8,6))\n",
    "\n",
    "# plot\n",
    "\n",
    "sns.boxplot(x = df.dia_semana_nome, y = df.Vendas, data=df)\n",
    "sns.despine(offset=10, trim=True)\n",
    "ax.xaxis.set_label_text(\"Dia da semana\",fontdict= {'size':14})\n",
    "ax.yaxis.set_label_text(\"Vendas\",fontdict= {'size':14})\n",
    "plt.show()"
   ]
  },
  {
   "cell_type": "markdown",
   "id": "ef1727cc",
   "metadata": {},
   "source": [
    "Nota-se que, em geral, os dados não possuem extremidades e os valores estão dentro da linha de correção"
   ]
  },
  {
   "cell_type": "code",
   "execution_count": 13,
   "id": "836d6ba5",
   "metadata": {
    "scrolled": true
   },
   "outputs": [
    {
     "data": {
      "text/plain": [
       "<seaborn.axisgrid.FacetGrid at 0x2838c4a2880>"
      ]
     },
     "execution_count": 13,
     "metadata": {},
     "output_type": "execute_result"
    },
    {
     "data": {
      "image/png": "[encoded data removed]",
      "text/plain": [
       "<Figure size 900x600 with 1 Axes>"
      ]
     },
     "metadata": {},
     "output_type": "display_data"
    }
   ],
   "source": [
    "# Criando um gráfico para a distribuição de vendas ao longo dos dias da semana\n",
    "g = sns.catplot(x=\"dia_semana_nome\", y=\"Vendas\", data=df, kind=\"bar\", palette=\"BuPu\",\n",
    "            height=6, aspect=1.5)\n",
    "g.despine(left=True)\n",
    "g.set_axis_labels(\"\", 'Total de Vendas')"
   ]
  },
  {
   "cell_type": "markdown",
   "id": "dac9a1d3",
   "metadata": {},
   "source": [
    "Pelo gráfico, conseguimos notar que os melhores dias de venda são quinta e segunda"
   ]
  },
  {
   "cell_type": "markdown",
   "id": "70e25c6c",
   "metadata": {},
   "source": [
    "## Vamos verificar se existe disparidade entre as semanas do mês"
   ]
  },
  {
   "cell_type": "code",
   "execution_count": 14,
   "id": "a95d67f3",
   "metadata": {
    "scrolled": true
   },
   "outputs": [
    {
     "data": {
      "text/plain": [
       "<seaborn.axisgrid.FacetGrid at 0x2838ccf5e50>"
      ]
     },
     "execution_count": 14,
     "metadata": {},
     "output_type": "execute_result"
    },
    {
     "data": {
      "image/png": "[encoded data removed]",
      "text/plain": [
       "<Figure size 900x600 with 1 Axes>"
      ]
     },
     "metadata": {},
     "output_type": "display_data"
    }
   ],
   "source": [
    "# Criando um gráfico para ver a distribuição por semana\n",
    "g = sns.catplot(x=\"semana\", y=\"Vendas\", data=df, kind=\"bar\", palette=\"BuPu\",\n",
    "            height=6, aspect=1.5)\n",
    "g.despine(left=True)\n",
    "g.set_axis_labels(\"\", 'Total de Vendas')"
   ]
  },
  {
   "cell_type": "markdown",
   "id": "14c824d1",
   "metadata": {},
   "source": [
    "O gráfico demonstra um pleno crescimento de vendas nas últimas semanas"
   ]
  },
  {
   "cell_type": "code",
   "execution_count": 15,
   "id": "8cb69cbd",
   "metadata": {
    "scrolled": true
   },
   "outputs": [
    {
     "data": {
      "text/html": [
       "<div>\n",
       "<style scoped>\n",
       "    .dataframe tbody tr th:only-of-type {\n",
       "        vertical-align: middle;\n",
       "    }\n",
       "\n",
       "    .dataframe tbody tr th {\n",
       "        vertical-align: top;\n",
       "    }\n",
       "\n",
       "    .dataframe thead th {\n",
       "        text-align: right;\n",
       "    }\n",
       "</style>\n",
       "<table border=\"1\" class=\"dataframe\">\n",
       "  <thead>\n",
       "    <tr style=\"text-align: right;\">\n",
       "      <th></th>\n",
       "      <th>Data</th>\n",
       "      <th>dia</th>\n",
       "      <th>semana</th>\n",
       "      <th>mes</th>\n",
       "      <th>dia_semana_num</th>\n",
       "      <th>dia_semana_nome</th>\n",
       "      <th>Vendas</th>\n",
       "    </tr>\n",
       "  </thead>\n",
       "  <tbody>\n",
       "    <tr>\n",
       "      <th>0</th>\n",
       "      <td>2022-12-06</td>\n",
       "      <td>6</td>\n",
       "      <td>1</td>\n",
       "      <td>12</td>\n",
       "      <td>1</td>\n",
       "      <td>Tuesday</td>\n",
       "      <td>870</td>\n",
       "    </tr>\n",
       "    <tr>\n",
       "      <th>1</th>\n",
       "      <td>2022-12-07</td>\n",
       "      <td>7</td>\n",
       "      <td>1</td>\n",
       "      <td>12</td>\n",
       "      <td>2</td>\n",
       "      <td>Wednesday</td>\n",
       "      <td>868</td>\n",
       "    </tr>\n",
       "    <tr>\n",
       "      <th>2</th>\n",
       "      <td>2022-12-08</td>\n",
       "      <td>8</td>\n",
       "      <td>1</td>\n",
       "      <td>12</td>\n",
       "      <td>3</td>\n",
       "      <td>Thursday</td>\n",
       "      <td>1189</td>\n",
       "    </tr>\n",
       "    <tr>\n",
       "      <th>3</th>\n",
       "      <td>2022-12-09</td>\n",
       "      <td>9</td>\n",
       "      <td>1</td>\n",
       "      <td>12</td>\n",
       "      <td>4</td>\n",
       "      <td>Friday</td>\n",
       "      <td>742</td>\n",
       "    </tr>\n",
       "    <tr>\n",
       "      <th>4</th>\n",
       "      <td>2022-12-10</td>\n",
       "      <td>10</td>\n",
       "      <td>1</td>\n",
       "      <td>12</td>\n",
       "      <td>5</td>\n",
       "      <td>Saturday</td>\n",
       "      <td>317</td>\n",
       "    </tr>\n",
       "  </tbody>\n",
       "</table>\n",
       "</div>"
      ],
      "text/plain": [
       "        Data  dia  semana  mes  dia_semana_num dia_semana_nome  Vendas\n",
       "0 2022-12-06    6       1   12               1         Tuesday     870\n",
       "1 2022-12-07    7       1   12               2       Wednesday     868\n",
       "2 2022-12-08    8       1   12               3        Thursday    1189\n",
       "3 2022-12-09    9       1   12               4          Friday     742\n",
       "4 2022-12-10   10       1   12               5        Saturday     317"
      ]
     },
     "execution_count": 15,
     "metadata": {},
     "output_type": "execute_result"
    }
   ],
   "source": [
    "df.head()"
   ]
  },
  {
   "cell_type": "code",
   "execution_count": 16,
   "id": "4d71a34c",
   "metadata": {
    "scrolled": true
   },
   "outputs": [
    {
     "data": {
      "text/plain": [
       "Index(['Data', 'dia', 'semana', 'mes', 'dia_semana_num', 'dia_semana_nome',\n",
       "       'Vendas'],\n",
       "      dtype='object')"
      ]
     },
     "execution_count": 16,
     "metadata": {},
     "output_type": "execute_result"
    }
   ],
   "source": [
    "df.columns"
   ]
  },
  {
   "cell_type": "code",
   "execution_count": 17,
   "id": "9577f828",
   "metadata": {
    "scrolled": true
   },
   "outputs": [
    {
     "data": {
      "text/plain": [
       "<AxesSubplot:xlabel='Data', ylabel='Vendas'>"
      ]
     },
     "execution_count": 17,
     "metadata": {},
     "output_type": "execute_result"
    },
    {
     "data": {
      "image/png": "[encoded data removed]",
      "text/plain": [
       "<Figure size 640x480 with 1 Axes>"
      ]
     },
     "metadata": {},
     "output_type": "display_data"
    }
   ],
   "source": [
    "sns.lineplot(x=\"Data\", y=\"Vendas\",data=df)"
   ]
  },
  {
   "cell_type": "markdown",
   "id": "3c646101",
   "metadata": {},
   "source": [
    "# Realizando testes de previsões nos dados"
   ]
  },
  {
   "cell_type": "markdown",
   "id": "4e45f505",
   "metadata": {},
   "source": [
    "# ----------------------------------------"
   ]
  },
  {
   "cell_type": "markdown",
   "id": "7f27ce3e",
   "metadata": {},
   "source": [
    "## testando coisas"
   ]
  },
  {
   "cell_type": "code",
   "execution_count": 18,
   "id": "5617191b",
   "metadata": {
    "scrolled": true
   },
   "outputs": [
    {
     "name": "stdout",
     "output_type": "stream",
     "text": [
      "Requirement already satisfied: pmdarima in c:\\users\\junio\\anaconda3\\lib\\site-packages (2.0.2)\n",
      "Requirement already satisfied: joblib>=0.11 in c:\\users\\junio\\anaconda3\\lib\\site-packages (from pmdarima) (1.1.0)\n",
      "Requirement already satisfied: urllib3 in c:\\users\\junio\\anaconda3\\lib\\site-packages (from pmdarima) (1.26.11)\n",
      "Requirement already satisfied: setuptools!=50.0.0,>=38.6.0 in c:\\users\\junio\\anaconda3\\lib\\site-packages (from pmdarima) (63.4.1)\n",
      "Requirement already satisfied: statsmodels>=0.13.2 in c:\\users\\junio\\anaconda3\\lib\\site-packages (from pmdarima) (0.13.2)\n",
      "Requirement already satisfied: scikit-learn>=0.22 in c:\\users\\junio\\anaconda3\\lib\\site-packages (from pmdarima) (1.0.2)\n",
      "Requirement already satisfied: scipy>=1.3.2 in c:\\users\\junio\\anaconda3\\lib\\site-packages (from pmdarima) (1.9.1)\n",
      "Requirement already satisfied: pandas>=0.19 in c:\\users\\junio\\anaconda3\\lib\\site-packages (from pmdarima) (1.4.4)\n",
      "Requirement already satisfied: numpy>=1.21.2 in c:\\users\\junio\\anaconda3\\lib\\site-packages (from pmdarima) (1.21.5)\n",
      "Requirement already satisfied: Cython!=0.29.18,!=0.29.31,>=0.29 in c:\\users\\junio\\anaconda3\\lib\\site-packages (from pmdarima) (0.29.32)\n",
      "Requirement already satisfied: python-dateutil>=2.8.1 in c:\\users\\junio\\anaconda3\\lib\\site-packages (from pandas>=0.19->pmdarima) (2.8.2)\n",
      "Requirement already satisfied: pytz>=2020.1 in c:\\users\\junio\\anaconda3\\lib\\site-packages (from pandas>=0.19->pmdarima) (2022.1)\n",
      "Requirement already satisfied: threadpoolctl>=2.0.0 in c:\\users\\junio\\anaconda3\\lib\\site-packages (from scikit-learn>=0.22->pmdarima) (2.2.0)\n",
      "Requirement already satisfied: patsy>=0.5.2 in c:\\users\\junio\\anaconda3\\lib\\site-packages (from statsmodels>=0.13.2->pmdarima) (0.5.2)\n",
      "Requirement already satisfied: packaging>=21.3 in c:\\users\\junio\\anaconda3\\lib\\site-packages (from statsmodels>=0.13.2->pmdarima) (21.3)\n",
      "Requirement already satisfied: pyparsing!=3.0.5,>=2.0.2 in c:\\users\\junio\\anaconda3\\lib\\site-packages (from packaging>=21.3->statsmodels>=0.13.2->pmdarima) (3.0.9)\n",
      "Requirement already satisfied: six in c:\\users\\junio\\anaconda3\\lib\\site-packages (from patsy>=0.5.2->statsmodels>=0.13.2->pmdarima) (1.16.0)\n"
     ]
    }
   ],
   "source": [
    "# Baixando a biblioteca necessaria para fazer a previsão\n",
    "!pip install pmdarima\n",
    "from pmdarima.arima import auto_arima\n"
   ]
  },
  {
   "cell_type": "code",
   "execution_count": 19,
   "id": "e5fc2581",
   "metadata": {
    "scrolled": true
   },
   "outputs": [
    {
     "data": {
      "text/html": [
       "<div>\n",
       "<style scoped>\n",
       "    .dataframe tbody tr th:only-of-type {\n",
       "        vertical-align: middle;\n",
       "    }\n",
       "\n",
       "    .dataframe tbody tr th {\n",
       "        vertical-align: top;\n",
       "    }\n",
       "\n",
       "    .dataframe thead th {\n",
       "        text-align: right;\n",
       "    }\n",
       "</style>\n",
       "<table border=\"1\" class=\"dataframe\">\n",
       "  <thead>\n",
       "    <tr style=\"text-align: right;\">\n",
       "      <th></th>\n",
       "      <th>Vendas</th>\n",
       "    </tr>\n",
       "    <tr>\n",
       "      <th>Data</th>\n",
       "      <th></th>\n",
       "    </tr>\n",
       "  </thead>\n",
       "  <tbody>\n",
       "    <tr>\n",
       "      <th>2022-12-06</th>\n",
       "      <td>870</td>\n",
       "    </tr>\n",
       "    <tr>\n",
       "      <th>2022-12-07</th>\n",
       "      <td>868</td>\n",
       "    </tr>\n",
       "    <tr>\n",
       "      <th>2022-12-08</th>\n",
       "      <td>1189</td>\n",
       "    </tr>\n",
       "    <tr>\n",
       "      <th>2022-12-09</th>\n",
       "      <td>742</td>\n",
       "    </tr>\n",
       "    <tr>\n",
       "      <th>2022-12-10</th>\n",
       "      <td>317</td>\n",
       "    </tr>\n",
       "  </tbody>\n",
       "</table>\n",
       "</div>"
      ],
      "text/plain": [
       "            Vendas\n",
       "Data              \n",
       "2022-12-06     870\n",
       "2022-12-07     868\n",
       "2022-12-08    1189\n",
       "2022-12-09     742\n",
       "2022-12-10     317"
      ]
     },
     "execution_count": 19,
     "metadata": {},
     "output_type": "execute_result"
    }
   ],
   "source": [
    "# Importando novamente os dados, mas desta vez usando somente as duas colunas primarias\n",
    "data_new = pd.read_excel('Dados.xlsx', parse_dates=['Data'], index_col='Data')\n",
    "data_new.head()"
   ]
  },
  {
   "cell_type": "code",
   "execution_count": 20,
   "id": "e058ee1d",
   "metadata": {},
   "outputs": [
    {
     "data": {
      "text/plain": [
       "(0.32861105775592603, True)"
      ]
     },
     "execution_count": 20,
     "metadata": {},
     "output_type": "execute_result"
    }
   ],
   "source": [
    "# Verificando se os dados são estacionarios\n",
    "from pmdarima.arima import ADFTest \n",
    "adf_test = ADFTest(alpha = 0.05)\n",
    "adf_test.should_diff(data_new)"
   ]
  },
  {
   "cell_type": "code",
   "execution_count": 21,
   "id": "c92aebb2",
   "metadata": {
    "scrolled": true
   },
   "outputs": [
    {
     "name": "stderr",
     "output_type": "stream",
     "text": [
      "C:\\Users\\junio\\anaconda3\\lib\\site-packages\\pmdarima\\utils\\visualization.py:220: FutureWarning: the 'unbiased'' keyword is deprecated, use 'adjusted' instead.\n",
      "  res = tsaplots.plot_acf(\n"
     ]
    },
    {
     "data": {
      "image/png": "[encoded data removed]",
      "text/plain": [
       "<Figure size 640x480 with 1 Axes>"
      ]
     },
     "metadata": {},
     "output_type": "display_data"
    }
   ],
   "source": [
    "# Plotando um grafico pra verificar se os dados sao constantes\n",
    "import pmdarima as pm\n",
    "from pmdarima import datasets\n",
    "\n",
    "pm.plot_acf(data_new)"
   ]
  },
  {
   "cell_type": "markdown",
   "id": "eff99e07",
   "metadata": {},
   "source": [
    "Conclui-se tanto pelo gráfico, quando pelo ADF teste que os dados não são estacionarios"
   ]
  },
  {
   "cell_type": "code",
   "execution_count": 22,
   "id": "71f5434d",
   "metadata": {
    "scrolled": true
   },
   "outputs": [],
   "source": [
    "test = data_new.copy()\n",
    "test['diference'] = test['Vendas'] - test['Vendas'].shift(1)"
   ]
  },
  {
   "cell_type": "code",
   "execution_count": 23,
   "id": "dd3f29d4",
   "metadata": {
    "scrolled": true
   },
   "outputs": [],
   "source": [
    "test = test.drop('Vendas', axis=1)\n",
    "test =test.dropna()\n"
   ]
  },
  {
   "cell_type": "code",
   "execution_count": 24,
   "id": "837793b4",
   "metadata": {},
   "outputs": [
    {
     "name": "stderr",
     "output_type": "stream",
     "text": [
      "C:\\Users\\junio\\anaconda3\\lib\\site-packages\\pmdarima\\utils\\visualization.py:220: FutureWarning: the 'unbiased'' keyword is deprecated, use 'adjusted' instead.\n",
      "  res = tsaplots.plot_acf(\n"
     ]
    },
    {
     "data": {
      "image/png": "[encoded data removed]",
      "text/plain": [
       "<Figure size 640x480 with 1 Axes>"
      ]
     },
     "metadata": {},
     "output_type": "display_data"
    }
   ],
   "source": [
    "pm.plot_acf(test)"
   ]
  },
  {
   "cell_type": "code",
   "execution_count": 25,
   "id": "a921e4f7",
   "metadata": {},
   "outputs": [
    {
     "name": "stdout",
     "output_type": "stream",
     "text": [
      "<class 'pandas.core.frame.DataFrame'>\n",
      "DatetimeIndex: 45 entries, 2022-12-07 to 2023-01-20\n",
      "Data columns (total 1 columns):\n",
      " #   Column     Non-Null Count  Dtype  \n",
      "---  ------     --------------  -----  \n",
      " 0   diference  45 non-null     float64\n",
      "dtypes: float64(1)\n",
      "memory usage: 720.0 bytes\n"
     ]
    }
   ],
   "source": [
    "test.info()\n",
    "test['diference'] = test['diference'].astype(int)"
   ]
  },
  {
   "cell_type": "code",
   "execution_count": null,
   "id": "55bfe2b7",
   "metadata": {},
   "outputs": [],
   "source": []
  },
  {
   "cell_type": "code",
   "execution_count": 26,
   "id": "985b605b",
   "metadata": {},
   "outputs": [
    {
     "name": "stdout",
     "output_type": "stream",
     "text": [
      "<class 'pandas.core.frame.DataFrame'>\n",
      "DatetimeIndex: 46 entries, 2022-12-06 to 2023-01-20\n",
      "Data columns (total 1 columns):\n",
      " #   Column  Non-Null Count  Dtype\n",
      "---  ------  --------------  -----\n",
      " 0   Vendas  46 non-null     int64\n",
      "dtypes: int64(1)\n",
      "memory usage: 736.0 bytes\n"
     ]
    }
   ],
   "source": [
    "data_new.info()"
   ]
  },
  {
   "cell_type": "code",
   "execution_count": null,
   "id": "6b0969ad",
   "metadata": {},
   "outputs": [],
   "source": []
  },
  {
   "cell_type": "code",
   "execution_count": null,
   "id": "07c6dae5",
   "metadata": {},
   "outputs": [],
   "source": []
  },
  {
   "cell_type": "code",
   "execution_count": null,
   "id": "652039b9",
   "metadata": {},
   "outputs": [],
   "source": []
  },
  {
   "cell_type": "code",
   "execution_count": null,
   "id": "f65d5664",
   "metadata": {},
   "outputs": [],
   "source": []
  },
  {
   "cell_type": "code",
   "execution_count": 27,
   "id": "88e6bd7f",
   "metadata": {
    "scrolled": true
   },
   "outputs": [
    {
     "name": "stdout",
     "output_type": "stream",
     "text": [
      " ARIMA(0,1,0)(0,0,0)[7] intercept   : AIC=684.150, Time=0.02 sec\n",
      " ARIMA(0,1,0)(0,0,1)[7] intercept   : AIC=656.944, Time=0.11 sec\n",
      " ARIMA(0,1,0)(0,0,2)[7] intercept   : AIC=646.798, Time=0.16 sec\n",
      " ARIMA(0,1,0)(1,0,0)[7] intercept   : AIC=631.523, Time=0.09 sec\n",
      " ARIMA(0,1,0)(1,0,1)[7] intercept   : AIC=631.061, Time=0.26 sec\n",
      " ARIMA(0,1,0)(1,0,2)[7] intercept   : AIC=inf, Time=0.32 sec\n",
      " ARIMA(0,1,0)(2,0,0)[7] intercept   : AIC=632.959, Time=0.18 sec\n",
      " ARIMA(0,1,0)(2,0,1)[7] intercept   : AIC=inf, Time=0.31 sec\n",
      " ARIMA(0,1,0)(2,0,2)[7] intercept   : AIC=inf, Time=0.39 sec\n",
      " ARIMA(0,1,1)(0,0,0)[7] intercept   : AIC=676.725, Time=0.05 sec\n",
      " ARIMA(0,1,1)(0,0,1)[7] intercept   : AIC=inf, Time=0.16 sec\n",
      " ARIMA(0,1,1)(0,0,2)[7] intercept   : AIC=645.851, Time=0.30 sec\n",
      " ARIMA(0,1,1)(1,0,0)[7] intercept   : AIC=629.608, Time=0.13 sec\n",
      " ARIMA(0,1,1)(1,0,1)[7] intercept   : AIC=625.348, Time=0.33 sec\n",
      " ARIMA(0,1,1)(1,0,2)[7] intercept   : AIC=631.911, Time=0.45 sec\n",
      " ARIMA(0,1,1)(2,0,0)[7] intercept   : AIC=630.508, Time=0.33 sec\n",
      " ARIMA(0,1,1)(2,0,1)[7] intercept   : AIC=inf, Time=0.56 sec\n",
      " ARIMA(0,1,1)(2,0,2)[7] intercept   : AIC=inf, Time=0.48 sec\n",
      " ARIMA(0,1,2)(0,0,0)[7] intercept   : AIC=672.705, Time=0.14 sec\n",
      " ARIMA(0,1,2)(0,0,1)[7] intercept   : AIC=inf, Time=0.30 sec\n",
      " ARIMA(0,1,2)(0,0,2)[7] intercept   : AIC=642.065, Time=0.54 sec\n",
      " ARIMA(0,1,2)(1,0,0)[7] intercept   : AIC=630.352, Time=0.26 sec\n",
      " ARIMA(0,1,2)(1,0,1)[7] intercept   : AIC=630.173, Time=0.46 sec\n",
      " ARIMA(0,1,2)(1,0,2)[7] intercept   : AIC=631.216, Time=0.57 sec\n",
      " ARIMA(0,1,2)(2,0,0)[7] intercept   : AIC=631.775, Time=0.44 sec\n",
      " ARIMA(0,1,2)(2,0,1)[7] intercept   : AIC=inf, Time=0.48 sec\n",
      " ARIMA(0,1,3)(0,0,0)[7] intercept   : AIC=672.274, Time=0.33 sec\n",
      " ARIMA(0,1,3)(0,0,1)[7] intercept   : AIC=inf, Time=0.50 sec\n",
      " ARIMA(0,1,3)(0,0,2)[7] intercept   : AIC=inf, Time=0.59 sec\n",
      " ARIMA(0,1,3)(1,0,0)[7] intercept   : AIC=631.882, Time=0.32 sec\n",
      " ARIMA(0,1,3)(1,0,1)[7] intercept   : AIC=633.494, Time=0.51 sec\n",
      " ARIMA(0,1,3)(2,0,0)[7] intercept   : AIC=633.118, Time=0.60 sec\n",
      " ARIMA(0,1,4)(0,0,0)[7] intercept   : AIC=inf, Time=0.34 sec\n",
      " ARIMA(0,1,4)(0,0,1)[7] intercept   : AIC=650.758, Time=0.45 sec\n",
      " ARIMA(0,1,4)(1,0,0)[7] intercept   : AIC=639.950, Time=0.41 sec\n",
      " ARIMA(0,1,5)(0,0,0)[7] intercept   : AIC=inf, Time=0.33 sec\n",
      " ARIMA(1,1,0)(0,0,0)[7] intercept   : AIC=684.601, Time=0.05 sec\n",
      " ARIMA(1,1,0)(0,0,1)[7] intercept   : AIC=657.524, Time=0.28 sec\n",
      " ARIMA(1,1,0)(0,0,2)[7] intercept   : AIC=647.785, Time=0.25 sec\n",
      " ARIMA(1,1,0)(1,0,0)[7] intercept   : AIC=631.133, Time=0.24 sec\n",
      " ARIMA(1,1,0)(1,0,1)[7] intercept   : AIC=inf, Time=0.39 sec\n",
      " ARIMA(1,1,0)(1,0,2)[7] intercept   : AIC=626.804, Time=0.49 sec\n",
      " ARIMA(1,1,0)(2,0,0)[7] intercept   : AIC=632.068, Time=0.40 sec\n",
      " ARIMA(1,1,0)(2,0,1)[7] intercept   : AIC=inf, Time=0.71 sec\n",
      " ARIMA(1,1,0)(2,0,2)[7] intercept   : AIC=inf, Time=0.48 sec\n",
      " ARIMA(1,1,1)(0,0,0)[7] intercept   : AIC=675.406, Time=0.13 sec\n",
      " ARIMA(1,1,1)(0,0,1)[7] intercept   : AIC=inf, Time=0.21 sec\n",
      " ARIMA(1,1,1)(0,0,2)[7] intercept   : AIC=inf, Time=0.31 sec\n",
      " ARIMA(1,1,1)(1,0,0)[7] intercept   : AIC=inf, Time=0.29 sec\n",
      " ARIMA(1,1,1)(1,0,1)[7] intercept   : AIC=inf, Time=0.33 sec\n",
      " ARIMA(1,1,1)(1,0,2)[7] intercept   : AIC=inf, Time=0.40 sec\n",
      " ARIMA(1,1,1)(2,0,0)[7] intercept   : AIC=inf, Time=0.42 sec\n",
      " ARIMA(1,1,1)(2,0,1)[7] intercept   : AIC=inf, Time=0.47 sec\n",
      " ARIMA(1,1,2)(0,0,0)[7] intercept   : AIC=671.552, Time=0.17 sec\n",
      " ARIMA(1,1,2)(0,0,1)[7] intercept   : AIC=inf, Time=0.34 sec\n",
      " ARIMA(1,1,2)(0,0,2)[7] intercept   : AIC=inf, Time=0.38 sec\n",
      " ARIMA(1,1,2)(1,0,0)[7] intercept   : AIC=inf, Time=0.25 sec\n",
      " ARIMA(1,1,2)(1,0,1)[7] intercept   : AIC=629.913, Time=0.43 sec\n",
      " ARIMA(1,1,2)(2,0,0)[7] intercept   : AIC=inf, Time=0.35 sec\n",
      " ARIMA(1,1,3)(0,0,0)[7] intercept   : AIC=inf, Time=0.20 sec\n",
      " ARIMA(1,1,3)(0,0,1)[7] intercept   : AIC=inf, Time=0.33 sec\n",
      " ARIMA(1,1,3)(1,0,0)[7] intercept   : AIC=inf, Time=0.24 sec\n",
      " ARIMA(1,1,4)(0,0,0)[7] intercept   : AIC=inf, Time=0.27 sec\n",
      " ARIMA(2,1,0)(0,0,0)[7] intercept   : AIC=677.786, Time=0.07 sec\n",
      " ARIMA(2,1,0)(0,0,1)[7] intercept   : AIC=651.797, Time=0.26 sec\n",
      " ARIMA(2,1,0)(0,0,2)[7] intercept   : AIC=644.592, Time=0.42 sec\n",
      " ARIMA(2,1,0)(1,0,0)[7] intercept   : AIC=630.257, Time=0.30 sec\n",
      " ARIMA(2,1,0)(1,0,1)[7] intercept   : AIC=626.880, Time=0.21 sec\n",
      " ARIMA(2,1,0)(1,0,2)[7] intercept   : AIC=inf, Time=0.40 sec\n",
      " ARIMA(2,1,0)(2,0,0)[7] intercept   : AIC=631.422, Time=0.29 sec\n",
      " ARIMA(2,1,0)(2,0,1)[7] intercept   : AIC=inf, Time=0.40 sec\n",
      " ARIMA(2,1,1)(0,0,0)[7] intercept   : AIC=674.267, Time=0.18 sec\n",
      " ARIMA(2,1,1)(0,0,1)[7] intercept   : AIC=inf, Time=0.33 sec\n",
      " ARIMA(2,1,1)(0,0,2)[7] intercept   : AIC=645.347, Time=0.38 sec\n",
      " ARIMA(2,1,1)(1,0,0)[7] intercept   : AIC=632.112, Time=0.28 sec\n",
      " ARIMA(2,1,1)(1,0,1)[7] intercept   : AIC=629.453, Time=0.36 sec\n",
      " ARIMA(2,1,1)(2,0,0)[7] intercept   : AIC=inf, Time=0.44 sec\n",
      " ARIMA(2,1,2)(0,0,0)[7] intercept   : AIC=673.544, Time=0.23 sec\n",
      " ARIMA(2,1,2)(0,0,1)[7] intercept   : AIC=652.923, Time=0.41 sec\n",
      " ARIMA(2,1,2)(1,0,0)[7] intercept   : AIC=inf, Time=0.30 sec\n",
      " ARIMA(2,1,3)(0,0,0)[7] intercept   : AIC=inf, Time=0.19 sec\n",
      " ARIMA(3,1,0)(0,0,0)[7] intercept   : AIC=679.277, Time=0.08 sec\n",
      " ARIMA(3,1,0)(0,0,1)[7] intercept   : AIC=653.304, Time=0.18 sec\n",
      " ARIMA(3,1,0)(0,0,2)[7] intercept   : AIC=646.274, Time=0.27 sec\n",
      " ARIMA(3,1,0)(1,0,0)[7] intercept   : AIC=632.247, Time=0.25 sec\n",
      " ARIMA(3,1,0)(1,0,1)[7] intercept   : AIC=630.972, Time=0.34 sec\n",
      " ARIMA(3,1,0)(2,0,0)[7] intercept   : AIC=633.388, Time=0.33 sec\n",
      " ARIMA(3,1,1)(0,0,0)[7] intercept   : AIC=676.167, Time=0.18 sec\n",
      " ARIMA(3,1,1)(0,0,1)[7] intercept   : AIC=650.139, Time=0.32 sec\n",
      " ARIMA(3,1,1)(1,0,0)[7] intercept   : AIC=inf, Time=0.33 sec\n",
      " ARIMA(3,1,2)(0,0,0)[7] intercept   : AIC=674.974, Time=0.21 sec\n",
      " ARIMA(4,1,0)(0,0,0)[7] intercept   : AIC=680.224, Time=0.08 sec\n",
      " ARIMA(4,1,0)(0,0,1)[7] intercept   : AIC=654.461, Time=0.28 sec\n",
      " ARIMA(4,1,0)(1,0,0)[7] intercept   : AIC=633.312, Time=0.24 sec\n",
      " ARIMA(4,1,1)(0,0,0)[7] intercept   : AIC=675.863, Time=0.20 sec\n",
      " ARIMA(5,1,0)(0,0,0)[7] intercept   : AIC=670.383, Time=0.11 sec\n",
      "\n",
      "Best model:  ARIMA(0,1,1)(1,0,1)[7] intercept\n",
      "Total fit time: 29.915 seconds\n"
     ]
    }
   ],
   "source": [
    "# Criando o modelo com os parametros base,\n",
    "# considero que a base de dados é sasional\n",
    "modelo = auto_arima(data_new, start_p = 1, start_q = 1, max_p = 6, m = 7, test = 'pp',\n",
    "                            max_q = 6, start_P = 0, seasonal = True, d = 1,\n",
    "                           D = 0, trace = True, error_action = 'ignore',\n",
    "                            suppress_warnings = True, stepwise = False)\n",
    "# 625\n",
    "\n",
    "# modelo = auto_arima(data_new, start_p=1, start_q=1, test='pp',\n",
    "#                       max_p=6, max_q=6, m=7, seasonal=True, start_P=0, \n",
    "#                       D=0, trace=True, error_action='ignore',\n",
    "#                       suppress_warnings=True, stepwise=False) \n",
    "# # 510 \n",
    "\n"
   ]
  },
  {
   "cell_type": "code",
   "execution_count": 28,
   "id": "51958590",
   "metadata": {
    "scrolled": true
   },
   "outputs": [
    {
     "name": "stdout",
     "output_type": "stream",
     "text": [
      "625.3478155886763\n"
     ]
    }
   ],
   "source": [
    "# verificando o indice com melhor perfomance\n",
    "print(modelo.aic()) "
   ]
  },
  {
   "cell_type": "code",
   "execution_count": 29,
   "id": "d431fe62",
   "metadata": {},
   "outputs": [],
   "source": [
    "# Separando dados de treino e de teste com % 80 - 20\n",
    "train = data_new.iloc[0:37]\n",
    "test = data_new.iloc[37:]"
   ]
  },
  {
   "cell_type": "code",
   "execution_count": 30,
   "id": "87850777",
   "metadata": {},
   "outputs": [
    {
     "data": {
      "text/plain": [
       "ARIMA(order=(0, 1, 1), scoring_args={}, seasonal_order=(1, 0, 1, 7),\n",
       "      suppress_warnings=True)"
      ]
     },
     "execution_count": 30,
     "metadata": {},
     "output_type": "execute_result"
    }
   ],
   "source": [
    "# Treinando o modelo \n",
    "modelo.fit(train)"
   ]
  },
  {
   "cell_type": "code",
   "execution_count": 31,
   "id": "f57fa666",
   "metadata": {},
   "outputs": [],
   "source": [
    "# Fazendo predicoes\n",
    "predicao = modelo.predict(n_periods = 13)\n",
    "predicao = pd.DataFrame(predicao, index= test.index, columns = ['Vendas'])"
   ]
  },
  {
   "cell_type": "code",
   "execution_count": 32,
   "id": "05b105fe",
   "metadata": {
    "scrolled": true
   },
   "outputs": [
    {
     "data": {
      "text/plain": [
       "<AxesSubplot:xlabel='Data'>"
      ]
     },
     "execution_count": 32,
     "metadata": {},
     "output_type": "execute_result"
    },
    {
     "data": {
      "image/png": "[encoded data removed]",
      "text/plain": [
       "<Figure size 640x480 with 1 Axes>"
      ]
     },
     "metadata": {},
     "output_type": "display_data"
    }
   ],
   "source": [
    "# Realizando um plot de comparacao dos dados previstos e reais\n",
    "\n",
    "pd.concat([data_new, predicao], axis = 1).plot()"
   ]
  },
  {
   "cell_type": "code",
   "execution_count": 33,
   "id": "a2d9725c",
   "metadata": {
    "scrolled": true
   },
   "outputs": [
    {
     "data": {
      "text/html": [
       "<table class=\"simpletable\">\n",
       "<caption>SARIMAX Results</caption>\n",
       "<tr>\n",
       "  <th>Dep. Variable:</th>                 <td>y</td>               <th>  No. Observations:  </th>    <td>37</td>   \n",
       "</tr>\n",
       "<tr>\n",
       "  <th>Model:</th>           <td>SARIMAX(0, 1, 1)x(1, 0, 1, 7)</td> <th>  Log Likelihood     </th> <td>-248.482</td>\n",
       "</tr>\n",
       "<tr>\n",
       "  <th>Date:</th>                  <td>Wed, 01 Feb 2023</td>        <th>  AIC                </th>  <td>506.964</td>\n",
       "</tr>\n",
       "<tr>\n",
       "  <th>Time:</th>                      <td>20:57:15</td>            <th>  BIC                </th>  <td>514.882</td>\n",
       "</tr>\n",
       "<tr>\n",
       "  <th>Sample:</th>                   <td>12-06-2022</td>           <th>  HQIC               </th>  <td>509.727</td>\n",
       "</tr>\n",
       "<tr>\n",
       "  <th></th>                         <td>- 01-11-2023</td>          <th>                     </th>     <td> </td>   \n",
       "</tr>\n",
       "<tr>\n",
       "  <th>Covariance Type:</th>              <td>opg</td>              <th>                     </th>     <td> </td>   \n",
       "</tr>\n",
       "</table>\n",
       "<table class=\"simpletable\">\n",
       "<tr>\n",
       "      <td></td>         <th>coef</th>     <th>std err</th>      <th>z</th>      <th>P>|z|</th>  <th>[0.025</th>    <th>0.975]</th>  \n",
       "</tr>\n",
       "<tr>\n",
       "  <th>intercept</th> <td>   -0.8772</td> <td>    3.169</td> <td>   -0.277</td> <td> 0.782</td> <td>   -7.089</td> <td>    5.334</td>\n",
       "</tr>\n",
       "<tr>\n",
       "  <th>ma.L1</th>     <td>   -0.2882</td> <td>    0.149</td> <td>   -1.930</td> <td> 0.054</td> <td>   -0.581</td> <td>    0.004</td>\n",
       "</tr>\n",
       "<tr>\n",
       "  <th>ar.S.L7</th>   <td>    0.9749</td> <td>    0.042</td> <td>   23.400</td> <td> 0.000</td> <td>    0.893</td> <td>    1.057</td>\n",
       "</tr>\n",
       "<tr>\n",
       "  <th>ma.S.L7</th>   <td>   -0.5390</td> <td>    0.329</td> <td>   -1.638</td> <td> 0.101</td> <td>   -1.184</td> <td>    0.106</td>\n",
       "</tr>\n",
       "<tr>\n",
       "  <th>sigma2</th>    <td> 3.974e+04</td> <td> 1.18e+04</td> <td>    3.374</td> <td> 0.001</td> <td> 1.67e+04</td> <td> 6.28e+04</td>\n",
       "</tr>\n",
       "</table>\n",
       "<table class=\"simpletable\">\n",
       "<tr>\n",
       "  <th>Ljung-Box (L1) (Q):</th>     <td>0.12</td> <th>  Jarque-Bera (JB):  </th> <td>0.49</td> \n",
       "</tr>\n",
       "<tr>\n",
       "  <th>Prob(Q):</th>                <td>0.73</td> <th>  Prob(JB):          </th> <td>0.78</td> \n",
       "</tr>\n",
       "<tr>\n",
       "  <th>Heteroskedasticity (H):</th> <td>1.11</td> <th>  Skew:              </th> <td>-0.28</td>\n",
       "</tr>\n",
       "<tr>\n",
       "  <th>Prob(H) (two-sided):</th>    <td>0.86</td> <th>  Kurtosis:          </th> <td>2.94</td> \n",
       "</tr>\n",
       "</table><br/><br/>Warnings:<br/>[1] Covariance matrix calculated using the outer product of gradients (complex-step)."
      ],
      "text/plain": [
       "<class 'statsmodels.iolib.summary.Summary'>\n",
       "\"\"\"\n",
       "                                     SARIMAX Results                                     \n",
       "=========================================================================================\n",
       "Dep. Variable:                                 y   No. Observations:                   37\n",
       "Model:             SARIMAX(0, 1, 1)x(1, 0, 1, 7)   Log Likelihood                -248.482\n",
       "Date:                           Wed, 01 Feb 2023   AIC                            506.964\n",
       "Time:                                   20:57:15   BIC                            514.882\n",
       "Sample:                               12-06-2022   HQIC                           509.727\n",
       "                                    - 01-11-2023                                         \n",
       "Covariance Type:                             opg                                         \n",
       "==============================================================================\n",
       "                 coef    std err          z      P>|z|      [0.025      0.975]\n",
       "------------------------------------------------------------------------------\n",
       "intercept     -0.8772      3.169     -0.277      0.782      -7.089       5.334\n",
       "ma.L1         -0.2882      0.149     -1.930      0.054      -0.581       0.004\n",
       "ar.S.L7        0.9749      0.042     23.400      0.000       0.893       1.057\n",
       "ma.S.L7       -0.5390      0.329     -1.638      0.101      -1.184       0.106\n",
       "sigma2      3.974e+04   1.18e+04      3.374      0.001    1.67e+04    6.28e+04\n",
       "===================================================================================\n",
       "Ljung-Box (L1) (Q):                   0.12   Jarque-Bera (JB):                 0.49\n",
       "Prob(Q):                              0.73   Prob(JB):                         0.78\n",
       "Heteroskedasticity (H):               1.11   Skew:                            -0.28\n",
       "Prob(H) (two-sided):                  0.86   Kurtosis:                         2.94\n",
       "===================================================================================\n",
       "\n",
       "Warnings:\n",
       "[1] Covariance matrix calculated using the outer product of gradients (complex-step).\n",
       "\"\"\""
      ]
     },
     "execution_count": 33,
     "metadata": {},
     "output_type": "execute_result"
    }
   ],
   "source": [
    "# Verificando os dados base da predicao\n",
    "modelo.summary()"
   ]
  },
  {
   "cell_type": "code",
   "execution_count": 35,
   "id": "ce898483",
   "metadata": {
    "scrolled": true
   },
   "outputs": [
    {
     "data": {
      "text/html": [
       "<div>\n",
       "<style scoped>\n",
       "    .dataframe tbody tr th:only-of-type {\n",
       "        vertical-align: middle;\n",
       "    }\n",
       "\n",
       "    .dataframe tbody tr th {\n",
       "        vertical-align: top;\n",
       "    }\n",
       "\n",
       "    .dataframe thead th {\n",
       "        text-align: right;\n",
       "    }\n",
       "</style>\n",
       "<table border=\"1\" class=\"dataframe\">\n",
       "  <thead>\n",
       "    <tr style=\"text-align: right;\">\n",
       "      <th></th>\n",
       "      <th>Vendas</th>\n",
       "      <th>Predicao</th>\n",
       "    </tr>\n",
       "    <tr>\n",
       "      <th>Data</th>\n",
       "      <th></th>\n",
       "      <th></th>\n",
       "    </tr>\n",
       "  </thead>\n",
       "  <tbody>\n",
       "    <tr>\n",
       "      <th>2023-01-12</th>\n",
       "      <td>1265</td>\n",
       "      <td>1250.326873</td>\n",
       "    </tr>\n",
       "    <tr>\n",
       "      <th>2023-01-13</th>\n",
       "      <td>892</td>\n",
       "      <td>747.210067</td>\n",
       "    </tr>\n",
       "    <tr>\n",
       "      <th>2023-01-14</th>\n",
       "      <td>289</td>\n",
       "      <td>446.013454</td>\n",
       "    </tr>\n",
       "    <tr>\n",
       "      <th>2023-01-15</th>\n",
       "      <td>566</td>\n",
       "      <td>488.005783</td>\n",
       "    </tr>\n",
       "    <tr>\n",
       "      <th>2023-01-16</th>\n",
       "      <td>1692</td>\n",
       "      <td>1284.307319</td>\n",
       "    </tr>\n",
       "    <tr>\n",
       "      <th>2023-01-17</th>\n",
       "      <td>1097</td>\n",
       "      <td>959.242570</td>\n",
       "    </tr>\n",
       "    <tr>\n",
       "      <th>2023-01-18</th>\n",
       "      <td>1302</td>\n",
       "      <td>993.058550</td>\n",
       "    </tr>\n",
       "    <tr>\n",
       "      <th>2023-01-19</th>\n",
       "      <td>1405</td>\n",
       "      <td>1323.170799</td>\n",
       "    </tr>\n",
       "    <tr>\n",
       "      <th>2023-01-20</th>\n",
       "      <td>945</td>\n",
       "      <td>831.808194</td>\n",
       "    </tr>\n",
       "  </tbody>\n",
       "</table>\n",
       "</div>"
      ],
      "text/plain": [
       "            Vendas     Predicao\n",
       "Data                           \n",
       "2023-01-12    1265  1250.326873\n",
       "2023-01-13     892   747.210067\n",
       "2023-01-14     289   446.013454\n",
       "2023-01-15     566   488.005783\n",
       "2023-01-16    1692  1284.307319\n",
       "2023-01-17    1097   959.242570\n",
       "2023-01-18    1302   993.058550\n",
       "2023-01-19    1405  1323.170799\n",
       "2023-01-20     945   831.808194"
      ]
     },
     "execution_count": 35,
     "metadata": {},
     "output_type": "execute_result"
    }
   ],
   "source": [
    "# Verificando o indice de acuracia para o processo\n",
    "\n",
    "from sklearn.metrics import r2_score\n",
    "test['Predicao'] = predicao.Vendas\n",
    "test"
   ]
  },
  {
   "cell_type": "code",
   "execution_count": null,
   "id": "4d27827b",
   "metadata": {},
   "outputs": [],
   "source": [
    "print('Acuracia: ', r2_score(test['Vendas'], test['Predicao']))"
   ]
  },
  {
   "cell_type": "code",
   "execution_count": null,
   "id": "9ca95b7b",
   "metadata": {},
   "outputs": [],
   "source": []
  }
 ],
 "metadata": {
  "kernelspec": {
   "display_name": "Python 3 (ipykernel)",
   "language": "python",
   "name": "python3"
  },
  "language_info": {
   "codemirror_mode": {
    "name": "ipython",
    "version": 3
   },
   "file_extension": ".py",
   "mimetype": "text/x-python",
   "name": "python",
   "nbconvert_exporter": "python",
   "pygments_lexer": "ipython3",
   "version": "3.9.13"
  }
 },
 "nbformat": 4,
 "nbformat_minor": 5
}
